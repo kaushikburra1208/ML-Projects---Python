{
 "cells": [
  {
   "cell_type": "markdown",
   "metadata": {},
   "source": [
    "## Develop a Deep Learning Based Churn Prediction Engine\n"
   ]
  },
  {
   "cell_type": "markdown",
   "metadata": {},
   "source": [
    "### Import required libraries"
   ]
  },
  {
   "cell_type": "code",
   "execution_count": 1,
   "metadata": {},
   "outputs": [],
   "source": [
    "import warnings\n",
    "warnings.filterwarnings('ignore')"
   ]
  },
  {
   "cell_type": "code",
   "execution_count": 2,
   "metadata": {},
   "outputs": [],
   "source": [
    "import pandas as pd\n",
    "import numpy as np\n",
    "import tensorflow as tf\n",
    "\n",
    "from sklearn.model_selection import train_test_split\n",
    "from sklearn.impute import SimpleImputer\n",
    "from sklearn_pandas import DataFrameMapper\n",
    "from sklearn.preprocessing import StandardScaler, OneHotEncoder\n",
    "from sklearn.metrics import accuracy_score,recall_score, precision_score, f1_score\n",
    "from sklearn.metrics import classification_report, confusion_matrix\n",
    "\n",
    "from tensorflow.keras.models import Sequential\n",
    "from tensorflow.keras import Input, Model\n",
    "from tensorflow.keras.layers import Dense, Dropout, Activation\n",
    "from tensorflow.keras.regularizers import l2, l1\n",
    "from tensorflow.keras.callbacks import EarlyStopping, ModelCheckpoint"
   ]
  },
  {
   "cell_type": "markdown",
   "metadata": {},
   "source": [
    "#### Load and understand the data "
   ]
  },
  {
   "cell_type": "code",
   "execution_count": 3,
   "metadata": {},
   "outputs": [],
   "source": [
    "# Read the data\n",
    "data = pd.read_csv(\"TelcoChurn.csv\")"
   ]
  },
  {
   "cell_type": "code",
   "execution_count": 4,
   "metadata": {},
   "outputs": [
    {
     "data": {
      "text/plain": [
       "customerID           object\n",
       "gender               object\n",
       "SeniorCitizen         int64\n",
       "Partner              object\n",
       "Dependents           object\n",
       "tenure                int64\n",
       "PhoneService         object\n",
       "MultipleLines        object\n",
       "InternetService      object\n",
       "OnlineSecurity       object\n",
       "OnlineBackup         object\n",
       "DeviceProtection     object\n",
       "TechSupport          object\n",
       "StreamingTV          object\n",
       "StreamingMovies      object\n",
       "Contract             object\n",
       "PaperlessBilling     object\n",
       "PaymentMethod        object\n",
       "MonthlyCharges      float64\n",
       "TotalCharges         object\n",
       "Churn                object\n",
       "dtype: object"
      ]
     },
     "execution_count": 4,
     "metadata": {},
     "output_type": "execute_result"
    }
   ],
   "source": [
    "# Check the data types of the columns\n",
    "data.dtypes"
   ]
  },
  {
   "cell_type": "code",
   "execution_count": 5,
   "metadata": {},
   "outputs": [
    {
     "data": {
      "text/html": [
       "<div>\n",
       "<style scoped>\n",
       "    .dataframe tbody tr th:only-of-type {\n",
       "        vertical-align: middle;\n",
       "    }\n",
       "\n",
       "    .dataframe tbody tr th {\n",
       "        vertical-align: top;\n",
       "    }\n",
       "\n",
       "    .dataframe thead th {\n",
       "        text-align: right;\n",
       "    }\n",
       "</style>\n",
       "<table border=\"1\" class=\"dataframe\">\n",
       "  <thead>\n",
       "    <tr style=\"text-align: right;\">\n",
       "      <th></th>\n",
       "      <th>customerID</th>\n",
       "      <th>gender</th>\n",
       "      <th>SeniorCitizen</th>\n",
       "      <th>Partner</th>\n",
       "      <th>Dependents</th>\n",
       "      <th>tenure</th>\n",
       "      <th>PhoneService</th>\n",
       "      <th>MultipleLines</th>\n",
       "      <th>InternetService</th>\n",
       "      <th>OnlineSecurity</th>\n",
       "      <th>...</th>\n",
       "      <th>DeviceProtection</th>\n",
       "      <th>TechSupport</th>\n",
       "      <th>StreamingTV</th>\n",
       "      <th>StreamingMovies</th>\n",
       "      <th>Contract</th>\n",
       "      <th>PaperlessBilling</th>\n",
       "      <th>PaymentMethod</th>\n",
       "      <th>MonthlyCharges</th>\n",
       "      <th>TotalCharges</th>\n",
       "      <th>Churn</th>\n",
       "    </tr>\n",
       "  </thead>\n",
       "  <tbody>\n",
       "    <tr>\n",
       "      <th>count</th>\n",
       "      <td>7043</td>\n",
       "      <td>7043</td>\n",
       "      <td>7043.000000</td>\n",
       "      <td>7043</td>\n",
       "      <td>7043</td>\n",
       "      <td>7043.000000</td>\n",
       "      <td>7043</td>\n",
       "      <td>7043</td>\n",
       "      <td>7043</td>\n",
       "      <td>7043</td>\n",
       "      <td>...</td>\n",
       "      <td>7043</td>\n",
       "      <td>7043</td>\n",
       "      <td>7043</td>\n",
       "      <td>7043</td>\n",
       "      <td>7043</td>\n",
       "      <td>7043</td>\n",
       "      <td>7043</td>\n",
       "      <td>7043.000000</td>\n",
       "      <td>7043</td>\n",
       "      <td>7043</td>\n",
       "    </tr>\n",
       "    <tr>\n",
       "      <th>unique</th>\n",
       "      <td>7043</td>\n",
       "      <td>2</td>\n",
       "      <td>NaN</td>\n",
       "      <td>2</td>\n",
       "      <td>2</td>\n",
       "      <td>NaN</td>\n",
       "      <td>2</td>\n",
       "      <td>2</td>\n",
       "      <td>3</td>\n",
       "      <td>2</td>\n",
       "      <td>...</td>\n",
       "      <td>2</td>\n",
       "      <td>2</td>\n",
       "      <td>2</td>\n",
       "      <td>2</td>\n",
       "      <td>3</td>\n",
       "      <td>2</td>\n",
       "      <td>4</td>\n",
       "      <td>NaN</td>\n",
       "      <td>6531</td>\n",
       "      <td>2</td>\n",
       "    </tr>\n",
       "    <tr>\n",
       "      <th>top</th>\n",
       "      <td>2460-FPSYH</td>\n",
       "      <td>Male</td>\n",
       "      <td>NaN</td>\n",
       "      <td>No</td>\n",
       "      <td>No</td>\n",
       "      <td>NaN</td>\n",
       "      <td>Yes</td>\n",
       "      <td>No</td>\n",
       "      <td>Fiber optic</td>\n",
       "      <td>No</td>\n",
       "      <td>...</td>\n",
       "      <td>No</td>\n",
       "      <td>No</td>\n",
       "      <td>No</td>\n",
       "      <td>No</td>\n",
       "      <td>Month-to-month</td>\n",
       "      <td>Yes</td>\n",
       "      <td>Electronic check</td>\n",
       "      <td>NaN</td>\n",
       "      <td>20.2</td>\n",
       "      <td>No</td>\n",
       "    </tr>\n",
       "    <tr>\n",
       "      <th>freq</th>\n",
       "      <td>1</td>\n",
       "      <td>3555</td>\n",
       "      <td>NaN</td>\n",
       "      <td>3641</td>\n",
       "      <td>4933</td>\n",
       "      <td>NaN</td>\n",
       "      <td>6361</td>\n",
       "      <td>4072</td>\n",
       "      <td>3096</td>\n",
       "      <td>5024</td>\n",
       "      <td>...</td>\n",
       "      <td>4621</td>\n",
       "      <td>4999</td>\n",
       "      <td>4336</td>\n",
       "      <td>4311</td>\n",
       "      <td>3875</td>\n",
       "      <td>4171</td>\n",
       "      <td>2365</td>\n",
       "      <td>NaN</td>\n",
       "      <td>11</td>\n",
       "      <td>5174</td>\n",
       "    </tr>\n",
       "    <tr>\n",
       "      <th>mean</th>\n",
       "      <td>NaN</td>\n",
       "      <td>NaN</td>\n",
       "      <td>0.162147</td>\n",
       "      <td>NaN</td>\n",
       "      <td>NaN</td>\n",
       "      <td>32.371149</td>\n",
       "      <td>NaN</td>\n",
       "      <td>NaN</td>\n",
       "      <td>NaN</td>\n",
       "      <td>NaN</td>\n",
       "      <td>...</td>\n",
       "      <td>NaN</td>\n",
       "      <td>NaN</td>\n",
       "      <td>NaN</td>\n",
       "      <td>NaN</td>\n",
       "      <td>NaN</td>\n",
       "      <td>NaN</td>\n",
       "      <td>NaN</td>\n",
       "      <td>64.761692</td>\n",
       "      <td>NaN</td>\n",
       "      <td>NaN</td>\n",
       "    </tr>\n",
       "    <tr>\n",
       "      <th>std</th>\n",
       "      <td>NaN</td>\n",
       "      <td>NaN</td>\n",
       "      <td>0.368612</td>\n",
       "      <td>NaN</td>\n",
       "      <td>NaN</td>\n",
       "      <td>24.559481</td>\n",
       "      <td>NaN</td>\n",
       "      <td>NaN</td>\n",
       "      <td>NaN</td>\n",
       "      <td>NaN</td>\n",
       "      <td>...</td>\n",
       "      <td>NaN</td>\n",
       "      <td>NaN</td>\n",
       "      <td>NaN</td>\n",
       "      <td>NaN</td>\n",
       "      <td>NaN</td>\n",
       "      <td>NaN</td>\n",
       "      <td>NaN</td>\n",
       "      <td>30.090047</td>\n",
       "      <td>NaN</td>\n",
       "      <td>NaN</td>\n",
       "    </tr>\n",
       "    <tr>\n",
       "      <th>min</th>\n",
       "      <td>NaN</td>\n",
       "      <td>NaN</td>\n",
       "      <td>0.000000</td>\n",
       "      <td>NaN</td>\n",
       "      <td>NaN</td>\n",
       "      <td>0.000000</td>\n",
       "      <td>NaN</td>\n",
       "      <td>NaN</td>\n",
       "      <td>NaN</td>\n",
       "      <td>NaN</td>\n",
       "      <td>...</td>\n",
       "      <td>NaN</td>\n",
       "      <td>NaN</td>\n",
       "      <td>NaN</td>\n",
       "      <td>NaN</td>\n",
       "      <td>NaN</td>\n",
       "      <td>NaN</td>\n",
       "      <td>NaN</td>\n",
       "      <td>18.250000</td>\n",
       "      <td>NaN</td>\n",
       "      <td>NaN</td>\n",
       "    </tr>\n",
       "    <tr>\n",
       "      <th>25%</th>\n",
       "      <td>NaN</td>\n",
       "      <td>NaN</td>\n",
       "      <td>0.000000</td>\n",
       "      <td>NaN</td>\n",
       "      <td>NaN</td>\n",
       "      <td>9.000000</td>\n",
       "      <td>NaN</td>\n",
       "      <td>NaN</td>\n",
       "      <td>NaN</td>\n",
       "      <td>NaN</td>\n",
       "      <td>...</td>\n",
       "      <td>NaN</td>\n",
       "      <td>NaN</td>\n",
       "      <td>NaN</td>\n",
       "      <td>NaN</td>\n",
       "      <td>NaN</td>\n",
       "      <td>NaN</td>\n",
       "      <td>NaN</td>\n",
       "      <td>35.500000</td>\n",
       "      <td>NaN</td>\n",
       "      <td>NaN</td>\n",
       "    </tr>\n",
       "    <tr>\n",
       "      <th>50%</th>\n",
       "      <td>NaN</td>\n",
       "      <td>NaN</td>\n",
       "      <td>0.000000</td>\n",
       "      <td>NaN</td>\n",
       "      <td>NaN</td>\n",
       "      <td>29.000000</td>\n",
       "      <td>NaN</td>\n",
       "      <td>NaN</td>\n",
       "      <td>NaN</td>\n",
       "      <td>NaN</td>\n",
       "      <td>...</td>\n",
       "      <td>NaN</td>\n",
       "      <td>NaN</td>\n",
       "      <td>NaN</td>\n",
       "      <td>NaN</td>\n",
       "      <td>NaN</td>\n",
       "      <td>NaN</td>\n",
       "      <td>NaN</td>\n",
       "      <td>70.350000</td>\n",
       "      <td>NaN</td>\n",
       "      <td>NaN</td>\n",
       "    </tr>\n",
       "    <tr>\n",
       "      <th>75%</th>\n",
       "      <td>NaN</td>\n",
       "      <td>NaN</td>\n",
       "      <td>0.000000</td>\n",
       "      <td>NaN</td>\n",
       "      <td>NaN</td>\n",
       "      <td>55.000000</td>\n",
       "      <td>NaN</td>\n",
       "      <td>NaN</td>\n",
       "      <td>NaN</td>\n",
       "      <td>NaN</td>\n",
       "      <td>...</td>\n",
       "      <td>NaN</td>\n",
       "      <td>NaN</td>\n",
       "      <td>NaN</td>\n",
       "      <td>NaN</td>\n",
       "      <td>NaN</td>\n",
       "      <td>NaN</td>\n",
       "      <td>NaN</td>\n",
       "      <td>89.850000</td>\n",
       "      <td>NaN</td>\n",
       "      <td>NaN</td>\n",
       "    </tr>\n",
       "    <tr>\n",
       "      <th>max</th>\n",
       "      <td>NaN</td>\n",
       "      <td>NaN</td>\n",
       "      <td>1.000000</td>\n",
       "      <td>NaN</td>\n",
       "      <td>NaN</td>\n",
       "      <td>72.000000</td>\n",
       "      <td>NaN</td>\n",
       "      <td>NaN</td>\n",
       "      <td>NaN</td>\n",
       "      <td>NaN</td>\n",
       "      <td>...</td>\n",
       "      <td>NaN</td>\n",
       "      <td>NaN</td>\n",
       "      <td>NaN</td>\n",
       "      <td>NaN</td>\n",
       "      <td>NaN</td>\n",
       "      <td>NaN</td>\n",
       "      <td>NaN</td>\n",
       "      <td>118.750000</td>\n",
       "      <td>NaN</td>\n",
       "      <td>NaN</td>\n",
       "    </tr>\n",
       "  </tbody>\n",
       "</table>\n",
       "<p>11 rows × 21 columns</p>\n",
       "</div>"
      ],
      "text/plain": [
       "        customerID gender  SeniorCitizen Partner Dependents       tenure  \\\n",
       "count         7043   7043    7043.000000    7043       7043  7043.000000   \n",
       "unique        7043      2            NaN       2          2          NaN   \n",
       "top     2460-FPSYH   Male            NaN      No         No          NaN   \n",
       "freq             1   3555            NaN    3641       4933          NaN   \n",
       "mean           NaN    NaN       0.162147     NaN        NaN    32.371149   \n",
       "std            NaN    NaN       0.368612     NaN        NaN    24.559481   \n",
       "min            NaN    NaN       0.000000     NaN        NaN     0.000000   \n",
       "25%            NaN    NaN       0.000000     NaN        NaN     9.000000   \n",
       "50%            NaN    NaN       0.000000     NaN        NaN    29.000000   \n",
       "75%            NaN    NaN       0.000000     NaN        NaN    55.000000   \n",
       "max            NaN    NaN       1.000000     NaN        NaN    72.000000   \n",
       "\n",
       "       PhoneService MultipleLines InternetService OnlineSecurity  ...  \\\n",
       "count          7043          7043            7043           7043  ...   \n",
       "unique            2             2               3              2  ...   \n",
       "top             Yes            No     Fiber optic             No  ...   \n",
       "freq           6361          4072            3096           5024  ...   \n",
       "mean            NaN           NaN             NaN            NaN  ...   \n",
       "std             NaN           NaN             NaN            NaN  ...   \n",
       "min             NaN           NaN             NaN            NaN  ...   \n",
       "25%             NaN           NaN             NaN            NaN  ...   \n",
       "50%             NaN           NaN             NaN            NaN  ...   \n",
       "75%             NaN           NaN             NaN            NaN  ...   \n",
       "max             NaN           NaN             NaN            NaN  ...   \n",
       "\n",
       "       DeviceProtection TechSupport StreamingTV StreamingMovies  \\\n",
       "count              7043        7043        7043            7043   \n",
       "unique                2           2           2               2   \n",
       "top                  No          No          No              No   \n",
       "freq               4621        4999        4336            4311   \n",
       "mean                NaN         NaN         NaN             NaN   \n",
       "std                 NaN         NaN         NaN             NaN   \n",
       "min                 NaN         NaN         NaN             NaN   \n",
       "25%                 NaN         NaN         NaN             NaN   \n",
       "50%                 NaN         NaN         NaN             NaN   \n",
       "75%                 NaN         NaN         NaN             NaN   \n",
       "max                 NaN         NaN         NaN             NaN   \n",
       "\n",
       "              Contract PaperlessBilling     PaymentMethod MonthlyCharges  \\\n",
       "count             7043             7043              7043    7043.000000   \n",
       "unique               3                2                 4            NaN   \n",
       "top     Month-to-month              Yes  Electronic check            NaN   \n",
       "freq              3875             4171              2365            NaN   \n",
       "mean               NaN              NaN               NaN      64.761692   \n",
       "std                NaN              NaN               NaN      30.090047   \n",
       "min                NaN              NaN               NaN      18.250000   \n",
       "25%                NaN              NaN               NaN      35.500000   \n",
       "50%                NaN              NaN               NaN      70.350000   \n",
       "75%                NaN              NaN               NaN      89.850000   \n",
       "max                NaN              NaN               NaN     118.750000   \n",
       "\n",
       "        TotalCharges Churn  \n",
       "count           7043  7043  \n",
       "unique          6531     2  \n",
       "top             20.2    No  \n",
       "freq              11  5174  \n",
       "mean             NaN   NaN  \n",
       "std              NaN   NaN  \n",
       "min              NaN   NaN  \n",
       "25%              NaN   NaN  \n",
       "50%              NaN   NaN  \n",
       "75%              NaN   NaN  \n",
       "max              NaN   NaN  \n",
       "\n",
       "[11 rows x 21 columns]"
      ]
     },
     "execution_count": 5,
     "metadata": {},
     "output_type": "execute_result"
    }
   ],
   "source": [
    "# See the summary statistics\n",
    "data.describe(include='all')"
   ]
  },
  {
   "cell_type": "code",
   "execution_count": 8,
   "metadata": {},
   "outputs": [],
   "source": [
    "# Read the data\n",
    "data = pd.read_csv(\"TelcoChurn.csv\", na_values=' ')"
   ]
  },
  {
   "cell_type": "code",
   "execution_count": 9,
   "metadata": {},
   "outputs": [
    {
     "data": {
      "text/plain": [
       "(7043, 21)"
      ]
     },
     "execution_count": 9,
     "metadata": {},
     "output_type": "execute_result"
    }
   ],
   "source": [
    "# # Display the shape of the data\n",
    "data.shape"
   ]
  },
  {
   "cell_type": "code",
   "execution_count": 10,
   "metadata": {},
   "outputs": [
    {
     "data": {
      "text/html": [
       "<div>\n",
       "<style scoped>\n",
       "    .dataframe tbody tr th:only-of-type {\n",
       "        vertical-align: middle;\n",
       "    }\n",
       "\n",
       "    .dataframe tbody tr th {\n",
       "        vertical-align: top;\n",
       "    }\n",
       "\n",
       "    .dataframe thead th {\n",
       "        text-align: right;\n",
       "    }\n",
       "</style>\n",
       "<table border=\"1\" class=\"dataframe\">\n",
       "  <thead>\n",
       "    <tr style=\"text-align: right;\">\n",
       "      <th></th>\n",
       "      <th>customerID</th>\n",
       "      <th>gender</th>\n",
       "      <th>SeniorCitizen</th>\n",
       "      <th>Partner</th>\n",
       "      <th>Dependents</th>\n",
       "      <th>tenure</th>\n",
       "      <th>PhoneService</th>\n",
       "      <th>MultipleLines</th>\n",
       "      <th>InternetService</th>\n",
       "      <th>OnlineSecurity</th>\n",
       "      <th>...</th>\n",
       "      <th>DeviceProtection</th>\n",
       "      <th>TechSupport</th>\n",
       "      <th>StreamingTV</th>\n",
       "      <th>StreamingMovies</th>\n",
       "      <th>Contract</th>\n",
       "      <th>PaperlessBilling</th>\n",
       "      <th>PaymentMethod</th>\n",
       "      <th>MonthlyCharges</th>\n",
       "      <th>TotalCharges</th>\n",
       "      <th>Churn</th>\n",
       "    </tr>\n",
       "  </thead>\n",
       "  <tbody>\n",
       "    <tr>\n",
       "      <th>0</th>\n",
       "      <td>7590-VHVEG</td>\n",
       "      <td>Female</td>\n",
       "      <td>0</td>\n",
       "      <td>Yes</td>\n",
       "      <td>No</td>\n",
       "      <td>1</td>\n",
       "      <td>No</td>\n",
       "      <td>No</td>\n",
       "      <td>DSL</td>\n",
       "      <td>No</td>\n",
       "      <td>...</td>\n",
       "      <td>No</td>\n",
       "      <td>No</td>\n",
       "      <td>No</td>\n",
       "      <td>No</td>\n",
       "      <td>Month-to-month</td>\n",
       "      <td>Yes</td>\n",
       "      <td>Electronic check</td>\n",
       "      <td>29.85</td>\n",
       "      <td>29.85</td>\n",
       "      <td>No</td>\n",
       "    </tr>\n",
       "    <tr>\n",
       "      <th>1</th>\n",
       "      <td>5575-GNVDE</td>\n",
       "      <td>Male</td>\n",
       "      <td>0</td>\n",
       "      <td>No</td>\n",
       "      <td>No</td>\n",
       "      <td>34</td>\n",
       "      <td>Yes</td>\n",
       "      <td>No</td>\n",
       "      <td>DSL</td>\n",
       "      <td>Yes</td>\n",
       "      <td>...</td>\n",
       "      <td>Yes</td>\n",
       "      <td>No</td>\n",
       "      <td>No</td>\n",
       "      <td>No</td>\n",
       "      <td>One year</td>\n",
       "      <td>No</td>\n",
       "      <td>Mailed check</td>\n",
       "      <td>56.95</td>\n",
       "      <td>1889.50</td>\n",
       "      <td>No</td>\n",
       "    </tr>\n",
       "    <tr>\n",
       "      <th>2</th>\n",
       "      <td>3668-QPYBK</td>\n",
       "      <td>Male</td>\n",
       "      <td>0</td>\n",
       "      <td>No</td>\n",
       "      <td>No</td>\n",
       "      <td>2</td>\n",
       "      <td>Yes</td>\n",
       "      <td>No</td>\n",
       "      <td>DSL</td>\n",
       "      <td>Yes</td>\n",
       "      <td>...</td>\n",
       "      <td>No</td>\n",
       "      <td>No</td>\n",
       "      <td>No</td>\n",
       "      <td>No</td>\n",
       "      <td>Month-to-month</td>\n",
       "      <td>Yes</td>\n",
       "      <td>Mailed check</td>\n",
       "      <td>53.85</td>\n",
       "      <td>108.15</td>\n",
       "      <td>Yes</td>\n",
       "    </tr>\n",
       "    <tr>\n",
       "      <th>3</th>\n",
       "      <td>7795-CFOCW</td>\n",
       "      <td>Male</td>\n",
       "      <td>0</td>\n",
       "      <td>No</td>\n",
       "      <td>No</td>\n",
       "      <td>45</td>\n",
       "      <td>No</td>\n",
       "      <td>No</td>\n",
       "      <td>DSL</td>\n",
       "      <td>Yes</td>\n",
       "      <td>...</td>\n",
       "      <td>Yes</td>\n",
       "      <td>Yes</td>\n",
       "      <td>No</td>\n",
       "      <td>No</td>\n",
       "      <td>One year</td>\n",
       "      <td>No</td>\n",
       "      <td>Bank transfer (automatic)</td>\n",
       "      <td>42.30</td>\n",
       "      <td>1840.75</td>\n",
       "      <td>No</td>\n",
       "    </tr>\n",
       "    <tr>\n",
       "      <th>4</th>\n",
       "      <td>9237-HQITU</td>\n",
       "      <td>Female</td>\n",
       "      <td>0</td>\n",
       "      <td>No</td>\n",
       "      <td>No</td>\n",
       "      <td>2</td>\n",
       "      <td>Yes</td>\n",
       "      <td>No</td>\n",
       "      <td>Fiber optic</td>\n",
       "      <td>No</td>\n",
       "      <td>...</td>\n",
       "      <td>No</td>\n",
       "      <td>No</td>\n",
       "      <td>No</td>\n",
       "      <td>No</td>\n",
       "      <td>Month-to-month</td>\n",
       "      <td>Yes</td>\n",
       "      <td>Electronic check</td>\n",
       "      <td>70.70</td>\n",
       "      <td>151.65</td>\n",
       "      <td>Yes</td>\n",
       "    </tr>\n",
       "  </tbody>\n",
       "</table>\n",
       "<p>5 rows × 21 columns</p>\n",
       "</div>"
      ],
      "text/plain": [
       "   customerID  gender  SeniorCitizen Partner Dependents  tenure PhoneService  \\\n",
       "0  7590-VHVEG  Female              0     Yes         No       1           No   \n",
       "1  5575-GNVDE    Male              0      No         No      34          Yes   \n",
       "2  3668-QPYBK    Male              0      No         No       2          Yes   \n",
       "3  7795-CFOCW    Male              0      No         No      45           No   \n",
       "4  9237-HQITU  Female              0      No         No       2          Yes   \n",
       "\n",
       "  MultipleLines InternetService OnlineSecurity  ... DeviceProtection  \\\n",
       "0            No             DSL             No  ...               No   \n",
       "1            No             DSL            Yes  ...              Yes   \n",
       "2            No             DSL            Yes  ...               No   \n",
       "3            No             DSL            Yes  ...              Yes   \n",
       "4            No     Fiber optic             No  ...               No   \n",
       "\n",
       "  TechSupport StreamingTV StreamingMovies        Contract PaperlessBilling  \\\n",
       "0          No          No              No  Month-to-month              Yes   \n",
       "1          No          No              No        One year               No   \n",
       "2          No          No              No  Month-to-month              Yes   \n",
       "3         Yes          No              No        One year               No   \n",
       "4          No          No              No  Month-to-month              Yes   \n",
       "\n",
       "               PaymentMethod MonthlyCharges  TotalCharges  Churn  \n",
       "0           Electronic check          29.85         29.85     No  \n",
       "1               Mailed check          56.95       1889.50     No  \n",
       "2               Mailed check          53.85        108.15    Yes  \n",
       "3  Bank transfer (automatic)          42.30       1840.75     No  \n",
       "4           Electronic check          70.70        151.65    Yes  \n",
       "\n",
       "[5 rows x 21 columns]"
      ]
     },
     "execution_count": 10,
     "metadata": {},
     "output_type": "execute_result"
    }
   ],
   "source": [
    "# Display top 5 rows\n",
    "data.head()"
   ]
  },
  {
   "cell_type": "code",
   "execution_count": 11,
   "metadata": {},
   "outputs": [
    {
     "data": {
      "text/html": [
       "<div>\n",
       "<style scoped>\n",
       "    .dataframe tbody tr th:only-of-type {\n",
       "        vertical-align: middle;\n",
       "    }\n",
       "\n",
       "    .dataframe tbody tr th {\n",
       "        vertical-align: top;\n",
       "    }\n",
       "\n",
       "    .dataframe thead th {\n",
       "        text-align: right;\n",
       "    }\n",
       "</style>\n",
       "<table border=\"1\" class=\"dataframe\">\n",
       "  <thead>\n",
       "    <tr style=\"text-align: right;\">\n",
       "      <th></th>\n",
       "      <th>customerID</th>\n",
       "      <th>gender</th>\n",
       "      <th>SeniorCitizen</th>\n",
       "      <th>Partner</th>\n",
       "      <th>Dependents</th>\n",
       "      <th>tenure</th>\n",
       "      <th>PhoneService</th>\n",
       "      <th>MultipleLines</th>\n",
       "      <th>InternetService</th>\n",
       "      <th>OnlineSecurity</th>\n",
       "      <th>...</th>\n",
       "      <th>DeviceProtection</th>\n",
       "      <th>TechSupport</th>\n",
       "      <th>StreamingTV</th>\n",
       "      <th>StreamingMovies</th>\n",
       "      <th>Contract</th>\n",
       "      <th>PaperlessBilling</th>\n",
       "      <th>PaymentMethod</th>\n",
       "      <th>MonthlyCharges</th>\n",
       "      <th>TotalCharges</th>\n",
       "      <th>Churn</th>\n",
       "    </tr>\n",
       "  </thead>\n",
       "  <tbody>\n",
       "    <tr>\n",
       "      <th>count</th>\n",
       "      <td>7043</td>\n",
       "      <td>7043</td>\n",
       "      <td>7043.000000</td>\n",
       "      <td>7043</td>\n",
       "      <td>7043</td>\n",
       "      <td>7043.000000</td>\n",
       "      <td>7043</td>\n",
       "      <td>7043</td>\n",
       "      <td>7043</td>\n",
       "      <td>7043</td>\n",
       "      <td>...</td>\n",
       "      <td>7043</td>\n",
       "      <td>7043</td>\n",
       "      <td>7043</td>\n",
       "      <td>7043</td>\n",
       "      <td>7043</td>\n",
       "      <td>7043</td>\n",
       "      <td>7043</td>\n",
       "      <td>7043.000000</td>\n",
       "      <td>7032.000000</td>\n",
       "      <td>7043</td>\n",
       "    </tr>\n",
       "    <tr>\n",
       "      <th>unique</th>\n",
       "      <td>7043</td>\n",
       "      <td>2</td>\n",
       "      <td>NaN</td>\n",
       "      <td>2</td>\n",
       "      <td>2</td>\n",
       "      <td>NaN</td>\n",
       "      <td>2</td>\n",
       "      <td>2</td>\n",
       "      <td>3</td>\n",
       "      <td>2</td>\n",
       "      <td>...</td>\n",
       "      <td>2</td>\n",
       "      <td>2</td>\n",
       "      <td>2</td>\n",
       "      <td>2</td>\n",
       "      <td>3</td>\n",
       "      <td>2</td>\n",
       "      <td>4</td>\n",
       "      <td>NaN</td>\n",
       "      <td>NaN</td>\n",
       "      <td>2</td>\n",
       "    </tr>\n",
       "    <tr>\n",
       "      <th>top</th>\n",
       "      <td>2460-FPSYH</td>\n",
       "      <td>Male</td>\n",
       "      <td>NaN</td>\n",
       "      <td>No</td>\n",
       "      <td>No</td>\n",
       "      <td>NaN</td>\n",
       "      <td>Yes</td>\n",
       "      <td>No</td>\n",
       "      <td>Fiber optic</td>\n",
       "      <td>No</td>\n",
       "      <td>...</td>\n",
       "      <td>No</td>\n",
       "      <td>No</td>\n",
       "      <td>No</td>\n",
       "      <td>No</td>\n",
       "      <td>Month-to-month</td>\n",
       "      <td>Yes</td>\n",
       "      <td>Electronic check</td>\n",
       "      <td>NaN</td>\n",
       "      <td>NaN</td>\n",
       "      <td>No</td>\n",
       "    </tr>\n",
       "    <tr>\n",
       "      <th>freq</th>\n",
       "      <td>1</td>\n",
       "      <td>3555</td>\n",
       "      <td>NaN</td>\n",
       "      <td>3641</td>\n",
       "      <td>4933</td>\n",
       "      <td>NaN</td>\n",
       "      <td>6361</td>\n",
       "      <td>4072</td>\n",
       "      <td>3096</td>\n",
       "      <td>5024</td>\n",
       "      <td>...</td>\n",
       "      <td>4621</td>\n",
       "      <td>4999</td>\n",
       "      <td>4336</td>\n",
       "      <td>4311</td>\n",
       "      <td>3875</td>\n",
       "      <td>4171</td>\n",
       "      <td>2365</td>\n",
       "      <td>NaN</td>\n",
       "      <td>NaN</td>\n",
       "      <td>5174</td>\n",
       "    </tr>\n",
       "    <tr>\n",
       "      <th>mean</th>\n",
       "      <td>NaN</td>\n",
       "      <td>NaN</td>\n",
       "      <td>0.162147</td>\n",
       "      <td>NaN</td>\n",
       "      <td>NaN</td>\n",
       "      <td>32.371149</td>\n",
       "      <td>NaN</td>\n",
       "      <td>NaN</td>\n",
       "      <td>NaN</td>\n",
       "      <td>NaN</td>\n",
       "      <td>...</td>\n",
       "      <td>NaN</td>\n",
       "      <td>NaN</td>\n",
       "      <td>NaN</td>\n",
       "      <td>NaN</td>\n",
       "      <td>NaN</td>\n",
       "      <td>NaN</td>\n",
       "      <td>NaN</td>\n",
       "      <td>64.761692</td>\n",
       "      <td>2283.300441</td>\n",
       "      <td>NaN</td>\n",
       "    </tr>\n",
       "    <tr>\n",
       "      <th>std</th>\n",
       "      <td>NaN</td>\n",
       "      <td>NaN</td>\n",
       "      <td>0.368612</td>\n",
       "      <td>NaN</td>\n",
       "      <td>NaN</td>\n",
       "      <td>24.559481</td>\n",
       "      <td>NaN</td>\n",
       "      <td>NaN</td>\n",
       "      <td>NaN</td>\n",
       "      <td>NaN</td>\n",
       "      <td>...</td>\n",
       "      <td>NaN</td>\n",
       "      <td>NaN</td>\n",
       "      <td>NaN</td>\n",
       "      <td>NaN</td>\n",
       "      <td>NaN</td>\n",
       "      <td>NaN</td>\n",
       "      <td>NaN</td>\n",
       "      <td>30.090047</td>\n",
       "      <td>2266.771362</td>\n",
       "      <td>NaN</td>\n",
       "    </tr>\n",
       "    <tr>\n",
       "      <th>min</th>\n",
       "      <td>NaN</td>\n",
       "      <td>NaN</td>\n",
       "      <td>0.000000</td>\n",
       "      <td>NaN</td>\n",
       "      <td>NaN</td>\n",
       "      <td>0.000000</td>\n",
       "      <td>NaN</td>\n",
       "      <td>NaN</td>\n",
       "      <td>NaN</td>\n",
       "      <td>NaN</td>\n",
       "      <td>...</td>\n",
       "      <td>NaN</td>\n",
       "      <td>NaN</td>\n",
       "      <td>NaN</td>\n",
       "      <td>NaN</td>\n",
       "      <td>NaN</td>\n",
       "      <td>NaN</td>\n",
       "      <td>NaN</td>\n",
       "      <td>18.250000</td>\n",
       "      <td>18.800000</td>\n",
       "      <td>NaN</td>\n",
       "    </tr>\n",
       "    <tr>\n",
       "      <th>25%</th>\n",
       "      <td>NaN</td>\n",
       "      <td>NaN</td>\n",
       "      <td>0.000000</td>\n",
       "      <td>NaN</td>\n",
       "      <td>NaN</td>\n",
       "      <td>9.000000</td>\n",
       "      <td>NaN</td>\n",
       "      <td>NaN</td>\n",
       "      <td>NaN</td>\n",
       "      <td>NaN</td>\n",
       "      <td>...</td>\n",
       "      <td>NaN</td>\n",
       "      <td>NaN</td>\n",
       "      <td>NaN</td>\n",
       "      <td>NaN</td>\n",
       "      <td>NaN</td>\n",
       "      <td>NaN</td>\n",
       "      <td>NaN</td>\n",
       "      <td>35.500000</td>\n",
       "      <td>401.450000</td>\n",
       "      <td>NaN</td>\n",
       "    </tr>\n",
       "    <tr>\n",
       "      <th>50%</th>\n",
       "      <td>NaN</td>\n",
       "      <td>NaN</td>\n",
       "      <td>0.000000</td>\n",
       "      <td>NaN</td>\n",
       "      <td>NaN</td>\n",
       "      <td>29.000000</td>\n",
       "      <td>NaN</td>\n",
       "      <td>NaN</td>\n",
       "      <td>NaN</td>\n",
       "      <td>NaN</td>\n",
       "      <td>...</td>\n",
       "      <td>NaN</td>\n",
       "      <td>NaN</td>\n",
       "      <td>NaN</td>\n",
       "      <td>NaN</td>\n",
       "      <td>NaN</td>\n",
       "      <td>NaN</td>\n",
       "      <td>NaN</td>\n",
       "      <td>70.350000</td>\n",
       "      <td>1397.475000</td>\n",
       "      <td>NaN</td>\n",
       "    </tr>\n",
       "    <tr>\n",
       "      <th>75%</th>\n",
       "      <td>NaN</td>\n",
       "      <td>NaN</td>\n",
       "      <td>0.000000</td>\n",
       "      <td>NaN</td>\n",
       "      <td>NaN</td>\n",
       "      <td>55.000000</td>\n",
       "      <td>NaN</td>\n",
       "      <td>NaN</td>\n",
       "      <td>NaN</td>\n",
       "      <td>NaN</td>\n",
       "      <td>...</td>\n",
       "      <td>NaN</td>\n",
       "      <td>NaN</td>\n",
       "      <td>NaN</td>\n",
       "      <td>NaN</td>\n",
       "      <td>NaN</td>\n",
       "      <td>NaN</td>\n",
       "      <td>NaN</td>\n",
       "      <td>89.850000</td>\n",
       "      <td>3794.737500</td>\n",
       "      <td>NaN</td>\n",
       "    </tr>\n",
       "    <tr>\n",
       "      <th>max</th>\n",
       "      <td>NaN</td>\n",
       "      <td>NaN</td>\n",
       "      <td>1.000000</td>\n",
       "      <td>NaN</td>\n",
       "      <td>NaN</td>\n",
       "      <td>72.000000</td>\n",
       "      <td>NaN</td>\n",
       "      <td>NaN</td>\n",
       "      <td>NaN</td>\n",
       "      <td>NaN</td>\n",
       "      <td>...</td>\n",
       "      <td>NaN</td>\n",
       "      <td>NaN</td>\n",
       "      <td>NaN</td>\n",
       "      <td>NaN</td>\n",
       "      <td>NaN</td>\n",
       "      <td>NaN</td>\n",
       "      <td>NaN</td>\n",
       "      <td>118.750000</td>\n",
       "      <td>8684.800000</td>\n",
       "      <td>NaN</td>\n",
       "    </tr>\n",
       "  </tbody>\n",
       "</table>\n",
       "<p>11 rows × 21 columns</p>\n",
       "</div>"
      ],
      "text/plain": [
       "        customerID gender  SeniorCitizen Partner Dependents       tenure  \\\n",
       "count         7043   7043    7043.000000    7043       7043  7043.000000   \n",
       "unique        7043      2            NaN       2          2          NaN   \n",
       "top     2460-FPSYH   Male            NaN      No         No          NaN   \n",
       "freq             1   3555            NaN    3641       4933          NaN   \n",
       "mean           NaN    NaN       0.162147     NaN        NaN    32.371149   \n",
       "std            NaN    NaN       0.368612     NaN        NaN    24.559481   \n",
       "min            NaN    NaN       0.000000     NaN        NaN     0.000000   \n",
       "25%            NaN    NaN       0.000000     NaN        NaN     9.000000   \n",
       "50%            NaN    NaN       0.000000     NaN        NaN    29.000000   \n",
       "75%            NaN    NaN       0.000000     NaN        NaN    55.000000   \n",
       "max            NaN    NaN       1.000000     NaN        NaN    72.000000   \n",
       "\n",
       "       PhoneService MultipleLines InternetService OnlineSecurity  ...  \\\n",
       "count          7043          7043            7043           7043  ...   \n",
       "unique            2             2               3              2  ...   \n",
       "top             Yes            No     Fiber optic             No  ...   \n",
       "freq           6361          4072            3096           5024  ...   \n",
       "mean            NaN           NaN             NaN            NaN  ...   \n",
       "std             NaN           NaN             NaN            NaN  ...   \n",
       "min             NaN           NaN             NaN            NaN  ...   \n",
       "25%             NaN           NaN             NaN            NaN  ...   \n",
       "50%             NaN           NaN             NaN            NaN  ...   \n",
       "75%             NaN           NaN             NaN            NaN  ...   \n",
       "max             NaN           NaN             NaN            NaN  ...   \n",
       "\n",
       "       DeviceProtection TechSupport StreamingTV StreamingMovies  \\\n",
       "count              7043        7043        7043            7043   \n",
       "unique                2           2           2               2   \n",
       "top                  No          No          No              No   \n",
       "freq               4621        4999        4336            4311   \n",
       "mean                NaN         NaN         NaN             NaN   \n",
       "std                 NaN         NaN         NaN             NaN   \n",
       "min                 NaN         NaN         NaN             NaN   \n",
       "25%                 NaN         NaN         NaN             NaN   \n",
       "50%                 NaN         NaN         NaN             NaN   \n",
       "75%                 NaN         NaN         NaN             NaN   \n",
       "max                 NaN         NaN         NaN             NaN   \n",
       "\n",
       "              Contract PaperlessBilling     PaymentMethod MonthlyCharges  \\\n",
       "count             7043             7043              7043    7043.000000   \n",
       "unique               3                2                 4            NaN   \n",
       "top     Month-to-month              Yes  Electronic check            NaN   \n",
       "freq              3875             4171              2365            NaN   \n",
       "mean               NaN              NaN               NaN      64.761692   \n",
       "std                NaN              NaN               NaN      30.090047   \n",
       "min                NaN              NaN               NaN      18.250000   \n",
       "25%                NaN              NaN               NaN      35.500000   \n",
       "50%                NaN              NaN               NaN      70.350000   \n",
       "75%                NaN              NaN               NaN      89.850000   \n",
       "max                NaN              NaN               NaN     118.750000   \n",
       "\n",
       "        TotalCharges  Churn  \n",
       "count    7032.000000   7043  \n",
       "unique           NaN      2  \n",
       "top              NaN     No  \n",
       "freq             NaN   5174  \n",
       "mean     2283.300441    NaN  \n",
       "std      2266.771362    NaN  \n",
       "min        18.800000    NaN  \n",
       "25%       401.450000    NaN  \n",
       "50%      1397.475000    NaN  \n",
       "75%      3794.737500    NaN  \n",
       "max      8684.800000    NaN  \n",
       "\n",
       "[11 rows x 21 columns]"
      ]
     },
     "execution_count": 11,
     "metadata": {},
     "output_type": "execute_result"
    }
   ],
   "source": [
    "# See the summary statistics\n",
    "data.describe(include='all')"
   ]
  },
  {
   "cell_type": "code",
   "execution_count": 12,
   "metadata": {},
   "outputs": [
    {
     "data": {
      "text/plain": [
       "customerID           object\n",
       "gender               object\n",
       "SeniorCitizen         int64\n",
       "Partner              object\n",
       "Dependents           object\n",
       "tenure                int64\n",
       "PhoneService         object\n",
       "MultipleLines        object\n",
       "InternetService      object\n",
       "OnlineSecurity       object\n",
       "OnlineBackup         object\n",
       "DeviceProtection     object\n",
       "TechSupport          object\n",
       "StreamingTV          object\n",
       "StreamingMovies      object\n",
       "Contract             object\n",
       "PaperlessBilling     object\n",
       "PaymentMethod        object\n",
       "MonthlyCharges      float64\n",
       "TotalCharges        float64\n",
       "Churn                object\n",
       "dtype: object"
      ]
     },
     "execution_count": 12,
     "metadata": {},
     "output_type": "execute_result"
    }
   ],
   "source": [
    "# Check the data types of the columns\n",
    "data.dtypes"
   ]
  },
  {
   "cell_type": "code",
   "execution_count": 13,
   "metadata": {},
   "outputs": [
    {
     "data": {
      "text/plain": [
       "customerID          7043\n",
       "gender                 2\n",
       "SeniorCitizen          2\n",
       "Partner                2\n",
       "Dependents             2\n",
       "tenure                73\n",
       "PhoneService           2\n",
       "MultipleLines          2\n",
       "InternetService        3\n",
       "OnlineSecurity         2\n",
       "OnlineBackup           2\n",
       "DeviceProtection       2\n",
       "TechSupport            2\n",
       "StreamingTV            2\n",
       "StreamingMovies        2\n",
       "Contract               3\n",
       "PaperlessBilling       2\n",
       "PaymentMethod          4\n",
       "MonthlyCharges      1585\n",
       "TotalCharges        6530\n",
       "Churn                  2\n",
       "dtype: int64"
      ]
     },
     "execution_count": 13,
     "metadata": {},
     "output_type": "execute_result"
    }
   ],
   "source": [
    "# Check the number of unique levels in each column\n",
    "data.nunique()"
   ]
  },
  {
   "cell_type": "markdown",
   "metadata": {},
   "source": [
    "##### Check the distribution of target variable"
   ]
  },
  {
   "cell_type": "code",
   "execution_count": 14,
   "metadata": {},
   "outputs": [
    {
     "name": "stdout",
     "output_type": "stream",
     "text": [
      "No     73.463013\n",
      "Yes    26.536987\n",
      "Name: Churn, dtype: float64\n"
     ]
    }
   ],
   "source": [
    "# Let's see if there is a class imbalance in the target variable\n",
    "print(data['Churn'].value_counts(normalize = True)*100)"
   ]
  },
  {
   "cell_type": "code",
   "execution_count": 15,
   "metadata": {},
   "outputs": [
    {
     "data": {
      "text/plain": [
       "customerID           0\n",
       "gender               0\n",
       "SeniorCitizen        0\n",
       "Partner              0\n",
       "Dependents           0\n",
       "tenure               0\n",
       "PhoneService         0\n",
       "MultipleLines        0\n",
       "InternetService      0\n",
       "OnlineSecurity       0\n",
       "OnlineBackup         0\n",
       "DeviceProtection     0\n",
       "TechSupport          0\n",
       "StreamingTV          0\n",
       "StreamingMovies      0\n",
       "Contract             0\n",
       "PaperlessBilling     0\n",
       "PaymentMethod        0\n",
       "MonthlyCharges       0\n",
       "TotalCharges        11\n",
       "Churn                0\n",
       "dtype: int64"
      ]
     },
     "execution_count": 15,
     "metadata": {},
     "output_type": "execute_result"
    }
   ],
   "source": [
    "# Check if there are any NA values in the data\n",
    "data.isna().sum()"
   ]
  },
  {
   "cell_type": "markdown",
   "metadata": {},
   "source": [
    "### Observations:\n",
    "\n",
    "**On Type conversions:**\n",
    "\n",
    "- Columns like customerID can be removed from the analysis\n",
    "- The column 'SeniorCitizen' is a categorical column by its nature with 'Yes' as 1, and No as 0. So it should be converted into Categorical type\n",
    "\n",
    "**On Missingness of data:**\n",
    " The data has few missing values in column TotalCharges\n",
    " \n",
    "**On the class imbalance in the target attribute**\n",
    "There are more instances where the customers didn't churn than those that have customers churned out. Class imbalance is slightly present."
   ]
  },
  {
   "cell_type": "markdown",
   "metadata": {},
   "source": [
    "## Data Pre-processing"
   ]
  },
  {
   "cell_type": "code",
   "execution_count": 16,
   "metadata": {},
   "outputs": [],
   "source": [
    "# Remove customerID\n",
    "data.drop(['customerID'], axis = 1, inplace=True)"
   ]
  },
  {
   "cell_type": "markdown",
   "metadata": {},
   "source": [
    "### Type Conversions"
   ]
  },
  {
   "cell_type": "code",
   "execution_count": 17,
   "metadata": {},
   "outputs": [],
   "source": [
    "# Convert 'SeniorCitizen' column into categorical\n",
    "data['SeniorCitizen']= data['SeniorCitizen'].astype('category')"
   ]
  },
  {
   "cell_type": "code",
   "execution_count": 18,
   "metadata": {},
   "outputs": [
    {
     "data": {
      "text/plain": [
       "gender                object\n",
       "SeniorCitizen       category\n",
       "Partner               object\n",
       "Dependents            object\n",
       "tenure                 int64\n",
       "PhoneService          object\n",
       "MultipleLines         object\n",
       "InternetService       object\n",
       "OnlineSecurity        object\n",
       "OnlineBackup          object\n",
       "DeviceProtection      object\n",
       "TechSupport           object\n",
       "StreamingTV           object\n",
       "StreamingMovies       object\n",
       "Contract              object\n",
       "PaperlessBilling      object\n",
       "PaymentMethod         object\n",
       "MonthlyCharges       float64\n",
       "TotalCharges         float64\n",
       "Churn                 object\n",
       "dtype: object"
      ]
     },
     "execution_count": 18,
     "metadata": {},
     "output_type": "execute_result"
    }
   ],
   "source": [
    "data.dtypes"
   ]
  },
  {
   "cell_type": "markdown",
   "metadata": {},
   "source": [
    "#### Preparing Data for Model building"
   ]
  },
  {
   "cell_type": "code",
   "execution_count": 19,
   "metadata": {},
   "outputs": [
    {
     "data": {
      "text/plain": [
       "0    0.73463\n",
       "1    0.26537\n",
       "Name: Churn, dtype: float64"
      ]
     },
     "execution_count": 19,
     "metadata": {},
     "output_type": "execute_result"
    }
   ],
   "source": [
    "data['Churn'] = data['Churn'].replace(to_replace=['No', 'Yes'], value=[0, 1])\n",
    "data['Churn'].value_counts(normalize=True)"
   ]
  },
  {
   "cell_type": "markdown",
   "metadata": {},
   "source": [
    "### Split the data into train and test sets\n"
   ]
  },
  {
   "cell_type": "code",
   "execution_count": 20,
   "metadata": {},
   "outputs": [
    {
     "name": "stdout",
     "output_type": "stream",
     "text": [
      "(5634, 19) (1409, 19)\n"
     ]
    }
   ],
   "source": [
    "X = data.loc[:, data.columns != 'Churn']\n",
    "y = data['Churn']\n",
    "X_train, X_test, y_train, y_test = train_test_split(X, y,test_size=0.20, random_state=111, stratify = y)\n",
    "print(X_train.shape, X_test.shape)"
   ]
  },
  {
   "cell_type": "code",
   "execution_count": 21,
   "metadata": {},
   "outputs": [
    {
     "name": "stdout",
     "output_type": "stream",
     "text": [
      "Train data\n",
      "0    73.464679\n",
      "1    26.535321\n",
      "Name: Churn, dtype: float64\n",
      "\n",
      "\n",
      "Test data\n",
      "0    73.456352\n",
      "1    26.543648\n",
      "Name: Churn, dtype: float64\n"
     ]
    }
   ],
   "source": [
    "# Check the Train and Test data distribution\n",
    "print(\"Train data\")\n",
    "print(y_train.value_counts(normalize=True)*100)\n",
    "print(\"\\n\")\n",
    "print(\"Test data\")\n",
    "print(y_test.value_counts(normalize=True)*100)"
   ]
  },
  {
   "cell_type": "markdown",
   "metadata": {
    "colab_type": "text",
    "id": "mhXLf6cyZJ9t"
   },
   "source": [
    "### Split the attributes into numerical and categorical types"
   ]
  },
  {
   "cell_type": "code",
   "execution_count": 22,
   "metadata": {},
   "outputs": [
    {
     "data": {
      "text/plain": [
       "gender                object\n",
       "SeniorCitizen       category\n",
       "Partner               object\n",
       "Dependents            object\n",
       "tenure                 int64\n",
       "PhoneService          object\n",
       "MultipleLines         object\n",
       "InternetService       object\n",
       "OnlineSecurity        object\n",
       "OnlineBackup          object\n",
       "DeviceProtection      object\n",
       "TechSupport           object\n",
       "StreamingTV           object\n",
       "StreamingMovies       object\n",
       "Contract              object\n",
       "PaperlessBilling      object\n",
       "PaymentMethod         object\n",
       "MonthlyCharges       float64\n",
       "TotalCharges         float64\n",
       "dtype: object"
      ]
     },
     "execution_count": 22,
     "metadata": {},
     "output_type": "execute_result"
    }
   ],
   "source": [
    "X_train.dtypes"
   ]
  },
  {
   "cell_type": "code",
   "execution_count": 23,
   "metadata": {
    "colab": {
     "base_uri": "https://localhost:8080/",
     "height": 34
    },
    "colab_type": "code",
    "id": "lyFFCBJ-ZMtL",
    "outputId": "faaff1f8-3369-4cfb-839e-7154666213f6"
   },
   "outputs": [
    {
     "data": {
      "text/plain": [
       "Index(['tenure', 'MonthlyCharges', 'TotalCharges'], dtype='object')"
      ]
     },
     "execution_count": 23,
     "metadata": {},
     "output_type": "execute_result"
    }
   ],
   "source": [
    "num_attr=X_train.select_dtypes(['int64','float64']).columns\n",
    "num_attr"
   ]
  },
  {
   "cell_type": "code",
   "execution_count": 24,
   "metadata": {
    "colab": {
     "base_uri": "https://localhost:8080/",
     "height": 84
    },
    "colab_type": "code",
    "id": "v77MaP0MZMw1",
    "outputId": "df106421-0e5a-4b31-f4ad-5f6562113816"
   },
   "outputs": [
    {
     "data": {
      "text/plain": [
       "Index(['gender', 'SeniorCitizen', 'Partner', 'Dependents', 'PhoneService',\n",
       "       'MultipleLines', 'InternetService', 'OnlineSecurity', 'OnlineBackup',\n",
       "       'DeviceProtection', 'TechSupport', 'StreamingTV', 'StreamingMovies',\n",
       "       'Contract', 'PaperlessBilling', 'PaymentMethod'],\n",
       "      dtype='object')"
      ]
     },
     "execution_count": 24,
     "metadata": {},
     "output_type": "execute_result"
    }
   ],
   "source": [
    "cat_attr = X_train.select_dtypes(['category', 'object']).columns\n",
    "cat_attr"
   ]
  },
  {
   "cell_type": "markdown",
   "metadata": {
    "colab_type": "text",
    "id": "78FZr8TCEtJP"
   },
   "source": [
    "## Imputing missing values with median for numerical attributes"
   ]
  },
  {
   "cell_type": "code",
   "execution_count": 25,
   "metadata": {
    "colab": {},
    "colab_type": "code",
    "id": "MElasrMwaRX-"
   },
   "outputs": [],
   "source": [
    "imputer = SimpleImputer(strategy='median')\n",
    "\n",
    "imputer = imputer.fit(X_train[num_attr])\n",
    "X_train[num_attr] = imputer.transform(X_train[num_attr])\n",
    "X_test[num_attr] = imputer.transform(X_test[num_attr])"
   ]
  },
  {
   "cell_type": "code",
   "execution_count": 26,
   "metadata": {},
   "outputs": [
    {
     "data": {
      "text/plain": [
       "array([  29.  ,   70.45, 1399.35])"
      ]
     },
     "execution_count": 26,
     "metadata": {},
     "output_type": "execute_result"
    }
   ],
   "source": [
    "imputer.statistics_"
   ]
  },
  {
   "cell_type": "markdown",
   "metadata": {},
   "source": [
    "### Imputing missing values with mode for categorical attributes"
   ]
  },
  {
   "cell_type": "code",
   "execution_count": 27,
   "metadata": {
    "colab": {},
    "colab_type": "code",
    "id": "M8qkcZOodt4S"
   },
   "outputs": [],
   "source": [
    "imputer = SimpleImputer(strategy='most_frequent')\n",
    "\n",
    "imputer = imputer.fit(X_train[cat_attr])\n",
    "X_train[cat_attr] = imputer.transform(X_train[cat_attr])\n",
    "X_test[cat_attr] = imputer.transform(X_test[cat_attr])"
   ]
  },
  {
   "cell_type": "code",
   "execution_count": 28,
   "metadata": {},
   "outputs": [
    {
     "data": {
      "text/plain": [
       "array(['Male', 0, 'No', 'No', 'Yes', 'No', 'Fiber optic', 'No', 'No',\n",
       "       'No', 'No', 'No', 'No', 'Month-to-month', 'Yes',\n",
       "       'Electronic check'], dtype=object)"
      ]
     },
     "execution_count": 28,
     "metadata": {},
     "output_type": "execute_result"
    }
   ],
   "source": [
    "imputer.statistics_"
   ]
  },
  {
   "cell_type": "markdown",
   "metadata": {
    "colab_type": "text",
    "id": "HC6ewXEwFoqn"
   },
   "source": [
    "### Standardizing the numerical attributes and One-hot encoding categorical attributes "
   ]
  },
  {
   "cell_type": "code",
   "execution_count": 29,
   "metadata": {},
   "outputs": [],
   "source": [
    "# DataFrameMapper, a class for mapping pandas data frame columns to different sklearn transformations\n",
    "mapper = DataFrameMapper(\n",
    "  [([continuous_col], StandardScaler()) for continuous_col in num_attr] +\n",
    "  [([categorical_col], OneHotEncoder(handle_unknown='error')) for categorical_col in cat_attr]\n",
    ", df_out=True)"
   ]
  },
  {
   "cell_type": "code",
   "execution_count": 30,
   "metadata": {},
   "outputs": [],
   "source": [
    "mapper.fit(X_train)\n",
    "X_train = mapper.transform(X_train)\n",
    "X_test = mapper.transform(X_test)"
   ]
  },
  {
   "cell_type": "code",
   "execution_count": 31,
   "metadata": {},
   "outputs": [
    {
     "data": {
      "text/html": [
       "<div>\n",
       "<style scoped>\n",
       "    .dataframe tbody tr th:only-of-type {\n",
       "        vertical-align: middle;\n",
       "    }\n",
       "\n",
       "    .dataframe tbody tr th {\n",
       "        vertical-align: top;\n",
       "    }\n",
       "\n",
       "    .dataframe thead th {\n",
       "        text-align: right;\n",
       "    }\n",
       "</style>\n",
       "<table border=\"1\" class=\"dataframe\">\n",
       "  <thead>\n",
       "    <tr style=\"text-align: right;\">\n",
       "      <th></th>\n",
       "      <th>tenure</th>\n",
       "      <th>MonthlyCharges</th>\n",
       "      <th>TotalCharges</th>\n",
       "      <th>gender_x0_Female</th>\n",
       "      <th>gender_x0_Male</th>\n",
       "      <th>SeniorCitizen_x0_0</th>\n",
       "      <th>SeniorCitizen_x0_1</th>\n",
       "      <th>Partner_x0_No</th>\n",
       "      <th>Partner_x0_Yes</th>\n",
       "      <th>Dependents_x0_No</th>\n",
       "      <th>...</th>\n",
       "      <th>StreamingMovies_x0_Yes</th>\n",
       "      <th>Contract_x0_Month-to-month</th>\n",
       "      <th>Contract_x0_One year</th>\n",
       "      <th>Contract_x0_Two year</th>\n",
       "      <th>PaperlessBilling_x0_No</th>\n",
       "      <th>PaperlessBilling_x0_Yes</th>\n",
       "      <th>PaymentMethod_x0_Bank transfer (automatic)</th>\n",
       "      <th>PaymentMethod_x0_Credit card (automatic)</th>\n",
       "      <th>PaymentMethod_x0_Electronic check</th>\n",
       "      <th>PaymentMethod_x0_Mailed check</th>\n",
       "    </tr>\n",
       "  </thead>\n",
       "  <tbody>\n",
       "    <tr>\n",
       "      <th>3101</th>\n",
       "      <td>1.040564</td>\n",
       "      <td>0.499598</td>\n",
       "      <td>0.986096</td>\n",
       "      <td>1.0</td>\n",
       "      <td>0.0</td>\n",
       "      <td>1.0</td>\n",
       "      <td>0.0</td>\n",
       "      <td>1.0</td>\n",
       "      <td>0.0</td>\n",
       "      <td>1.0</td>\n",
       "      <td>...</td>\n",
       "      <td>0.0</td>\n",
       "      <td>1.0</td>\n",
       "      <td>0.0</td>\n",
       "      <td>0.0</td>\n",
       "      <td>0.0</td>\n",
       "      <td>1.0</td>\n",
       "      <td>1.0</td>\n",
       "      <td>0.0</td>\n",
       "      <td>0.0</td>\n",
       "      <td>0.0</td>\n",
       "    </tr>\n",
       "    <tr>\n",
       "      <th>6294</th>\n",
       "      <td>-1.280395</td>\n",
       "      <td>-1.495943</td>\n",
       "      <td>-0.998800</td>\n",
       "      <td>0.0</td>\n",
       "      <td>1.0</td>\n",
       "      <td>1.0</td>\n",
       "      <td>0.0</td>\n",
       "      <td>1.0</td>\n",
       "      <td>0.0</td>\n",
       "      <td>1.0</td>\n",
       "      <td>...</td>\n",
       "      <td>0.0</td>\n",
       "      <td>1.0</td>\n",
       "      <td>0.0</td>\n",
       "      <td>0.0</td>\n",
       "      <td>1.0</td>\n",
       "      <td>0.0</td>\n",
       "      <td>0.0</td>\n",
       "      <td>0.0</td>\n",
       "      <td>0.0</td>\n",
       "      <td>1.0</td>\n",
       "    </tr>\n",
       "    <tr>\n",
       "      <th>867</th>\n",
       "      <td>-1.117520</td>\n",
       "      <td>-1.469380</td>\n",
       "      <td>-0.961543</td>\n",
       "      <td>1.0</td>\n",
       "      <td>0.0</td>\n",
       "      <td>1.0</td>\n",
       "      <td>0.0</td>\n",
       "      <td>1.0</td>\n",
       "      <td>0.0</td>\n",
       "      <td>1.0</td>\n",
       "      <td>...</td>\n",
       "      <td>0.0</td>\n",
       "      <td>1.0</td>\n",
       "      <td>0.0</td>\n",
       "      <td>0.0</td>\n",
       "      <td>0.0</td>\n",
       "      <td>1.0</td>\n",
       "      <td>0.0</td>\n",
       "      <td>0.0</td>\n",
       "      <td>0.0</td>\n",
       "      <td>1.0</td>\n",
       "    </tr>\n",
       "    <tr>\n",
       "      <th>4448</th>\n",
       "      <td>-0.099556</td>\n",
       "      <td>1.160351</td>\n",
       "      <td>0.299311</td>\n",
       "      <td>1.0</td>\n",
       "      <td>0.0</td>\n",
       "      <td>0.0</td>\n",
       "      <td>1.0</td>\n",
       "      <td>1.0</td>\n",
       "      <td>0.0</td>\n",
       "      <td>1.0</td>\n",
       "      <td>...</td>\n",
       "      <td>1.0</td>\n",
       "      <td>1.0</td>\n",
       "      <td>0.0</td>\n",
       "      <td>0.0</td>\n",
       "      <td>0.0</td>\n",
       "      <td>1.0</td>\n",
       "      <td>0.0</td>\n",
       "      <td>0.0</td>\n",
       "      <td>1.0</td>\n",
       "      <td>0.0</td>\n",
       "    </tr>\n",
       "    <tr>\n",
       "      <th>4479</th>\n",
       "      <td>1.081283</td>\n",
       "      <td>-1.338225</td>\n",
       "      <td>-0.349932</td>\n",
       "      <td>1.0</td>\n",
       "      <td>0.0</td>\n",
       "      <td>1.0</td>\n",
       "      <td>0.0</td>\n",
       "      <td>1.0</td>\n",
       "      <td>0.0</td>\n",
       "      <td>1.0</td>\n",
       "      <td>...</td>\n",
       "      <td>0.0</td>\n",
       "      <td>0.0</td>\n",
       "      <td>0.0</td>\n",
       "      <td>1.0</td>\n",
       "      <td>1.0</td>\n",
       "      <td>0.0</td>\n",
       "      <td>0.0</td>\n",
       "      <td>0.0</td>\n",
       "      <td>1.0</td>\n",
       "      <td>0.0</td>\n",
       "    </tr>\n",
       "    <tr>\n",
       "      <th>4252</th>\n",
       "      <td>-0.547460</td>\n",
       "      <td>-0.287329</td>\n",
       "      <td>-0.552158</td>\n",
       "      <td>1.0</td>\n",
       "      <td>0.0</td>\n",
       "      <td>1.0</td>\n",
       "      <td>0.0</td>\n",
       "      <td>1.0</td>\n",
       "      <td>0.0</td>\n",
       "      <td>1.0</td>\n",
       "      <td>...</td>\n",
       "      <td>0.0</td>\n",
       "      <td>1.0</td>\n",
       "      <td>0.0</td>\n",
       "      <td>0.0</td>\n",
       "      <td>0.0</td>\n",
       "      <td>1.0</td>\n",
       "      <td>0.0</td>\n",
       "      <td>0.0</td>\n",
       "      <td>0.0</td>\n",
       "      <td>1.0</td>\n",
       "    </tr>\n",
       "    <tr>\n",
       "      <th>2771</th>\n",
       "      <td>-0.791772</td>\n",
       "      <td>-0.053243</td>\n",
       "      <td>-0.647766</td>\n",
       "      <td>1.0</td>\n",
       "      <td>0.0</td>\n",
       "      <td>1.0</td>\n",
       "      <td>0.0</td>\n",
       "      <td>0.0</td>\n",
       "      <td>1.0</td>\n",
       "      <td>0.0</td>\n",
       "      <td>...</td>\n",
       "      <td>1.0</td>\n",
       "      <td>1.0</td>\n",
       "      <td>0.0</td>\n",
       "      <td>0.0</td>\n",
       "      <td>0.0</td>\n",
       "      <td>1.0</td>\n",
       "      <td>0.0</td>\n",
       "      <td>0.0</td>\n",
       "      <td>0.0</td>\n",
       "      <td>1.0</td>\n",
       "    </tr>\n",
       "    <tr>\n",
       "      <th>1408</th>\n",
       "      <td>1.569906</td>\n",
       "      <td>1.306447</td>\n",
       "      <td>2.256793</td>\n",
       "      <td>1.0</td>\n",
       "      <td>0.0</td>\n",
       "      <td>1.0</td>\n",
       "      <td>0.0</td>\n",
       "      <td>0.0</td>\n",
       "      <td>1.0</td>\n",
       "      <td>1.0</td>\n",
       "      <td>...</td>\n",
       "      <td>1.0</td>\n",
       "      <td>0.0</td>\n",
       "      <td>1.0</td>\n",
       "      <td>0.0</td>\n",
       "      <td>0.0</td>\n",
       "      <td>1.0</td>\n",
       "      <td>0.0</td>\n",
       "      <td>1.0</td>\n",
       "      <td>0.0</td>\n",
       "      <td>0.0</td>\n",
       "    </tr>\n",
       "    <tr>\n",
       "      <th>3559</th>\n",
       "      <td>-0.221712</td>\n",
       "      <td>-1.490962</td>\n",
       "      <td>-0.800493</td>\n",
       "      <td>0.0</td>\n",
       "      <td>1.0</td>\n",
       "      <td>1.0</td>\n",
       "      <td>0.0</td>\n",
       "      <td>1.0</td>\n",
       "      <td>0.0</td>\n",
       "      <td>1.0</td>\n",
       "      <td>...</td>\n",
       "      <td>0.0</td>\n",
       "      <td>0.0</td>\n",
       "      <td>0.0</td>\n",
       "      <td>1.0</td>\n",
       "      <td>1.0</td>\n",
       "      <td>0.0</td>\n",
       "      <td>0.0</td>\n",
       "      <td>1.0</td>\n",
       "      <td>0.0</td>\n",
       "      <td>0.0</td>\n",
       "    </tr>\n",
       "    <tr>\n",
       "      <th>5145</th>\n",
       "      <td>1.366313</td>\n",
       "      <td>-1.296721</td>\n",
       "      <td>-0.252408</td>\n",
       "      <td>0.0</td>\n",
       "      <td>1.0</td>\n",
       "      <td>1.0</td>\n",
       "      <td>0.0</td>\n",
       "      <td>0.0</td>\n",
       "      <td>1.0</td>\n",
       "      <td>0.0</td>\n",
       "      <td>...</td>\n",
       "      <td>0.0</td>\n",
       "      <td>0.0</td>\n",
       "      <td>1.0</td>\n",
       "      <td>0.0</td>\n",
       "      <td>0.0</td>\n",
       "      <td>1.0</td>\n",
       "      <td>0.0</td>\n",
       "      <td>1.0</td>\n",
       "      <td>0.0</td>\n",
       "      <td>0.0</td>\n",
       "    </tr>\n",
       "  </tbody>\n",
       "</table>\n",
       "<p>10 rows × 39 columns</p>\n",
       "</div>"
      ],
      "text/plain": [
       "        tenure  MonthlyCharges  TotalCharges  gender_x0_Female  \\\n",
       "3101  1.040564        0.499598      0.986096               1.0   \n",
       "6294 -1.280395       -1.495943     -0.998800               0.0   \n",
       "867  -1.117520       -1.469380     -0.961543               1.0   \n",
       "4448 -0.099556        1.160351      0.299311               1.0   \n",
       "4479  1.081283       -1.338225     -0.349932               1.0   \n",
       "4252 -0.547460       -0.287329     -0.552158               1.0   \n",
       "2771 -0.791772       -0.053243     -0.647766               1.0   \n",
       "1408  1.569906        1.306447      2.256793               1.0   \n",
       "3559 -0.221712       -1.490962     -0.800493               0.0   \n",
       "5145  1.366313       -1.296721     -0.252408               0.0   \n",
       "\n",
       "      gender_x0_Male  SeniorCitizen_x0_0  SeniorCitizen_x0_1  Partner_x0_No  \\\n",
       "3101             0.0                 1.0                 0.0            1.0   \n",
       "6294             1.0                 1.0                 0.0            1.0   \n",
       "867              0.0                 1.0                 0.0            1.0   \n",
       "4448             0.0                 0.0                 1.0            1.0   \n",
       "4479             0.0                 1.0                 0.0            1.0   \n",
       "4252             0.0                 1.0                 0.0            1.0   \n",
       "2771             0.0                 1.0                 0.0            0.0   \n",
       "1408             0.0                 1.0                 0.0            0.0   \n",
       "3559             1.0                 1.0                 0.0            1.0   \n",
       "5145             1.0                 1.0                 0.0            0.0   \n",
       "\n",
       "      Partner_x0_Yes  Dependents_x0_No  ...  StreamingMovies_x0_Yes  \\\n",
       "3101             0.0               1.0  ...                     0.0   \n",
       "6294             0.0               1.0  ...                     0.0   \n",
       "867              0.0               1.0  ...                     0.0   \n",
       "4448             0.0               1.0  ...                     1.0   \n",
       "4479             0.0               1.0  ...                     0.0   \n",
       "4252             0.0               1.0  ...                     0.0   \n",
       "2771             1.0               0.0  ...                     1.0   \n",
       "1408             1.0               1.0  ...                     1.0   \n",
       "3559             0.0               1.0  ...                     0.0   \n",
       "5145             1.0               0.0  ...                     0.0   \n",
       "\n",
       "      Contract_x0_Month-to-month  Contract_x0_One year  Contract_x0_Two year  \\\n",
       "3101                         1.0                   0.0                   0.0   \n",
       "6294                         1.0                   0.0                   0.0   \n",
       "867                          1.0                   0.0                   0.0   \n",
       "4448                         1.0                   0.0                   0.0   \n",
       "4479                         0.0                   0.0                   1.0   \n",
       "4252                         1.0                   0.0                   0.0   \n",
       "2771                         1.0                   0.0                   0.0   \n",
       "1408                         0.0                   1.0                   0.0   \n",
       "3559                         0.0                   0.0                   1.0   \n",
       "5145                         0.0                   1.0                   0.0   \n",
       "\n",
       "      PaperlessBilling_x0_No  PaperlessBilling_x0_Yes  \\\n",
       "3101                     0.0                      1.0   \n",
       "6294                     1.0                      0.0   \n",
       "867                      0.0                      1.0   \n",
       "4448                     0.0                      1.0   \n",
       "4479                     1.0                      0.0   \n",
       "4252                     0.0                      1.0   \n",
       "2771                     0.0                      1.0   \n",
       "1408                     0.0                      1.0   \n",
       "3559                     1.0                      0.0   \n",
       "5145                     0.0                      1.0   \n",
       "\n",
       "      PaymentMethod_x0_Bank transfer (automatic)  \\\n",
       "3101                                         1.0   \n",
       "6294                                         0.0   \n",
       "867                                          0.0   \n",
       "4448                                         0.0   \n",
       "4479                                         0.0   \n",
       "4252                                         0.0   \n",
       "2771                                         0.0   \n",
       "1408                                         0.0   \n",
       "3559                                         0.0   \n",
       "5145                                         0.0   \n",
       "\n",
       "      PaymentMethod_x0_Credit card (automatic)  \\\n",
       "3101                                       0.0   \n",
       "6294                                       0.0   \n",
       "867                                        0.0   \n",
       "4448                                       0.0   \n",
       "4479                                       0.0   \n",
       "4252                                       0.0   \n",
       "2771                                       0.0   \n",
       "1408                                       1.0   \n",
       "3559                                       1.0   \n",
       "5145                                       1.0   \n",
       "\n",
       "      PaymentMethod_x0_Electronic check  PaymentMethod_x0_Mailed check  \n",
       "3101                                0.0                            0.0  \n",
       "6294                                0.0                            1.0  \n",
       "867                                 0.0                            1.0  \n",
       "4448                                1.0                            0.0  \n",
       "4479                                1.0                            0.0  \n",
       "4252                                0.0                            1.0  \n",
       "2771                                0.0                            1.0  \n",
       "1408                                0.0                            0.0  \n",
       "3559                                0.0                            0.0  \n",
       "5145                                0.0                            0.0  \n",
       "\n",
       "[10 rows x 39 columns]"
      ]
     },
     "execution_count": 31,
     "metadata": {},
     "output_type": "execute_result"
    }
   ],
   "source": [
    "X_train.head(10)"
   ]
  },
  {
   "cell_type": "code",
   "execution_count": 32,
   "metadata": {},
   "outputs": [
    {
     "name": "stdout",
     "output_type": "stream",
     "text": [
      "(5634, 39) (1409, 39)\n"
     ]
    }
   ],
   "source": [
    "print(X_train.shape, X_test.shape)"
   ]
  },
  {
   "cell_type": "code",
   "execution_count": 33,
   "metadata": {},
   "outputs": [
    {
     "name": "stdout",
     "output_type": "stream",
     "text": [
      "(5634,) (1409,)\n"
     ]
    }
   ],
   "source": [
    "print(y_train.shape, y_test.shape)"
   ]
  },
  {
   "cell_type": "markdown",
   "metadata": {
    "colab_type": "text",
    "id": "LaCrCouj867P"
   },
   "source": [
    "### Defining Error Metrics"
   ]
  },
  {
   "cell_type": "code",
   "execution_count": 34,
   "metadata": {},
   "outputs": [],
   "source": [
    "def get_CR_CM(train_actual,train_predicted,test_actual,test_predicted):\n",
    "    print('''\n",
    "             ========================================\n",
    "               CLASSIFICATION REPORT FOR TRAIN DATA\n",
    "             ========================================\n",
    "        ''')\n",
    "    print(classification_report(train_actual, train_predicted, digits=4))\n",
    "\n",
    "    print('''\n",
    "             =========================================\n",
    "               CLASSIFICATION REPORT FOR TEST DATA\n",
    "             =========================================\n",
    "            ''')\n",
    "    print(classification_report(test_actual, test_predicted, digits=4))\n",
    "\n",
    "    print('''\n",
    " ========================================\n",
    "   Confusion Matrix FOR TRAIN DATA\n",
    " ========================================\n",
    "            ''')\n",
    "    print(confusion_matrix(train_actual, train_predicted))\n",
    "\n",
    "    print('''\n",
    " =========================================\n",
    "   Confusion matrix FOR TEST DATA\n",
    " =========================================\n",
    "            ''')\n",
    "    print(confusion_matrix(test_actual, test_predicted))\n",
    "    "
   ]
  },
  {
   "cell_type": "code",
   "execution_count": 35,
   "metadata": {},
   "outputs": [],
   "source": [
    "def get_ACCURACY_RECALL(train_actual,train_predicted,test_actual,test_predicted):\n",
    "    print('''\n",
    " ========================================\n",
    "           ACCURACY FOR TRAIN DATA\n",
    " ========================================\n",
    "        ''')\n",
    "    print(\"         \",accuracy_score(train_actual, train_predicted))\n",
    "\n",
    "    print('''\n",
    " =========================================\n",
    "           ACCURACY FOR TEST DATA\n",
    " =========================================\n",
    "            ''')\n",
    "    print(\"         \",accuracy_score(test_actual, test_predicted))\n",
    "\n",
    "    print('''\n",
    " ========================================\n",
    "           RECALL FOR TRAIN DATA\n",
    " ========================================\n",
    "            ''')\n",
    "    print(\"         \",recall_score(train_actual, train_predicted))\n",
    "\n",
    "    print('''\n",
    " =========================================\n",
    "           RECALL FOR TEST DATA\n",
    " =========================================\n",
    "            ''')\n",
    "    print(\"         \",recall_score(test_actual, test_predicted))\n",
    "    "
   ]
  },
  {
   "cell_type": "code",
   "execution_count": 36,
   "metadata": {},
   "outputs": [],
   "source": [
    "scores = pd.DataFrame(columns=['Model','Train_Accuracy','Train_Recall','Train_Precision','Train_F1_Score','Test_Accuracy','Test_Recall','Test_Precision','Test_F1_Score'])\n",
    "\n",
    "def get_metrics(train_actual,train_predicted,test_actual,test_predicted,model_description,dataframe):\n",
    "    train_accuracy = accuracy_score(train_actual,train_predicted)\n",
    "    train_recall   = recall_score(train_actual,train_predicted)\n",
    "    train_precision= precision_score(train_actual,train_predicted)\n",
    "    train_f1score  = f1_score(train_actual,train_predicted)\n",
    "    test_accuracy = accuracy_score(test_actual,test_predicted)\n",
    "    test_recall   = recall_score(test_actual,test_predicted)\n",
    "    test_precision= precision_score(test_actual,test_predicted)\n",
    "    test_f1score  = f1_score(test_actual,test_predicted)\n",
    "    dataframe = dataframe.append(pd.Series([model_description, train_accuracy,train_recall,train_precision,train_f1score,\n",
    "                                            test_accuracy,test_recall,test_precision,test_f1score],\n",
    "                                           index=scores.columns ), ignore_index=True)\n",
    "    return(dataframe)"
   ]
  },
  {
   "cell_type": "markdown",
   "metadata": {},
   "source": [
    "## Building the ANN Model"
   ]
  },
  {
   "cell_type": "markdown",
   "metadata": {},
   "source": [
    "### Convert dataframe to numpy array to feed into Neural Networks"
   ]
  },
  {
   "cell_type": "code",
   "execution_count": 37,
   "metadata": {},
   "outputs": [],
   "source": [
    "X_train = X_train.values\n",
    "y_train = y_train.values\n",
    "X_test = X_test.values\n",
    "y_test = y_test.values"
   ]
  },
  {
   "cell_type": "code",
   "execution_count": 38,
   "metadata": {},
   "outputs": [
    {
     "name": "stdout",
     "output_type": "stream",
     "text": [
      "<class 'numpy.ndarray'>\n",
      "<class 'numpy.ndarray'>\n"
     ]
    }
   ],
   "source": [
    "print(type(X_train))\n",
    "print(type(X_test))"
   ]
  },
  {
   "cell_type": "code",
   "execution_count": 39,
   "metadata": {},
   "outputs": [
    {
     "data": {
      "text/plain": [
       "(5634, 39)"
      ]
     },
     "execution_count": 39,
     "metadata": {},
     "output_type": "execute_result"
    }
   ],
   "source": [
    "X_train.shape"
   ]
  },
  {
   "cell_type": "code",
   "execution_count": 40,
   "metadata": {},
   "outputs": [
    {
     "name": "stdout",
     "output_type": "stream",
     "text": [
      "39\n"
     ]
    }
   ],
   "source": [
    "# Taking input_shape\n",
    "input_shape = X_train.shape[1]\n",
    "print(input_shape)"
   ]
  },
  {
   "cell_type": "markdown",
   "metadata": {},
   "source": [
    "# Model 1 (1 hidden layer)"
   ]
  },
  {
   "cell_type": "code",
   "execution_count": 41,
   "metadata": {},
   "outputs": [],
   "source": [
    "seed = 7\n",
    "np.random.seed(seed)\n",
    "tf.random.set_seed(seed)"
   ]
  },
  {
   "cell_type": "code",
   "execution_count": 42,
   "metadata": {},
   "outputs": [],
   "source": [
    "model = Sequential()\n",
    "model.add(Dense(32, input_dim=input_shape, kernel_initializer='glorot_normal', activation='relu'))\n",
    "model.add(Dense(1, activation='sigmoid',kernel_initializer='glorot_normal'))"
   ]
  },
  {
   "cell_type": "code",
   "execution_count": 43,
   "metadata": {},
   "outputs": [
    {
     "name": "stdout",
     "output_type": "stream",
     "text": [
      "Model: \"sequential\"\n",
      "_________________________________________________________________\n",
      "Layer (type)                 Output Shape              Param #   \n",
      "=================================================================\n",
      "dense (Dense)                (None, 32)                1280      \n",
      "_________________________________________________________________\n",
      "dense_1 (Dense)              (None, 1)                 33        \n",
      "=================================================================\n",
      "Total params: 1,313\n",
      "Trainable params: 1,313\n",
      "Non-trainable params: 0\n",
      "_________________________________________________________________\n"
     ]
    }
   ],
   "source": [
    "model.summary()"
   ]
  },
  {
   "cell_type": "code",
   "execution_count": 44,
   "metadata": {},
   "outputs": [],
   "source": [
    "model.compile(loss='binary_crossentropy',\n",
    "              optimizer='adam',\n",
    "              metrics=['accuracy'])"
   ]
  },
  {
   "cell_type": "markdown",
   "metadata": {},
   "source": [
    "#### Callbacks - Early Stopping"
   ]
  },
  {
   "cell_type": "code",
   "execution_count": 45,
   "metadata": {},
   "outputs": [],
   "source": [
    "early_stopping = EarlyStopping(monitor='val_loss', patience=5, mode='min', verbose=1, min_delta=0.001)"
   ]
  },
  {
   "cell_type": "code",
   "execution_count": 46,
   "metadata": {},
   "outputs": [],
   "source": [
    "callbacks=[early_stopping]"
   ]
  },
  {
   "cell_type": "code",
   "execution_count": 47,
   "metadata": {},
   "outputs": [
    {
     "name": "stdout",
     "output_type": "stream",
     "text": [
      "Epoch 1/100\n",
      "71/71 [==============================] - 0s 4ms/step - loss: 0.5230 - accuracy: 0.7428 - val_loss: 0.4357 - val_accuracy: 0.7986\n",
      "Epoch 2/100\n",
      "71/71 [==============================] - 0s 2ms/step - loss: 0.4401 - accuracy: 0.7914 - val_loss: 0.4154 - val_accuracy: 0.8048\n",
      "Epoch 3/100\n",
      "71/71 [==============================] - 0s 2ms/step - loss: 0.4297 - accuracy: 0.7939 - val_loss: 0.4138 - val_accuracy: 0.8119\n",
      "Epoch 4/100\n",
      "71/71 [==============================] - 0s 2ms/step - loss: 0.4262 - accuracy: 0.7981 - val_loss: 0.4054 - val_accuracy: 0.8119\n",
      "Epoch 5/100\n",
      "71/71 [==============================] - 0s 2ms/step - loss: 0.4231 - accuracy: 0.8016 - val_loss: 0.4068 - val_accuracy: 0.8137\n",
      "Epoch 6/100\n",
      "71/71 [==============================] - 0s 2ms/step - loss: 0.4218 - accuracy: 0.8034 - val_loss: 0.4033 - val_accuracy: 0.8146\n",
      "Epoch 7/100\n",
      "71/71 [==============================] - 0s 2ms/step - loss: 0.4202 - accuracy: 0.8021 - val_loss: 0.4083 - val_accuracy: 0.8154\n",
      "Epoch 8/100\n",
      "71/71 [==============================] - 0s 2ms/step - loss: 0.4204 - accuracy: 0.8021 - val_loss: 0.4046 - val_accuracy: 0.8154\n",
      "Epoch 9/100\n",
      "71/71 [==============================] - 0s 2ms/step - loss: 0.4192 - accuracy: 0.8014 - val_loss: 0.4027 - val_accuracy: 0.8137\n",
      "Epoch 10/100\n",
      "71/71 [==============================] - 0s 2ms/step - loss: 0.4169 - accuracy: 0.8059 - val_loss: 0.4073 - val_accuracy: 0.8181\n",
      "Epoch 11/100\n",
      "71/71 [==============================] - 0s 2ms/step - loss: 0.4157 - accuracy: 0.8056 - val_loss: 0.4023 - val_accuracy: 0.8137\n",
      "Epoch 00011: early stopping\n"
     ]
    },
    {
     "data": {
      "text/plain": [
       "<tensorflow.python.keras.callbacks.History at 0x26dbecae788>"
      ]
     },
     "execution_count": 47,
     "metadata": {},
     "output_type": "execute_result"
    }
   ],
   "source": [
    "model.fit(X_train, y_train,epochs=100,batch_size=64,validation_split=0.2,callbacks=callbacks)"
   ]
  },
  {
   "cell_type": "code",
   "execution_count": 48,
   "metadata": {},
   "outputs": [
    {
     "name": "stdout",
     "output_type": "stream",
     "text": [
      "WARNING:tensorflow:From <ipython-input-48-b05cf1a55a2c>:1: Sequential.predict_classes (from tensorflow.python.keras.engine.sequential) is deprecated and will be removed after 2021-01-01.\n",
      "Instructions for updating:\n",
      "Please use instead:* `np.argmax(model.predict(x), axis=-1)`,   if your model does multi-class classification   (e.g. if it uses a `softmax` last-layer activation).* `(model.predict(x) > 0.5).astype(\"int32\")`,   if your model does binary classification   (e.g. if it uses a `sigmoid` last-layer activation).\n"
     ]
    }
   ],
   "source": [
    "train_pred_1=model.predict_classes(X_train)\n",
    "test_pred_1=model.predict_classes(X_test)"
   ]
  },
  {
   "cell_type": "code",
   "execution_count": 49,
   "metadata": {},
   "outputs": [
    {
     "name": "stdout",
     "output_type": "stream",
     "text": [
      "\n",
      "             ========================================\n",
      "               CLASSIFICATION REPORT FOR TRAIN DATA\n",
      "             ========================================\n",
      "        \n",
      "              precision    recall  f1-score   support\n",
      "\n",
      "           0     0.8455    0.9019    0.8728      4139\n",
      "           1     0.6669    0.5438    0.5991      1495\n",
      "\n",
      "    accuracy                         0.8069      5634\n",
      "   macro avg     0.7562    0.7229    0.7360      5634\n",
      "weighted avg     0.7981    0.8069    0.8002      5634\n",
      "\n",
      "\n",
      "             =========================================\n",
      "               CLASSIFICATION REPORT FOR TEST DATA\n",
      "             =========================================\n",
      "            \n",
      "              precision    recall  f1-score   support\n",
      "\n",
      "           0     0.8450    0.9005    0.8718      1035\n",
      "           1     0.6634    0.5428    0.5971       374\n",
      "\n",
      "    accuracy                         0.8055      1409\n",
      "   macro avg     0.7542    0.7216    0.7345      1409\n",
      "weighted avg     0.7968    0.8055    0.7989      1409\n",
      "\n",
      "\n",
      " ========================================\n",
      "   Confusion Matrix FOR TRAIN DATA\n",
      " ========================================\n",
      "            \n",
      "[[3733  406]\n",
      " [ 682  813]]\n",
      "\n",
      " =========================================\n",
      "   Confusion matrix FOR TEST DATA\n",
      " =========================================\n",
      "            \n",
      "[[932 103]\n",
      " [171 203]]\n"
     ]
    }
   ],
   "source": [
    "get_CR_CM(y_train, train_pred_1, y_test, test_pred_1)"
   ]
  },
  {
   "cell_type": "code",
   "execution_count": 50,
   "metadata": {},
   "outputs": [
    {
     "name": "stdout",
     "output_type": "stream",
     "text": [
      "\n",
      " ========================================\n",
      "           ACCURACY FOR TRAIN DATA\n",
      " ========================================\n",
      "        \n",
      "          0.8068867589634363\n",
      "\n",
      " =========================================\n",
      "           ACCURACY FOR TEST DATA\n",
      " =========================================\n",
      "            \n",
      "          0.8055358410220014\n",
      "\n",
      " ========================================\n",
      "           RECALL FOR TRAIN DATA\n",
      " ========================================\n",
      "            \n",
      "          0.5438127090301004\n",
      "\n",
      " =========================================\n",
      "           RECALL FOR TEST DATA\n",
      " =========================================\n",
      "            \n",
      "          0.5427807486631016\n"
     ]
    }
   ],
   "source": [
    "get_ACCURACY_RECALL(y_train, train_pred_1, y_test, test_pred_1)"
   ]
  },
  {
   "cell_type": "code",
   "execution_count": 51,
   "metadata": {},
   "outputs": [
    {
     "data": {
      "text/html": [
       "<div>\n",
       "<style scoped>\n",
       "    .dataframe tbody tr th:only-of-type {\n",
       "        vertical-align: middle;\n",
       "    }\n",
       "\n",
       "    .dataframe tbody tr th {\n",
       "        vertical-align: top;\n",
       "    }\n",
       "\n",
       "    .dataframe thead th {\n",
       "        text-align: right;\n",
       "    }\n",
       "</style>\n",
       "<table border=\"1\" class=\"dataframe\">\n",
       "  <thead>\n",
       "    <tr style=\"text-align: right;\">\n",
       "      <th></th>\n",
       "      <th>Model</th>\n",
       "      <th>Train_Accuracy</th>\n",
       "      <th>Train_Recall</th>\n",
       "      <th>Train_Precision</th>\n",
       "      <th>Train_F1_Score</th>\n",
       "      <th>Test_Accuracy</th>\n",
       "      <th>Test_Recall</th>\n",
       "      <th>Test_Precision</th>\n",
       "      <th>Test_F1_Score</th>\n",
       "    </tr>\n",
       "  </thead>\n",
       "  <tbody>\n",
       "    <tr>\n",
       "      <th>0</th>\n",
       "      <td>1 layer model</td>\n",
       "      <td>0.806887</td>\n",
       "      <td>0.543813</td>\n",
       "      <td>0.66694</td>\n",
       "      <td>0.599116</td>\n",
       "      <td>0.805536</td>\n",
       "      <td>0.542781</td>\n",
       "      <td>0.663399</td>\n",
       "      <td>0.597059</td>\n",
       "    </tr>\n",
       "  </tbody>\n",
       "</table>\n",
       "</div>"
      ],
      "text/plain": [
       "           Model  Train_Accuracy  Train_Recall  Train_Precision  \\\n",
       "0  1 layer model        0.806887      0.543813          0.66694   \n",
       "\n",
       "   Train_F1_Score  Test_Accuracy  Test_Recall  Test_Precision  Test_F1_Score  \n",
       "0        0.599116       0.805536     0.542781        0.663399       0.597059  "
      ]
     },
     "execution_count": 51,
     "metadata": {},
     "output_type": "execute_result"
    }
   ],
   "source": [
    "scores = get_metrics(y_train,train_pred_1,y_test,test_pred_1,\"1 layer model\",scores)\n",
    "scores"
   ]
  },
  {
   "cell_type": "markdown",
   "metadata": {},
   "source": [
    "# Model 2 - Experiment 1 (2 hidden layers)"
   ]
  },
  {
   "cell_type": "code",
   "execution_count": 52,
   "metadata": {},
   "outputs": [],
   "source": [
    "np.random.seed(seed)\n",
    "tf.random.set_seed(seed)"
   ]
  },
  {
   "cell_type": "code",
   "execution_count": 53,
   "metadata": {},
   "outputs": [],
   "source": [
    "model = Sequential()\n",
    "model.add(Dense(16, input_dim=input_shape, kernel_initializer='glorot_normal', activation='relu'))\n",
    "model.add(Dense(12, kernel_initializer='glorot_normal', activation='relu'))\n",
    "model.add(Dense(1, activation='sigmoid',kernel_initializer='glorot_normal'))"
   ]
  },
  {
   "cell_type": "code",
   "execution_count": 54,
   "metadata": {},
   "outputs": [
    {
     "name": "stdout",
     "output_type": "stream",
     "text": [
      "Model: \"sequential_1\"\n",
      "_________________________________________________________________\n",
      "Layer (type)                 Output Shape              Param #   \n",
      "=================================================================\n",
      "dense_2 (Dense)              (None, 16)                640       \n",
      "_________________________________________________________________\n",
      "dense_3 (Dense)              (None, 12)                204       \n",
      "_________________________________________________________________\n",
      "dense_4 (Dense)              (None, 1)                 13        \n",
      "=================================================================\n",
      "Total params: 857\n",
      "Trainable params: 857\n",
      "Non-trainable params: 0\n",
      "_________________________________________________________________\n"
     ]
    }
   ],
   "source": [
    "model.summary()"
   ]
  },
  {
   "cell_type": "code",
   "execution_count": 55,
   "metadata": {},
   "outputs": [],
   "source": [
    "model.compile(loss='binary_crossentropy',\n",
    "              optimizer='adam',\n",
    "              metrics=['accuracy'])"
   ]
  },
  {
   "cell_type": "code",
   "execution_count": 56,
   "metadata": {},
   "outputs": [
    {
     "name": "stdout",
     "output_type": "stream",
     "text": [
      "Epoch 1/50\n",
      "71/71 [==============================] - 0s 4ms/step - loss: 0.6686 - accuracy: 0.5682 - val_loss: 0.5173 - val_accuracy: 0.7533\n",
      "Epoch 2/50\n",
      "71/71 [==============================] - 0s 2ms/step - loss: 0.4932 - accuracy: 0.7555 - val_loss: 0.4403 - val_accuracy: 0.7924\n",
      "Epoch 3/50\n",
      "71/71 [==============================] - 0s 2ms/step - loss: 0.4460 - accuracy: 0.7910 - val_loss: 0.4263 - val_accuracy: 0.8110\n",
      "Epoch 4/50\n",
      "71/71 [==============================] - 0s 2ms/step - loss: 0.4358 - accuracy: 0.7928 - val_loss: 0.4133 - val_accuracy: 0.8004\n",
      "Epoch 5/50\n",
      "71/71 [==============================] - 0s 2ms/step - loss: 0.4304 - accuracy: 0.7950 - val_loss: 0.4131 - val_accuracy: 0.8083\n",
      "Epoch 6/50\n",
      "71/71 [==============================] - 0s 2ms/step - loss: 0.4274 - accuracy: 0.7963 - val_loss: 0.4095 - val_accuracy: 0.8110\n",
      "Epoch 7/50\n",
      "71/71 [==============================] - 0s 2ms/step - loss: 0.4247 - accuracy: 0.7976 - val_loss: 0.4197 - val_accuracy: 0.8119\n",
      "Epoch 8/50\n",
      "71/71 [==============================] - 0s 2ms/step - loss: 0.4245 - accuracy: 0.7976 - val_loss: 0.4120 - val_accuracy: 0.8119\n",
      "Epoch 9/50\n",
      "71/71 [==============================] - 0s 2ms/step - loss: 0.4221 - accuracy: 0.7974 - val_loss: 0.4102 - val_accuracy: 0.8092\n",
      "Epoch 10/50\n",
      "71/71 [==============================] - 0s 2ms/step - loss: 0.4198 - accuracy: 0.8010 - val_loss: 0.4149 - val_accuracy: 0.8137\n",
      "Epoch 11/50\n",
      "71/71 [==============================] - 0s 2ms/step - loss: 0.4183 - accuracy: 0.7999 - val_loss: 0.4101 - val_accuracy: 0.8110\n",
      "Epoch 00011: early stopping\n"
     ]
    },
    {
     "data": {
      "text/plain": [
       "<tensorflow.python.keras.callbacks.History at 0x26dc623dfc8>"
      ]
     },
     "execution_count": 56,
     "metadata": {},
     "output_type": "execute_result"
    }
   ],
   "source": [
    "model.fit(X_train, y_train, epochs=50, batch_size=64,validation_split=0.2,callbacks=callbacks)"
   ]
  },
  {
   "cell_type": "code",
   "execution_count": 57,
   "metadata": {},
   "outputs": [],
   "source": [
    "train_pred_2=model.predict_classes(X_train)\n",
    "test_pred_2=model.predict_classes(X_test)"
   ]
  },
  {
   "cell_type": "code",
   "execution_count": 58,
   "metadata": {
    "scrolled": true
   },
   "outputs": [
    {
     "name": "stdout",
     "output_type": "stream",
     "text": [
      "\n",
      "             ========================================\n",
      "               CLASSIFICATION REPORT FOR TRAIN DATA\n",
      "             ========================================\n",
      "        \n",
      "              precision    recall  f1-score   support\n",
      "\n",
      "           0     0.8470    0.8947    0.8702      4139\n",
      "           1     0.6545    0.5525    0.5992      1495\n",
      "\n",
      "    accuracy                         0.8039      5634\n",
      "   macro avg     0.7507    0.7236    0.7347      5634\n",
      "weighted avg     0.7959    0.8039    0.7983      5634\n",
      "\n",
      "\n",
      "             =========================================\n",
      "               CLASSIFICATION REPORT FOR TEST DATA\n",
      "             =========================================\n",
      "            \n",
      "              precision    recall  f1-score   support\n",
      "\n",
      "           0     0.8478    0.8986    0.8724      1035\n",
      "           1     0.6635    0.5535    0.6035       374\n",
      "\n",
      "    accuracy                         0.8070      1409\n",
      "   macro avg     0.7556    0.7260    0.7380      1409\n",
      "weighted avg     0.7988    0.8070    0.8010      1409\n",
      "\n",
      "\n",
      " ========================================\n",
      "   Confusion Matrix FOR TRAIN DATA\n",
      " ========================================\n",
      "            \n",
      "[[3703  436]\n",
      " [ 669  826]]\n",
      "\n",
      " =========================================\n",
      "   Confusion matrix FOR TEST DATA\n",
      " =========================================\n",
      "            \n",
      "[[930 105]\n",
      " [167 207]]\n"
     ]
    }
   ],
   "source": [
    "get_CR_CM(y_train, train_pred_2, y_test, test_pred_2)"
   ]
  },
  {
   "cell_type": "code",
   "execution_count": 59,
   "metadata": {},
   "outputs": [
    {
     "name": "stdout",
     "output_type": "stream",
     "text": [
      "\n",
      " ========================================\n",
      "           ACCURACY FOR TRAIN DATA\n",
      " ========================================\n",
      "        \n",
      "          0.80386936457224\n",
      "\n",
      " =========================================\n",
      "           ACCURACY FOR TEST DATA\n",
      " =========================================\n",
      "            \n",
      "          0.8069552874378992\n",
      "\n",
      " ========================================\n",
      "           RECALL FOR TRAIN DATA\n",
      " ========================================\n",
      "            \n",
      "          0.5525083612040134\n",
      "\n",
      " =========================================\n",
      "           RECALL FOR TEST DATA\n",
      " =========================================\n",
      "            \n",
      "          0.553475935828877\n"
     ]
    }
   ],
   "source": [
    "get_ACCURACY_RECALL(y_train, train_pred_2, y_test, test_pred_2)"
   ]
  },
  {
   "cell_type": "code",
   "execution_count": 60,
   "metadata": {},
   "outputs": [
    {
     "data": {
      "text/html": [
       "<div>\n",
       "<style scoped>\n",
       "    .dataframe tbody tr th:only-of-type {\n",
       "        vertical-align: middle;\n",
       "    }\n",
       "\n",
       "    .dataframe tbody tr th {\n",
       "        vertical-align: top;\n",
       "    }\n",
       "\n",
       "    .dataframe thead th {\n",
       "        text-align: right;\n",
       "    }\n",
       "</style>\n",
       "<table border=\"1\" class=\"dataframe\">\n",
       "  <thead>\n",
       "    <tr style=\"text-align: right;\">\n",
       "      <th></th>\n",
       "      <th>Model</th>\n",
       "      <th>Train_Accuracy</th>\n",
       "      <th>Train_Recall</th>\n",
       "      <th>Train_Precision</th>\n",
       "      <th>Train_F1_Score</th>\n",
       "      <th>Test_Accuracy</th>\n",
       "      <th>Test_Recall</th>\n",
       "      <th>Test_Precision</th>\n",
       "      <th>Test_F1_Score</th>\n",
       "    </tr>\n",
       "  </thead>\n",
       "  <tbody>\n",
       "    <tr>\n",
       "      <th>0</th>\n",
       "      <td>1 layer model</td>\n",
       "      <td>0.806887</td>\n",
       "      <td>0.543813</td>\n",
       "      <td>0.666940</td>\n",
       "      <td>0.599116</td>\n",
       "      <td>0.805536</td>\n",
       "      <td>0.542781</td>\n",
       "      <td>0.663399</td>\n",
       "      <td>0.597059</td>\n",
       "    </tr>\n",
       "    <tr>\n",
       "      <th>1</th>\n",
       "      <td>2 layer model - experiment 1</td>\n",
       "      <td>0.803869</td>\n",
       "      <td>0.552508</td>\n",
       "      <td>0.654517</td>\n",
       "      <td>0.599202</td>\n",
       "      <td>0.806955</td>\n",
       "      <td>0.553476</td>\n",
       "      <td>0.663462</td>\n",
       "      <td>0.603499</td>\n",
       "    </tr>\n",
       "  </tbody>\n",
       "</table>\n",
       "</div>"
      ],
      "text/plain": [
       "                          Model  Train_Accuracy  Train_Recall  \\\n",
       "0                 1 layer model        0.806887      0.543813   \n",
       "1  2 layer model - experiment 1        0.803869      0.552508   \n",
       "\n",
       "   Train_Precision  Train_F1_Score  Test_Accuracy  Test_Recall  \\\n",
       "0         0.666940        0.599116       0.805536     0.542781   \n",
       "1         0.654517        0.599202       0.806955     0.553476   \n",
       "\n",
       "   Test_Precision  Test_F1_Score  \n",
       "0        0.663399       0.597059  \n",
       "1        0.663462       0.603499  "
      ]
     },
     "execution_count": 60,
     "metadata": {},
     "output_type": "execute_result"
    }
   ],
   "source": [
    "scores = get_metrics(y_train,train_pred_2,y_test,test_pred_2,\"2 layer model - experiment 1\",scores)\n",
    "scores"
   ]
  },
  {
   "cell_type": "markdown",
   "metadata": {},
   "source": [
    "# Model 2 - Experiment 2 (2 hidden layers with different number of neurons)"
   ]
  },
  {
   "cell_type": "code",
   "execution_count": 61,
   "metadata": {},
   "outputs": [],
   "source": [
    "np.random.seed(seed)\n",
    "tf.random.set_seed(seed)"
   ]
  },
  {
   "cell_type": "code",
   "execution_count": 62,
   "metadata": {},
   "outputs": [],
   "source": [
    "model = Sequential()\n",
    "model.add(Dense(128, input_dim=input_shape, kernel_initializer='glorot_normal', activation='relu'))\n",
    "model.add(Dense(64, kernel_initializer='glorot_normal', activation='relu'))\n",
    "model.add(Dense(1, activation='sigmoid',kernel_initializer='glorot_normal'))"
   ]
  },
  {
   "cell_type": "code",
   "execution_count": 63,
   "metadata": {},
   "outputs": [
    {
     "name": "stdout",
     "output_type": "stream",
     "text": [
      "Model: \"sequential_2\"\n",
      "_________________________________________________________________\n",
      "Layer (type)                 Output Shape              Param #   \n",
      "=================================================================\n",
      "dense_5 (Dense)              (None, 128)               5120      \n",
      "_________________________________________________________________\n",
      "dense_6 (Dense)              (None, 64)                8256      \n",
      "_________________________________________________________________\n",
      "dense_7 (Dense)              (None, 1)                 65        \n",
      "=================================================================\n",
      "Total params: 13,441\n",
      "Trainable params: 13,441\n",
      "Non-trainable params: 0\n",
      "_________________________________________________________________\n"
     ]
    }
   ],
   "source": [
    "model.summary()"
   ]
  },
  {
   "cell_type": "code",
   "execution_count": 64,
   "metadata": {},
   "outputs": [],
   "source": [
    "model.compile(loss='binary_crossentropy',\n",
    "              optimizer='adam',\n",
    "              metrics=['accuracy'])"
   ]
  },
  {
   "cell_type": "code",
   "execution_count": 65,
   "metadata": {},
   "outputs": [
    {
     "name": "stdout",
     "output_type": "stream",
     "text": [
      "Epoch 1/50\n",
      "47/71 [==================>...........] - ETA: 0s - loss: 0.4916 - accuracy: 0.7497WARNING:tensorflow:Callbacks method `on_test_batch_end` is slow compared to the batch time (batch time: 0.0000s vs `on_test_batch_end` time: 0.0010s). Check your callbacks.\n",
      "71/71 [==============================] - 0s 4ms/step - loss: 0.4696 - accuracy: 0.7695 - val_loss: 0.4186 - val_accuracy: 0.8004\n",
      "Epoch 2/50\n",
      "71/71 [==============================] - 0s 2ms/step - loss: 0.4244 - accuracy: 0.7976 - val_loss: 0.4248 - val_accuracy: 0.8030\n",
      "Epoch 3/50\n",
      "71/71 [==============================] - 0s 2ms/step - loss: 0.4202 - accuracy: 0.8010 - val_loss: 0.4124 - val_accuracy: 0.8190\n",
      "Epoch 4/50\n",
      "71/71 [==============================] - 0s 2ms/step - loss: 0.4153 - accuracy: 0.7974 - val_loss: 0.4099 - val_accuracy: 0.8163\n",
      "Epoch 5/50\n",
      "71/71 [==============================] - 0s 2ms/step - loss: 0.4133 - accuracy: 0.8045 - val_loss: 0.4098 - val_accuracy: 0.8172\n",
      "Epoch 6/50\n",
      "71/71 [==============================] - 0s 2ms/step - loss: 0.4088 - accuracy: 0.8054 - val_loss: 0.4082 - val_accuracy: 0.8154\n",
      "Epoch 7/50\n",
      "71/71 [==============================] - 0s 2ms/step - loss: 0.4061 - accuracy: 0.8103 - val_loss: 0.4046 - val_accuracy: 0.8039\n",
      "Epoch 8/50\n",
      "71/71 [==============================] - 0s 2ms/step - loss: 0.4076 - accuracy: 0.8094 - val_loss: 0.4190 - val_accuracy: 0.8146\n",
      "Epoch 9/50\n",
      "71/71 [==============================] - 0s 3ms/step - loss: 0.4050 - accuracy: 0.8059 - val_loss: 0.4070 - val_accuracy: 0.8066\n",
      "Epoch 10/50\n",
      "71/71 [==============================] - 0s 2ms/step - loss: 0.3970 - accuracy: 0.8110 - val_loss: 0.4201 - val_accuracy: 0.8146\n",
      "Epoch 11/50\n",
      "71/71 [==============================] - 0s 2ms/step - loss: 0.3943 - accuracy: 0.8145 - val_loss: 0.4109 - val_accuracy: 0.8092\n",
      "Epoch 12/50\n",
      "71/71 [==============================] - 0s 2ms/step - loss: 0.3888 - accuracy: 0.8152 - val_loss: 0.4088 - val_accuracy: 0.7995\n",
      "Epoch 00012: early stopping\n"
     ]
    },
    {
     "data": {
      "text/plain": [
       "<tensorflow.python.keras.callbacks.History at 0x26dc7425048>"
      ]
     },
     "execution_count": 65,
     "metadata": {},
     "output_type": "execute_result"
    }
   ],
   "source": [
    "model.fit(X_train, y_train, epochs=50, batch_size=64,validation_split=0.2,callbacks=callbacks)"
   ]
  },
  {
   "cell_type": "code",
   "execution_count": 66,
   "metadata": {},
   "outputs": [],
   "source": [
    "train_pred_2=model.predict_classes(X_train)\n",
    "test_pred_2=model.predict_classes(X_test)"
   ]
  },
  {
   "cell_type": "code",
   "execution_count": 67,
   "metadata": {},
   "outputs": [
    {
     "name": "stdout",
     "output_type": "stream",
     "text": [
      "\n",
      "             ========================================\n",
      "               CLASSIFICATION REPORT FOR TRAIN DATA\n",
      "             ========================================\n",
      "        \n",
      "              precision    recall  f1-score   support\n",
      "\n",
      "           0     0.8273    0.9423    0.8811      4139\n",
      "           1     0.7402    0.4555    0.5640      1495\n",
      "\n",
      "    accuracy                         0.8131      5634\n",
      "   macro avg     0.7838    0.6989    0.7225      5634\n",
      "weighted avg     0.8042    0.8131    0.7969      5634\n",
      "\n",
      "\n",
      "             =========================================\n",
      "               CLASSIFICATION REPORT FOR TEST DATA\n",
      "             =========================================\n",
      "            \n",
      "              precision    recall  f1-score   support\n",
      "\n",
      "           0     0.8166    0.9333    0.8711      1035\n",
      "           1     0.6947    0.4198    0.5233       374\n",
      "\n",
      "    accuracy                         0.7970      1409\n",
      "   macro avg     0.7556    0.6766    0.6972      1409\n",
      "weighted avg     0.7842    0.7970    0.7788      1409\n",
      "\n",
      "\n",
      " ========================================\n",
      "   Confusion Matrix FOR TRAIN DATA\n",
      " ========================================\n",
      "            \n",
      "[[3900  239]\n",
      " [ 814  681]]\n",
      "\n",
      " =========================================\n",
      "   Confusion matrix FOR TEST DATA\n",
      " =========================================\n",
      "            \n",
      "[[966  69]\n",
      " [217 157]]\n"
     ]
    }
   ],
   "source": [
    "get_CR_CM(y_train, train_pred_2, y_test, test_pred_2)"
   ]
  },
  {
   "cell_type": "code",
   "execution_count": 68,
   "metadata": {},
   "outputs": [
    {
     "name": "stdout",
     "output_type": "stream",
     "text": [
      "\n",
      " ========================================\n",
      "           ACCURACY FOR TRAIN DATA\n",
      " ========================================\n",
      "        \n",
      "          0.8130990415335463\n",
      "\n",
      " =========================================\n",
      "           ACCURACY FOR TEST DATA\n",
      " =========================================\n",
      "            \n",
      "          0.7970191625266146\n",
      "\n",
      " ========================================\n",
      "           RECALL FOR TRAIN DATA\n",
      " ========================================\n",
      "            \n",
      "          0.45551839464882943\n",
      "\n",
      " =========================================\n",
      "           RECALL FOR TEST DATA\n",
      " =========================================\n",
      "            \n",
      "          0.4197860962566845\n"
     ]
    }
   ],
   "source": [
    "get_ACCURACY_RECALL(y_train, train_pred_2, y_test, test_pred_2)"
   ]
  },
  {
   "cell_type": "code",
   "execution_count": 69,
   "metadata": {},
   "outputs": [
    {
     "data": {
      "text/html": [
       "<div>\n",
       "<style scoped>\n",
       "    .dataframe tbody tr th:only-of-type {\n",
       "        vertical-align: middle;\n",
       "    }\n",
       "\n",
       "    .dataframe tbody tr th {\n",
       "        vertical-align: top;\n",
       "    }\n",
       "\n",
       "    .dataframe thead th {\n",
       "        text-align: right;\n",
       "    }\n",
       "</style>\n",
       "<table border=\"1\" class=\"dataframe\">\n",
       "  <thead>\n",
       "    <tr style=\"text-align: right;\">\n",
       "      <th></th>\n",
       "      <th>Model</th>\n",
       "      <th>Train_Accuracy</th>\n",
       "      <th>Train_Recall</th>\n",
       "      <th>Train_Precision</th>\n",
       "      <th>Train_F1_Score</th>\n",
       "      <th>Test_Accuracy</th>\n",
       "      <th>Test_Recall</th>\n",
       "      <th>Test_Precision</th>\n",
       "      <th>Test_F1_Score</th>\n",
       "    </tr>\n",
       "  </thead>\n",
       "  <tbody>\n",
       "    <tr>\n",
       "      <th>0</th>\n",
       "      <td>1 layer model</td>\n",
       "      <td>0.806887</td>\n",
       "      <td>0.543813</td>\n",
       "      <td>0.666940</td>\n",
       "      <td>0.599116</td>\n",
       "      <td>0.805536</td>\n",
       "      <td>0.542781</td>\n",
       "      <td>0.663399</td>\n",
       "      <td>0.597059</td>\n",
       "    </tr>\n",
       "    <tr>\n",
       "      <th>1</th>\n",
       "      <td>2 layer model - experiment 1</td>\n",
       "      <td>0.803869</td>\n",
       "      <td>0.552508</td>\n",
       "      <td>0.654517</td>\n",
       "      <td>0.599202</td>\n",
       "      <td>0.806955</td>\n",
       "      <td>0.553476</td>\n",
       "      <td>0.663462</td>\n",
       "      <td>0.603499</td>\n",
       "    </tr>\n",
       "    <tr>\n",
       "      <th>2</th>\n",
       "      <td>2 layer model - experiment 2</td>\n",
       "      <td>0.813099</td>\n",
       "      <td>0.455518</td>\n",
       "      <td>0.740217</td>\n",
       "      <td>0.563975</td>\n",
       "      <td>0.797019</td>\n",
       "      <td>0.419786</td>\n",
       "      <td>0.694690</td>\n",
       "      <td>0.523333</td>\n",
       "    </tr>\n",
       "  </tbody>\n",
       "</table>\n",
       "</div>"
      ],
      "text/plain": [
       "                          Model  Train_Accuracy  Train_Recall  \\\n",
       "0                 1 layer model        0.806887      0.543813   \n",
       "1  2 layer model - experiment 1        0.803869      0.552508   \n",
       "2  2 layer model - experiment 2        0.813099      0.455518   \n",
       "\n",
       "   Train_Precision  Train_F1_Score  Test_Accuracy  Test_Recall  \\\n",
       "0         0.666940        0.599116       0.805536     0.542781   \n",
       "1         0.654517        0.599202       0.806955     0.553476   \n",
       "2         0.740217        0.563975       0.797019     0.419786   \n",
       "\n",
       "   Test_Precision  Test_F1_Score  \n",
       "0        0.663399       0.597059  \n",
       "1        0.663462       0.603499  \n",
       "2        0.694690       0.523333  "
      ]
     },
     "execution_count": 69,
     "metadata": {},
     "output_type": "execute_result"
    }
   ],
   "source": [
    "scores = get_metrics(y_train,train_pred_2,y_test,test_pred_2,\"2 layer model - experiment 2\",scores)\n",
    "scores"
   ]
  },
  {
   "cell_type": "markdown",
   "metadata": {},
   "source": [
    "# Model 3 (2 hidden layers with Dropout)"
   ]
  },
  {
   "cell_type": "code",
   "execution_count": 70,
   "metadata": {},
   "outputs": [],
   "source": [
    "np.random.seed(seed)\n",
    "tf.random.set_seed(seed)"
   ]
  },
  {
   "cell_type": "code",
   "execution_count": 71,
   "metadata": {},
   "outputs": [],
   "source": [
    "model = Sequential()\n",
    "model.add(Dense(128, input_dim=input_shape, kernel_initializer='glorot_normal', activation='relu'))\n",
    "model.add(Dropout(0.5))\n",
    "model.add(Dense(64, kernel_initializer='glorot_normal', activation='relu'))\n",
    "model.add(Dropout(0.5))\n",
    "model.add(Dense(1, activation='sigmoid',kernel_initializer='glorot_normal'))"
   ]
  },
  {
   "cell_type": "code",
   "execution_count": 72,
   "metadata": {},
   "outputs": [
    {
     "name": "stdout",
     "output_type": "stream",
     "text": [
      "Model: \"sequential_3\"\n",
      "_________________________________________________________________\n",
      "Layer (type)                 Output Shape              Param #   \n",
      "=================================================================\n",
      "dense_8 (Dense)              (None, 128)               5120      \n",
      "_________________________________________________________________\n",
      "dropout (Dropout)            (None, 128)               0         \n",
      "_________________________________________________________________\n",
      "dense_9 (Dense)              (None, 64)                8256      \n",
      "_________________________________________________________________\n",
      "dropout_1 (Dropout)          (None, 64)                0         \n",
      "_________________________________________________________________\n",
      "dense_10 (Dense)             (None, 1)                 65        \n",
      "=================================================================\n",
      "Total params: 13,441\n",
      "Trainable params: 13,441\n",
      "Non-trainable params: 0\n",
      "_________________________________________________________________\n"
     ]
    }
   ],
   "source": [
    "model.summary()"
   ]
  },
  {
   "cell_type": "code",
   "execution_count": 73,
   "metadata": {},
   "outputs": [],
   "source": [
    "model.compile(loss='binary_crossentropy',\n",
    "              optimizer='adam',\n",
    "              metrics=['accuracy'])"
   ]
  },
  {
   "cell_type": "code",
   "execution_count": 74,
   "metadata": {},
   "outputs": [
    {
     "name": "stdout",
     "output_type": "stream",
     "text": [
      "Epoch 1/50\n",
      "62/71 [=========================>....] - ETA: 0s - loss: 0.5390 - accuracy: 0.7235WARNING:tensorflow:Callbacks method `on_test_batch_begin` is slow compared to the batch time (batch time: 0.0000s vs `on_test_batch_begin` time: 0.0010s). Check your callbacks.\n",
      "71/71 [==============================] - 0s 4ms/step - loss: 0.5320 - accuracy: 0.7295 - val_loss: 0.4238 - val_accuracy: 0.8075\n",
      "Epoch 2/50\n",
      "71/71 [==============================] - 0s 3ms/step - loss: 0.4660 - accuracy: 0.7752 - val_loss: 0.4158 - val_accuracy: 0.8066\n",
      "Epoch 3/50\n",
      "71/71 [==============================] - 0s 3ms/step - loss: 0.4520 - accuracy: 0.7841 - val_loss: 0.4184 - val_accuracy: 0.8057\n",
      "Epoch 4/50\n",
      "71/71 [==============================] - 0s 3ms/step - loss: 0.4390 - accuracy: 0.7870 - val_loss: 0.4075 - val_accuracy: 0.8119\n",
      "Epoch 5/50\n",
      "71/71 [==============================] - 0s 3ms/step - loss: 0.4436 - accuracy: 0.7859 - val_loss: 0.4115 - val_accuracy: 0.8110\n",
      "Epoch 6/50\n",
      "71/71 [==============================] - 0s 3ms/step - loss: 0.4438 - accuracy: 0.7897 - val_loss: 0.4079 - val_accuracy: 0.8110\n",
      "Epoch 7/50\n",
      "71/71 [==============================] - 0s 3ms/step - loss: 0.4375 - accuracy: 0.7934 - val_loss: 0.4197 - val_accuracy: 0.8128\n",
      "Epoch 8/50\n",
      "71/71 [==============================] - 0s 3ms/step - loss: 0.4332 - accuracy: 0.7943 - val_loss: 0.4106 - val_accuracy: 0.8137\n",
      "Epoch 9/50\n",
      "71/71 [==============================] - 0s 3ms/step - loss: 0.4342 - accuracy: 0.7945 - val_loss: 0.4115 - val_accuracy: 0.8146\n",
      "Epoch 00009: early stopping\n"
     ]
    },
    {
     "data": {
      "text/plain": [
       "<tensorflow.python.keras.callbacks.History at 0x26dc7388948>"
      ]
     },
     "execution_count": 74,
     "metadata": {},
     "output_type": "execute_result"
    }
   ],
   "source": [
    "model.fit(X_train, y_train,\n",
    "              epochs=50,\n",
    "          batch_size=64,validation_split=0.2,callbacks=callbacks)"
   ]
  },
  {
   "cell_type": "code",
   "execution_count": 75,
   "metadata": {},
   "outputs": [],
   "source": [
    "train_pred_3=model.predict_classes(X_train)\n",
    "test_pred_3=model.predict_classes(X_test)"
   ]
  },
  {
   "cell_type": "code",
   "execution_count": 76,
   "metadata": {},
   "outputs": [
    {
     "name": "stdout",
     "output_type": "stream",
     "text": [
      "\n",
      "             ========================================\n",
      "               CLASSIFICATION REPORT FOR TRAIN DATA\n",
      "             ========================================\n",
      "        \n",
      "              precision    recall  f1-score   support\n",
      "\n",
      "           0     0.8480    0.9005    0.8734      4139\n",
      "           1     0.6675    0.5532    0.6050      1495\n",
      "\n",
      "    accuracy                         0.8083      5634\n",
      "   macro avg     0.7577    0.7268    0.7392      5634\n",
      "weighted avg     0.8001    0.8083    0.8022      5634\n",
      "\n",
      "\n",
      "             =========================================\n",
      "               CLASSIFICATION REPORT FOR TEST DATA\n",
      "             =========================================\n",
      "            \n",
      "              precision    recall  f1-score   support\n",
      "\n",
      "           0     0.8398    0.8966    0.8673      1035\n",
      "           1     0.6480    0.5267    0.5811       374\n",
      "\n",
      "    accuracy                         0.7984      1409\n",
      "   macro avg     0.7439    0.7117    0.7242      1409\n",
      "weighted avg     0.7889    0.7984    0.7913      1409\n",
      "\n",
      "\n",
      " ========================================\n",
      "   Confusion Matrix FOR TRAIN DATA\n",
      " ========================================\n",
      "            \n",
      "[[3727  412]\n",
      " [ 668  827]]\n",
      "\n",
      " =========================================\n",
      "   Confusion matrix FOR TEST DATA\n",
      " =========================================\n",
      "            \n",
      "[[928 107]\n",
      " [177 197]]\n"
     ]
    }
   ],
   "source": [
    "get_CR_CM(y_train, train_pred_3, y_test, test_pred_3)"
   ]
  },
  {
   "cell_type": "code",
   "execution_count": 77,
   "metadata": {},
   "outputs": [
    {
     "name": "stdout",
     "output_type": "stream",
     "text": [
      "\n",
      " ========================================\n",
      "           ACCURACY FOR TRAIN DATA\n",
      " ========================================\n",
      "        \n",
      "          0.8083067092651757\n",
      "\n",
      " =========================================\n",
      "           ACCURACY FOR TEST DATA\n",
      " =========================================\n",
      "            \n",
      "          0.7984386089425124\n",
      "\n",
      " ========================================\n",
      "           RECALL FOR TRAIN DATA\n",
      " ========================================\n",
      "            \n",
      "          0.5531772575250836\n",
      "\n",
      " =========================================\n",
      "           RECALL FOR TEST DATA\n",
      " =========================================\n",
      "            \n",
      "          0.5267379679144385\n"
     ]
    }
   ],
   "source": [
    "get_ACCURACY_RECALL(y_train, train_pred_3, y_test, test_pred_3)"
   ]
  },
  {
   "cell_type": "code",
   "execution_count": 78,
   "metadata": {},
   "outputs": [
    {
     "data": {
      "text/html": [
       "<div>\n",
       "<style scoped>\n",
       "    .dataframe tbody tr th:only-of-type {\n",
       "        vertical-align: middle;\n",
       "    }\n",
       "\n",
       "    .dataframe tbody tr th {\n",
       "        vertical-align: top;\n",
       "    }\n",
       "\n",
       "    .dataframe thead th {\n",
       "        text-align: right;\n",
       "    }\n",
       "</style>\n",
       "<table border=\"1\" class=\"dataframe\">\n",
       "  <thead>\n",
       "    <tr style=\"text-align: right;\">\n",
       "      <th></th>\n",
       "      <th>Model</th>\n",
       "      <th>Train_Accuracy</th>\n",
       "      <th>Train_Recall</th>\n",
       "      <th>Train_Precision</th>\n",
       "      <th>Train_F1_Score</th>\n",
       "      <th>Test_Accuracy</th>\n",
       "      <th>Test_Recall</th>\n",
       "      <th>Test_Precision</th>\n",
       "      <th>Test_F1_Score</th>\n",
       "    </tr>\n",
       "  </thead>\n",
       "  <tbody>\n",
       "    <tr>\n",
       "      <th>0</th>\n",
       "      <td>1 layer model</td>\n",
       "      <td>0.806887</td>\n",
       "      <td>0.543813</td>\n",
       "      <td>0.666940</td>\n",
       "      <td>0.599116</td>\n",
       "      <td>0.805536</td>\n",
       "      <td>0.542781</td>\n",
       "      <td>0.663399</td>\n",
       "      <td>0.597059</td>\n",
       "    </tr>\n",
       "    <tr>\n",
       "      <th>1</th>\n",
       "      <td>2 layer model - experiment 1</td>\n",
       "      <td>0.803869</td>\n",
       "      <td>0.552508</td>\n",
       "      <td>0.654517</td>\n",
       "      <td>0.599202</td>\n",
       "      <td>0.806955</td>\n",
       "      <td>0.553476</td>\n",
       "      <td>0.663462</td>\n",
       "      <td>0.603499</td>\n",
       "    </tr>\n",
       "    <tr>\n",
       "      <th>2</th>\n",
       "      <td>2 layer model - experiment 2</td>\n",
       "      <td>0.813099</td>\n",
       "      <td>0.455518</td>\n",
       "      <td>0.740217</td>\n",
       "      <td>0.563975</td>\n",
       "      <td>0.797019</td>\n",
       "      <td>0.419786</td>\n",
       "      <td>0.694690</td>\n",
       "      <td>0.523333</td>\n",
       "    </tr>\n",
       "    <tr>\n",
       "      <th>3</th>\n",
       "      <td>2 layer model with dropout</td>\n",
       "      <td>0.808307</td>\n",
       "      <td>0.553177</td>\n",
       "      <td>0.667474</td>\n",
       "      <td>0.604974</td>\n",
       "      <td>0.798439</td>\n",
       "      <td>0.526738</td>\n",
       "      <td>0.648026</td>\n",
       "      <td>0.581121</td>\n",
       "    </tr>\n",
       "  </tbody>\n",
       "</table>\n",
       "</div>"
      ],
      "text/plain": [
       "                          Model  Train_Accuracy  Train_Recall  \\\n",
       "0                 1 layer model        0.806887      0.543813   \n",
       "1  2 layer model - experiment 1        0.803869      0.552508   \n",
       "2  2 layer model - experiment 2        0.813099      0.455518   \n",
       "3    2 layer model with dropout        0.808307      0.553177   \n",
       "\n",
       "   Train_Precision  Train_F1_Score  Test_Accuracy  Test_Recall  \\\n",
       "0         0.666940        0.599116       0.805536     0.542781   \n",
       "1         0.654517        0.599202       0.806955     0.553476   \n",
       "2         0.740217        0.563975       0.797019     0.419786   \n",
       "3         0.667474        0.604974       0.798439     0.526738   \n",
       "\n",
       "   Test_Precision  Test_F1_Score  \n",
       "0        0.663399       0.597059  \n",
       "1        0.663462       0.603499  \n",
       "2        0.694690       0.523333  \n",
       "3        0.648026       0.581121  "
      ]
     },
     "execution_count": 78,
     "metadata": {},
     "output_type": "execute_result"
    }
   ],
   "source": [
    "scores = get_metrics(y_train,train_pred_3,y_test,test_pred_3,\"2 layer model with dropout\",scores)\n",
    "scores"
   ]
  },
  {
   "cell_type": "markdown",
   "metadata": {},
   "source": [
    "# Model 4 (2 hidden layers with l2 regularizer)"
   ]
  },
  {
   "cell_type": "code",
   "execution_count": 79,
   "metadata": {},
   "outputs": [],
   "source": [
    "np.random.seed(seed)\n",
    "tf.random.set_seed(seed)"
   ]
  },
  {
   "cell_type": "code",
   "execution_count": 80,
   "metadata": {
    "scrolled": true
   },
   "outputs": [],
   "source": [
    "model = Sequential()\n",
    "model.add(Dense(64, input_dim=input_shape, kernel_initializer='glorot_normal', activation='relu',kernel_regularizer=l2(1e-03)))\n",
    "model.add(Dropout(0.5))\n",
    "model.add(Dense(32, kernel_initializer='glorot_normal', activation='relu'))\n",
    "model.add(Dropout(0.5))\n",
    "model.add(Dense(1, activation='sigmoid',kernel_initializer='glorot_normal'))"
   ]
  },
  {
   "cell_type": "code",
   "execution_count": 81,
   "metadata": {},
   "outputs": [
    {
     "name": "stdout",
     "output_type": "stream",
     "text": [
      "Model: \"sequential_4\"\n",
      "_________________________________________________________________\n",
      "Layer (type)                 Output Shape              Param #   \n",
      "=================================================================\n",
      "dense_11 (Dense)             (None, 64)                2560      \n",
      "_________________________________________________________________\n",
      "dropout_2 (Dropout)          (None, 64)                0         \n",
      "_________________________________________________________________\n",
      "dense_12 (Dense)             (None, 32)                2080      \n",
      "_________________________________________________________________\n",
      "dropout_3 (Dropout)          (None, 32)                0         \n",
      "_________________________________________________________________\n",
      "dense_13 (Dense)             (None, 1)                 33        \n",
      "=================================================================\n",
      "Total params: 4,673\n",
      "Trainable params: 4,673\n",
      "Non-trainable params: 0\n",
      "_________________________________________________________________\n"
     ]
    }
   ],
   "source": [
    "model.summary()"
   ]
  },
  {
   "cell_type": "code",
   "execution_count": 82,
   "metadata": {},
   "outputs": [],
   "source": [
    "model.compile(loss='binary_crossentropy',\n",
    "              optimizer='adam',\n",
    "              metrics=['accuracy'])"
   ]
  },
  {
   "cell_type": "code",
   "execution_count": 83,
   "metadata": {},
   "outputs": [
    {
     "name": "stdout",
     "output_type": "stream",
     "text": [
      "Epoch 1/50\n",
      "71/71 [==============================] - 0s 4ms/step - loss: 0.6672 - accuracy: 0.6741 - val_loss: 0.5189 - val_accuracy: 0.7720\n",
      "Epoch 2/50\n",
      "71/71 [==============================] - 0s 3ms/step - loss: 0.5485 - accuracy: 0.7559 - val_loss: 0.4663 - val_accuracy: 0.8030\n",
      "Epoch 3/50\n",
      "71/71 [==============================] - 0s 3ms/step - loss: 0.5146 - accuracy: 0.7799 - val_loss: 0.4600 - val_accuracy: 0.8075\n",
      "Epoch 4/50\n",
      "71/71 [==============================] - 0s 3ms/step - loss: 0.4997 - accuracy: 0.7735 - val_loss: 0.4517 - val_accuracy: 0.8075\n",
      "Epoch 5/50\n",
      "71/71 [==============================] - 0s 3ms/step - loss: 0.4963 - accuracy: 0.7786 - val_loss: 0.4485 - val_accuracy: 0.8110\n",
      "Epoch 6/50\n",
      "71/71 [==============================] - ETA: 0s - loss: 0.4970 - accuracy: 0.77 - 0s 3ms/step - loss: 0.4910 - accuracy: 0.7828 - val_loss: 0.4442 - val_accuracy: 0.8154\n",
      "Epoch 7/50\n",
      "71/71 [==============================] - 0s 3ms/step - loss: 0.4852 - accuracy: 0.7830 - val_loss: 0.4505 - val_accuracy: 0.8101\n",
      "Epoch 8/50\n",
      "71/71 [==============================] - 0s 3ms/step - loss: 0.4849 - accuracy: 0.7879 - val_loss: 0.4445 - val_accuracy: 0.8172\n",
      "Epoch 9/50\n",
      "71/71 [==============================] - 0s 3ms/step - loss: 0.4766 - accuracy: 0.7950 - val_loss: 0.4434 - val_accuracy: 0.8154\n",
      "Epoch 10/50\n",
      "71/71 [==============================] - 0s 3ms/step - loss: 0.4702 - accuracy: 0.7854 - val_loss: 0.4426 - val_accuracy: 0.8208\n",
      "Epoch 11/50\n",
      "71/71 [==============================] - 0s 2ms/step - loss: 0.4694 - accuracy: 0.7981 - val_loss: 0.4388 - val_accuracy: 0.8137\n",
      "Epoch 12/50\n",
      "71/71 [==============================] - 0s 3ms/step - loss: 0.4644 - accuracy: 0.7963 - val_loss: 0.4359 - val_accuracy: 0.8128\n",
      "Epoch 13/50\n",
      "71/71 [==============================] - 0s 3ms/step - loss: 0.4719 - accuracy: 0.7917 - val_loss: 0.4350 - val_accuracy: 0.8110\n",
      "Epoch 14/50\n",
      "71/71 [==============================] - 0s 3ms/step - loss: 0.4618 - accuracy: 0.7988 - val_loss: 0.4316 - val_accuracy: 0.8128\n",
      "Epoch 15/50\n",
      "71/71 [==============================] - 0s 3ms/step - loss: 0.4596 - accuracy: 0.7959 - val_loss: 0.4373 - val_accuracy: 0.8137\n",
      "Epoch 16/50\n",
      "71/71 [==============================] - 0s 2ms/step - loss: 0.4599 - accuracy: 0.7948 - val_loss: 0.4306 - val_accuracy: 0.8110\n",
      "Epoch 17/50\n",
      "71/71 [==============================] - 0s 2ms/step - loss: 0.4606 - accuracy: 0.7945 - val_loss: 0.4297 - val_accuracy: 0.8083\n",
      "Epoch 18/50\n",
      "71/71 [==============================] - 0s 2ms/step - loss: 0.4478 - accuracy: 0.7939 - val_loss: 0.4285 - val_accuracy: 0.8154\n",
      "Epoch 19/50\n",
      "71/71 [==============================] - 0s 2ms/step - loss: 0.4498 - accuracy: 0.8019 - val_loss: 0.4287 - val_accuracy: 0.8128\n",
      "Epoch 20/50\n",
      "71/71 [==============================] - 0s 2ms/step - loss: 0.4500 - accuracy: 0.8003 - val_loss: 0.4270 - val_accuracy: 0.8119\n",
      "Epoch 21/50\n",
      "71/71 [==============================] - 0s 2ms/step - loss: 0.4473 - accuracy: 0.7983 - val_loss: 0.4284 - val_accuracy: 0.8128\n",
      "Epoch 22/50\n",
      "71/71 [==============================] - 0s 2ms/step - loss: 0.4452 - accuracy: 0.7990 - val_loss: 0.4242 - val_accuracy: 0.8146\n",
      "Epoch 23/50\n",
      "71/71 [==============================] - 0s 2ms/step - loss: 0.4439 - accuracy: 0.7974 - val_loss: 0.4267 - val_accuracy: 0.8146\n",
      "Epoch 24/50\n",
      "71/71 [==============================] - 0s 2ms/step - loss: 0.4513 - accuracy: 0.7974 - val_loss: 0.4237 - val_accuracy: 0.8110\n",
      "Epoch 25/50\n",
      "71/71 [==============================] - 0s 2ms/step - loss: 0.4455 - accuracy: 0.8032 - val_loss: 0.4232 - val_accuracy: 0.8146\n",
      "Epoch 26/50\n",
      "71/71 [==============================] - 0s 2ms/step - loss: 0.4439 - accuracy: 0.7996 - val_loss: 0.4277 - val_accuracy: 0.8119\n",
      "Epoch 27/50\n",
      "71/71 [==============================] - 0s 2ms/step - loss: 0.4518 - accuracy: 0.8028 - val_loss: 0.4269 - val_accuracy: 0.8119\n",
      "Epoch 28/50\n",
      "71/71 [==============================] - 0s 2ms/step - loss: 0.4476 - accuracy: 0.7970 - val_loss: 0.4249 - val_accuracy: 0.8146\n",
      "Epoch 29/50\n",
      "71/71 [==============================] - 0s 2ms/step - loss: 0.4473 - accuracy: 0.7996 - val_loss: 0.4233 - val_accuracy: 0.8119\n",
      "Epoch 30/50\n",
      "71/71 [==============================] - 0s 2ms/step - loss: 0.4415 - accuracy: 0.8028 - val_loss: 0.4245 - val_accuracy: 0.8146\n",
      "Epoch 00030: early stopping\n"
     ]
    },
    {
     "data": {
      "text/plain": [
       "<tensorflow.python.keras.callbacks.History at 0x26dc762d908>"
      ]
     },
     "execution_count": 83,
     "metadata": {},
     "output_type": "execute_result"
    }
   ],
   "source": [
    "model.fit(X_train, y_train,\n",
    "              epochs=50,\n",
    "          batch_size=64,validation_split=0.2,callbacks=callbacks)"
   ]
  },
  {
   "cell_type": "code",
   "execution_count": 84,
   "metadata": {},
   "outputs": [],
   "source": [
    "train_pred_5=model.predict_classes(X_train)\n",
    "test_pred_5=model.predict_classes(X_test)"
   ]
  },
  {
   "cell_type": "code",
   "execution_count": 85,
   "metadata": {},
   "outputs": [
    {
     "name": "stdout",
     "output_type": "stream",
     "text": [
      "\n",
      "             ========================================\n",
      "               CLASSIFICATION REPORT FOR TRAIN DATA\n",
      "             ========================================\n",
      "        \n",
      "              precision    recall  f1-score   support\n",
      "\n",
      "           0     0.8503    0.9029    0.8758      4139\n",
      "           1     0.6755    0.5599    0.6123      1495\n",
      "\n",
      "    accuracy                         0.8119      5634\n",
      "   macro avg     0.7629    0.7314    0.7440      5634\n",
      "weighted avg     0.8039    0.8119    0.8059      5634\n",
      "\n",
      "\n",
      "             =========================================\n",
      "               CLASSIFICATION REPORT FOR TEST DATA\n",
      "             =========================================\n",
      "            \n",
      "              precision    recall  f1-score   support\n",
      "\n",
      "           0     0.8409    0.8986    0.8688      1035\n",
      "           1     0.6535    0.5294    0.5849       374\n",
      "\n",
      "    accuracy                         0.8006      1409\n",
      "   macro avg     0.7472    0.7140    0.7268      1409\n",
      "weighted avg     0.7911    0.8006    0.7934      1409\n",
      "\n",
      "\n",
      " ========================================\n",
      "   Confusion Matrix FOR TRAIN DATA\n",
      " ========================================\n",
      "            \n",
      "[[3737  402]\n",
      " [ 658  837]]\n",
      "\n",
      " =========================================\n",
      "   Confusion matrix FOR TEST DATA\n",
      " =========================================\n",
      "            \n",
      "[[930 105]\n",
      " [176 198]]\n"
     ]
    }
   ],
   "source": [
    "get_CR_CM(y_train, train_pred_5, y_test, test_pred_5)"
   ]
  },
  {
   "cell_type": "code",
   "execution_count": 86,
   "metadata": {
    "scrolled": false
   },
   "outputs": [
    {
     "name": "stdout",
     "output_type": "stream",
     "text": [
      "\n",
      " ========================================\n",
      "           ACCURACY FOR TRAIN DATA\n",
      " ========================================\n",
      "        \n",
      "          0.8118565850195243\n",
      "\n",
      " =========================================\n",
      "           ACCURACY FOR TEST DATA\n",
      " =========================================\n",
      "            \n",
      "          0.8005677785663591\n",
      "\n",
      " ========================================\n",
      "           RECALL FOR TRAIN DATA\n",
      " ========================================\n",
      "            \n",
      "          0.559866220735786\n",
      "\n",
      " =========================================\n",
      "           RECALL FOR TEST DATA\n",
      " =========================================\n",
      "            \n",
      "          0.5294117647058824\n"
     ]
    }
   ],
   "source": [
    "get_ACCURACY_RECALL(y_train, train_pred_5, y_test, test_pred_5)"
   ]
  },
  {
   "cell_type": "code",
   "execution_count": 87,
   "metadata": {},
   "outputs": [
    {
     "data": {
      "text/html": [
       "<div>\n",
       "<style scoped>\n",
       "    .dataframe tbody tr th:only-of-type {\n",
       "        vertical-align: middle;\n",
       "    }\n",
       "\n",
       "    .dataframe tbody tr th {\n",
       "        vertical-align: top;\n",
       "    }\n",
       "\n",
       "    .dataframe thead th {\n",
       "        text-align: right;\n",
       "    }\n",
       "</style>\n",
       "<table border=\"1\" class=\"dataframe\">\n",
       "  <thead>\n",
       "    <tr style=\"text-align: right;\">\n",
       "      <th></th>\n",
       "      <th>Model</th>\n",
       "      <th>Train_Accuracy</th>\n",
       "      <th>Train_Recall</th>\n",
       "      <th>Train_Precision</th>\n",
       "      <th>Train_F1_Score</th>\n",
       "      <th>Test_Accuracy</th>\n",
       "      <th>Test_Recall</th>\n",
       "      <th>Test_Precision</th>\n",
       "      <th>Test_F1_Score</th>\n",
       "    </tr>\n",
       "  </thead>\n",
       "  <tbody>\n",
       "    <tr>\n",
       "      <th>0</th>\n",
       "      <td>1 layer model</td>\n",
       "      <td>0.806887</td>\n",
       "      <td>0.543813</td>\n",
       "      <td>0.666940</td>\n",
       "      <td>0.599116</td>\n",
       "      <td>0.805536</td>\n",
       "      <td>0.542781</td>\n",
       "      <td>0.663399</td>\n",
       "      <td>0.597059</td>\n",
       "    </tr>\n",
       "    <tr>\n",
       "      <th>1</th>\n",
       "      <td>2 layer model - experiment 1</td>\n",
       "      <td>0.803869</td>\n",
       "      <td>0.552508</td>\n",
       "      <td>0.654517</td>\n",
       "      <td>0.599202</td>\n",
       "      <td>0.806955</td>\n",
       "      <td>0.553476</td>\n",
       "      <td>0.663462</td>\n",
       "      <td>0.603499</td>\n",
       "    </tr>\n",
       "    <tr>\n",
       "      <th>2</th>\n",
       "      <td>2 layer model - experiment 2</td>\n",
       "      <td>0.813099</td>\n",
       "      <td>0.455518</td>\n",
       "      <td>0.740217</td>\n",
       "      <td>0.563975</td>\n",
       "      <td>0.797019</td>\n",
       "      <td>0.419786</td>\n",
       "      <td>0.694690</td>\n",
       "      <td>0.523333</td>\n",
       "    </tr>\n",
       "    <tr>\n",
       "      <th>3</th>\n",
       "      <td>2 layer model with dropout</td>\n",
       "      <td>0.808307</td>\n",
       "      <td>0.553177</td>\n",
       "      <td>0.667474</td>\n",
       "      <td>0.604974</td>\n",
       "      <td>0.798439</td>\n",
       "      <td>0.526738</td>\n",
       "      <td>0.648026</td>\n",
       "      <td>0.581121</td>\n",
       "    </tr>\n",
       "    <tr>\n",
       "      <th>4</th>\n",
       "      <td>2 layer model with dropout with L2 regularizer</td>\n",
       "      <td>0.811857</td>\n",
       "      <td>0.559866</td>\n",
       "      <td>0.675545</td>\n",
       "      <td>0.612290</td>\n",
       "      <td>0.800568</td>\n",
       "      <td>0.529412</td>\n",
       "      <td>0.653465</td>\n",
       "      <td>0.584934</td>\n",
       "    </tr>\n",
       "  </tbody>\n",
       "</table>\n",
       "</div>"
      ],
      "text/plain": [
       "                                            Model  Train_Accuracy  \\\n",
       "0                                   1 layer model        0.806887   \n",
       "1                    2 layer model - experiment 1        0.803869   \n",
       "2                    2 layer model - experiment 2        0.813099   \n",
       "3                      2 layer model with dropout        0.808307   \n",
       "4  2 layer model with dropout with L2 regularizer        0.811857   \n",
       "\n",
       "   Train_Recall  Train_Precision  Train_F1_Score  Test_Accuracy  Test_Recall  \\\n",
       "0      0.543813         0.666940        0.599116       0.805536     0.542781   \n",
       "1      0.552508         0.654517        0.599202       0.806955     0.553476   \n",
       "2      0.455518         0.740217        0.563975       0.797019     0.419786   \n",
       "3      0.553177         0.667474        0.604974       0.798439     0.526738   \n",
       "4      0.559866         0.675545        0.612290       0.800568     0.529412   \n",
       "\n",
       "   Test_Precision  Test_F1_Score  \n",
       "0        0.663399       0.597059  \n",
       "1        0.663462       0.603499  \n",
       "2        0.694690       0.523333  \n",
       "3        0.648026       0.581121  \n",
       "4        0.653465       0.584934  "
      ]
     },
     "execution_count": 87,
     "metadata": {},
     "output_type": "execute_result"
    }
   ],
   "source": [
    "scores = get_metrics(y_train,train_pred_5,y_test,test_pred_5,\"2 layer model with dropout with L2 regularizer\",scores)\n",
    "scores"
   ]
  },
  {
   "cell_type": "markdown",
   "metadata": {},
   "source": [
    "# Model 5 (2 hidden layers with l2 regularizer and class_weight)"
   ]
  },
  {
   "cell_type": "code",
   "execution_count": 88,
   "metadata": {},
   "outputs": [],
   "source": [
    "np.random.seed(seed)\n",
    "tf.random.set_seed(seed)"
   ]
  },
  {
   "cell_type": "code",
   "execution_count": 89,
   "metadata": {},
   "outputs": [],
   "source": [
    "model = Sequential()\n",
    "model.add(Dense(128, input_dim=input_shape, kernel_initializer='glorot_normal', activation='relu',kernel_regularizer=l2(1e-03)))\n",
    "model.add(Dropout(0.5))\n",
    "model.add(Dense(64, kernel_initializer='glorot_normal', activation='relu',kernel_regularizer=l2(1e-03)))\n",
    "model.add(Dropout(0.5))\n",
    "model.add(Dense(1, activation='sigmoid',kernel_initializer='glorot_normal'))"
   ]
  },
  {
   "cell_type": "code",
   "execution_count": 90,
   "metadata": {},
   "outputs": [
    {
     "name": "stdout",
     "output_type": "stream",
     "text": [
      "Model: \"sequential_5\"\n",
      "_________________________________________________________________\n",
      "Layer (type)                 Output Shape              Param #   \n",
      "=================================================================\n",
      "dense_14 (Dense)             (None, 128)               5120      \n",
      "_________________________________________________________________\n",
      "dropout_4 (Dropout)          (None, 128)               0         \n",
      "_________________________________________________________________\n",
      "dense_15 (Dense)             (None, 64)                8256      \n",
      "_________________________________________________________________\n",
      "dropout_5 (Dropout)          (None, 64)                0         \n",
      "_________________________________________________________________\n",
      "dense_16 (Dense)             (None, 1)                 65        \n",
      "=================================================================\n",
      "Total params: 13,441\n",
      "Trainable params: 13,441\n",
      "Non-trainable params: 0\n",
      "_________________________________________________________________\n"
     ]
    }
   ],
   "source": [
    "model.summary()"
   ]
  },
  {
   "cell_type": "code",
   "execution_count": 91,
   "metadata": {},
   "outputs": [],
   "source": [
    "model.compile(loss='binary_crossentropy',\n",
    "              optimizer='adam',\n",
    "              metrics=['accuracy'])"
   ]
  },
  {
   "cell_type": "code",
   "execution_count": 92,
   "metadata": {},
   "outputs": [
    {
     "name": "stdout",
     "output_type": "stream",
     "text": [
      "Epoch 1/50\n",
      "71/71 [==============================] - 0s 4ms/step - loss: 0.3606 - accuracy: 0.6470 - val_loss: 0.6371 - val_accuracy: 0.7498\n",
      "Epoch 2/50\n",
      "71/71 [==============================] - 0s 2ms/step - loss: 0.3057 - accuracy: 0.7187 - val_loss: 0.6087 - val_accuracy: 0.7445\n",
      "Epoch 3/50\n",
      "71/71 [==============================] - 0s 2ms/step - loss: 0.2811 - accuracy: 0.7207 - val_loss: 0.6171 - val_accuracy: 0.7161\n",
      "Epoch 4/50\n",
      "71/71 [==============================] - 0s 2ms/step - loss: 0.2604 - accuracy: 0.7260 - val_loss: 0.5508 - val_accuracy: 0.7622\n",
      "Epoch 5/50\n",
      "71/71 [==============================] - 0s 2ms/step - loss: 0.2530 - accuracy: 0.7302 - val_loss: 0.5761 - val_accuracy: 0.7232\n",
      "Epoch 6/50\n",
      "71/71 [==============================] - 0s 2ms/step - loss: 0.2452 - accuracy: 0.7251 - val_loss: 0.5505 - val_accuracy: 0.7427\n",
      "Epoch 7/50\n",
      "71/71 [==============================] - 0s 2ms/step - loss: 0.2373 - accuracy: 0.7244 - val_loss: 0.6019 - val_accuracy: 0.6877\n",
      "Epoch 8/50\n",
      "71/71 [==============================] - 0s 2ms/step - loss: 0.2285 - accuracy: 0.7238 - val_loss: 0.5615 - val_accuracy: 0.7134\n",
      "Epoch 9/50\n",
      "71/71 [==============================] - 0s 2ms/step - loss: 0.2252 - accuracy: 0.7249 - val_loss: 0.5518 - val_accuracy: 0.7214\n",
      "Epoch 00009: early stopping\n"
     ]
    },
    {
     "data": {
      "text/plain": [
       "<tensorflow.python.keras.callbacks.History at 0x26dc880ff88>"
      ]
     },
     "execution_count": 92,
     "metadata": {},
     "output_type": "execute_result"
    }
   ],
   "source": [
    "model.fit(X_train, y_train,\n",
    "              epochs=50,\n",
    "          batch_size=64, class_weight={0:0.25, 1:0.75},validation_split=0.2, callbacks=callbacks)"
   ]
  },
  {
   "cell_type": "code",
   "execution_count": 93,
   "metadata": {},
   "outputs": [],
   "source": [
    "train_pred_4=model.predict_classes(X_train)\n",
    "test_pred_4=model.predict_classes(X_test)"
   ]
  },
  {
   "cell_type": "code",
   "execution_count": 94,
   "metadata": {},
   "outputs": [
    {
     "name": "stdout",
     "output_type": "stream",
     "text": [
      "\n",
      "             ========================================\n",
      "               CLASSIFICATION REPORT FOR TRAIN DATA\n",
      "             ========================================\n",
      "        \n",
      "              precision    recall  f1-score   support\n",
      "\n",
      "           0     0.9236    0.6922    0.7913      4139\n",
      "           1     0.4968    0.8415    0.6248      1495\n",
      "\n",
      "    accuracy                         0.7318      5634\n",
      "   macro avg     0.7102    0.7668    0.7081      5634\n",
      "weighted avg     0.8104    0.7318    0.7471      5634\n",
      "\n",
      "\n",
      "             =========================================\n",
      "               CLASSIFICATION REPORT FOR TEST DATA\n",
      "             =========================================\n",
      "            \n",
      "              precision    recall  f1-score   support\n",
      "\n",
      "           0     0.9206    0.6947    0.7919      1035\n",
      "           1     0.4968    0.8342    0.6228       374\n",
      "\n",
      "    accuracy                         0.7317      1409\n",
      "   macro avg     0.7087    0.7645    0.7073      1409\n",
      "weighted avg     0.8081    0.7317    0.7470      1409\n",
      "\n",
      "\n",
      " ========================================\n",
      "   Confusion Matrix FOR TRAIN DATA\n",
      " ========================================\n",
      "            \n",
      "[[2865 1274]\n",
      " [ 237 1258]]\n",
      "\n",
      " =========================================\n",
      "   Confusion matrix FOR TEST DATA\n",
      " =========================================\n",
      "            \n",
      "[[719 316]\n",
      " [ 62 312]]\n"
     ]
    }
   ],
   "source": [
    "get_CR_CM(y_train, train_pred_4, y_test, test_pred_4)"
   ]
  },
  {
   "cell_type": "code",
   "execution_count": 95,
   "metadata": {
    "scrolled": false
   },
   "outputs": [
    {
     "name": "stdout",
     "output_type": "stream",
     "text": [
      "\n",
      " ========================================\n",
      "           ACCURACY FOR TRAIN DATA\n",
      " ========================================\n",
      "        \n",
      "          0.7318068867589634\n",
      "\n",
      " =========================================\n",
      "           ACCURACY FOR TEST DATA\n",
      " =========================================\n",
      "            \n",
      "          0.7317246273953159\n",
      "\n",
      " ========================================\n",
      "           RECALL FOR TRAIN DATA\n",
      " ========================================\n",
      "            \n",
      "          0.8414715719063545\n",
      "\n",
      " =========================================\n",
      "           RECALL FOR TEST DATA\n",
      " =========================================\n",
      "            \n",
      "          0.8342245989304813\n"
     ]
    }
   ],
   "source": [
    "get_ACCURACY_RECALL(y_train, train_pred_4, y_test, test_pred_4)"
   ]
  },
  {
   "cell_type": "code",
   "execution_count": 96,
   "metadata": {},
   "outputs": [
    {
     "data": {
      "text/html": [
       "<div>\n",
       "<style scoped>\n",
       "    .dataframe tbody tr th:only-of-type {\n",
       "        vertical-align: middle;\n",
       "    }\n",
       "\n",
       "    .dataframe tbody tr th {\n",
       "        vertical-align: top;\n",
       "    }\n",
       "\n",
       "    .dataframe thead th {\n",
       "        text-align: right;\n",
       "    }\n",
       "</style>\n",
       "<table border=\"1\" class=\"dataframe\">\n",
       "  <thead>\n",
       "    <tr style=\"text-align: right;\">\n",
       "      <th></th>\n",
       "      <th>Model</th>\n",
       "      <th>Train_Accuracy</th>\n",
       "      <th>Train_Recall</th>\n",
       "      <th>Train_Precision</th>\n",
       "      <th>Train_F1_Score</th>\n",
       "      <th>Test_Accuracy</th>\n",
       "      <th>Test_Recall</th>\n",
       "      <th>Test_Precision</th>\n",
       "      <th>Test_F1_Score</th>\n",
       "    </tr>\n",
       "  </thead>\n",
       "  <tbody>\n",
       "    <tr>\n",
       "      <th>0</th>\n",
       "      <td>1 layer model</td>\n",
       "      <td>0.806887</td>\n",
       "      <td>0.543813</td>\n",
       "      <td>0.666940</td>\n",
       "      <td>0.599116</td>\n",
       "      <td>0.805536</td>\n",
       "      <td>0.542781</td>\n",
       "      <td>0.663399</td>\n",
       "      <td>0.597059</td>\n",
       "    </tr>\n",
       "    <tr>\n",
       "      <th>1</th>\n",
       "      <td>2 layer model - experiment 1</td>\n",
       "      <td>0.803869</td>\n",
       "      <td>0.552508</td>\n",
       "      <td>0.654517</td>\n",
       "      <td>0.599202</td>\n",
       "      <td>0.806955</td>\n",
       "      <td>0.553476</td>\n",
       "      <td>0.663462</td>\n",
       "      <td>0.603499</td>\n",
       "    </tr>\n",
       "    <tr>\n",
       "      <th>2</th>\n",
       "      <td>2 layer model - experiment 2</td>\n",
       "      <td>0.813099</td>\n",
       "      <td>0.455518</td>\n",
       "      <td>0.740217</td>\n",
       "      <td>0.563975</td>\n",
       "      <td>0.797019</td>\n",
       "      <td>0.419786</td>\n",
       "      <td>0.694690</td>\n",
       "      <td>0.523333</td>\n",
       "    </tr>\n",
       "    <tr>\n",
       "      <th>3</th>\n",
       "      <td>2 layer model with dropout</td>\n",
       "      <td>0.808307</td>\n",
       "      <td>0.553177</td>\n",
       "      <td>0.667474</td>\n",
       "      <td>0.604974</td>\n",
       "      <td>0.798439</td>\n",
       "      <td>0.526738</td>\n",
       "      <td>0.648026</td>\n",
       "      <td>0.581121</td>\n",
       "    </tr>\n",
       "    <tr>\n",
       "      <th>4</th>\n",
       "      <td>2 layer model with dropout with L2 regularizer</td>\n",
       "      <td>0.811857</td>\n",
       "      <td>0.559866</td>\n",
       "      <td>0.675545</td>\n",
       "      <td>0.612290</td>\n",
       "      <td>0.800568</td>\n",
       "      <td>0.529412</td>\n",
       "      <td>0.653465</td>\n",
       "      <td>0.584934</td>\n",
       "    </tr>\n",
       "    <tr>\n",
       "      <th>5</th>\n",
       "      <td>2 layer model with dropout and class weight</td>\n",
       "      <td>0.731807</td>\n",
       "      <td>0.841472</td>\n",
       "      <td>0.496840</td>\n",
       "      <td>0.624783</td>\n",
       "      <td>0.731725</td>\n",
       "      <td>0.834225</td>\n",
       "      <td>0.496815</td>\n",
       "      <td>0.622754</td>\n",
       "    </tr>\n",
       "  </tbody>\n",
       "</table>\n",
       "</div>"
      ],
      "text/plain": [
       "                                            Model  Train_Accuracy  \\\n",
       "0                                   1 layer model        0.806887   \n",
       "1                    2 layer model - experiment 1        0.803869   \n",
       "2                    2 layer model - experiment 2        0.813099   \n",
       "3                      2 layer model with dropout        0.808307   \n",
       "4  2 layer model with dropout with L2 regularizer        0.811857   \n",
       "5     2 layer model with dropout and class weight        0.731807   \n",
       "\n",
       "   Train_Recall  Train_Precision  Train_F1_Score  Test_Accuracy  Test_Recall  \\\n",
       "0      0.543813         0.666940        0.599116       0.805536     0.542781   \n",
       "1      0.552508         0.654517        0.599202       0.806955     0.553476   \n",
       "2      0.455518         0.740217        0.563975       0.797019     0.419786   \n",
       "3      0.553177         0.667474        0.604974       0.798439     0.526738   \n",
       "4      0.559866         0.675545        0.612290       0.800568     0.529412   \n",
       "5      0.841472         0.496840        0.624783       0.731725     0.834225   \n",
       "\n",
       "   Test_Precision  Test_F1_Score  \n",
       "0        0.663399       0.597059  \n",
       "1        0.663462       0.603499  \n",
       "2        0.694690       0.523333  \n",
       "3        0.648026       0.581121  \n",
       "4        0.653465       0.584934  \n",
       "5        0.496815       0.622754  "
      ]
     },
     "execution_count": 96,
     "metadata": {},
     "output_type": "execute_result"
    }
   ],
   "source": [
    "scores = get_metrics(y_train,train_pred_4,y_test,test_pred_4,\"2 layer model with dropout and class weight\",scores)\n",
    "scores"
   ]
  },
  {
   "cell_type": "markdown",
   "metadata": {},
   "source": [
    "# Model 6 (2 hidden layers with l1 regularizer)"
   ]
  },
  {
   "cell_type": "code",
   "execution_count": 97,
   "metadata": {},
   "outputs": [],
   "source": [
    "np.random.seed(seed)\n",
    "tf.random.set_seed(seed)"
   ]
  },
  {
   "cell_type": "code",
   "execution_count": 98,
   "metadata": {},
   "outputs": [],
   "source": [
    "model = Sequential()\n",
    "model.add(Dense(128, input_dim=input_shape, kernel_initializer='glorot_normal', activation='relu',kernel_regularizer=l1(0.01)))\n",
    "model.add(Dropout(0.5))\n",
    "model.add(Dense(64, kernel_initializer='glorot_normal', activation='relu'))\n",
    "model.add(Dropout(0.5))\n",
    "model.add(Dense(1, activation='sigmoid',kernel_initializer='glorot_normal'))\n"
   ]
  },
  {
   "cell_type": "code",
   "execution_count": 99,
   "metadata": {},
   "outputs": [],
   "source": [
    "model.compile(loss='binary_crossentropy',\n",
    "              optimizer='adam',\n",
    "              metrics=['accuracy'])"
   ]
  },
  {
   "cell_type": "code",
   "execution_count": 100,
   "metadata": {},
   "outputs": [],
   "source": [
    "warnings.filterwarnings(\"ignore\")"
   ]
  },
  {
   "cell_type": "code",
   "execution_count": 101,
   "metadata": {},
   "outputs": [
    {
     "name": "stdout",
     "output_type": "stream",
     "text": [
      "Epoch 1/50\n",
      "71/71 [==============================] - 0s 3ms/step - loss: 3.3025 - accuracy: 0.6037 - val_loss: 2.4355 - val_accuracy: 0.7063\n",
      "Epoch 2/50\n",
      "71/71 [==============================] - 0s 2ms/step - loss: 1.3469 - accuracy: 0.6927 - val_loss: 1.1346 - val_accuracy: 0.7028\n",
      "Epoch 3/50\n",
      "71/71 [==============================] - 0s 2ms/step - loss: 0.5060 - accuracy: 0.7118 - val_loss: 0.7159 - val_accuracy: 0.6531\n",
      "Epoch 4/50\n",
      "71/71 [==============================] - 0s 2ms/step - loss: 0.2753 - accuracy: 0.7002 - val_loss: 0.5475 - val_accuracy: 0.7773\n",
      "Epoch 5/50\n",
      "71/71 [==============================] - 0s 2ms/step - loss: 0.2539 - accuracy: 0.6978 - val_loss: 0.5596 - val_accuracy: 0.7303\n",
      "Epoch 6/50\n",
      "71/71 [==============================] - 0s 2ms/step - loss: 0.2503 - accuracy: 0.6958 - val_loss: 0.6321 - val_accuracy: 0.6637\n",
      "Epoch 7/50\n",
      "71/71 [==============================] - 0s 2ms/step - loss: 0.2504 - accuracy: 0.7014 - val_loss: 0.5266 - val_accuracy: 0.7489\n",
      "Epoch 8/50\n",
      "71/71 [==============================] - 0s 2ms/step - loss: 0.2487 - accuracy: 0.6996 - val_loss: 0.6878 - val_accuracy: 0.6327\n",
      "Epoch 9/50\n",
      "71/71 [==============================] - 0s 2ms/step - loss: 0.2478 - accuracy: 0.7060 - val_loss: 0.6414 - val_accuracy: 0.6415\n",
      "Epoch 10/50\n",
      "71/71 [==============================] - 0s 2ms/step - loss: 0.2465 - accuracy: 0.6931 - val_loss: 0.5404 - val_accuracy: 0.7613\n",
      "Epoch 11/50\n",
      "71/71 [==============================] - 0s 2ms/step - loss: 0.2467 - accuracy: 0.6982 - val_loss: 0.5442 - val_accuracy: 0.7578\n",
      "Epoch 12/50\n",
      "71/71 [==============================] - 0s 2ms/step - loss: 0.2397 - accuracy: 0.6978 - val_loss: 0.5374 - val_accuracy: 0.7516\n",
      "Epoch 00012: early stopping\n"
     ]
    },
    {
     "data": {
      "text/plain": [
       "<tensorflow.python.keras.callbacks.History at 0x26dc9ab2e88>"
      ]
     },
     "execution_count": 101,
     "metadata": {},
     "output_type": "execute_result"
    }
   ],
   "source": [
    "model.fit(X_train, y_train,\n",
    "              epochs=50,\n",
    "          batch_size=64, class_weight={0:0.25, 1:0.75},validation_split=0.2,callbacks=callbacks)"
   ]
  },
  {
   "cell_type": "code",
   "execution_count": 102,
   "metadata": {},
   "outputs": [],
   "source": [
    "train_pred_6=model.predict_classes(X_train)\n",
    "test_pred_6=model.predict_classes(X_test)"
   ]
  },
  {
   "cell_type": "code",
   "execution_count": 103,
   "metadata": {},
   "outputs": [
    {
     "name": "stdout",
     "output_type": "stream",
     "text": [
      "\n",
      "             ========================================\n",
      "               CLASSIFICATION REPORT FOR TRAIN DATA\n",
      "             ========================================\n",
      "        \n",
      "              precision    recall  f1-score   support\n",
      "\n",
      "           0     0.9090    0.7236    0.8058      4139\n",
      "           1     0.5109    0.7993    0.6234      1495\n",
      "\n",
      "    accuracy                         0.7437      5634\n",
      "   macro avg     0.7099    0.7615    0.7146      5634\n",
      "weighted avg     0.8033    0.7437    0.7574      5634\n",
      "\n",
      "\n",
      "             =========================================\n",
      "               CLASSIFICATION REPORT FOR TEST DATA\n",
      "             =========================================\n",
      "            \n",
      "              precision    recall  f1-score   support\n",
      "\n",
      "           0     0.9069    0.7246    0.8056      1035\n",
      "           1     0.5103    0.7941    0.6213       374\n",
      "\n",
      "    accuracy                         0.7431      1409\n",
      "   macro avg     0.7086    0.7594    0.7135      1409\n",
      "weighted avg     0.8016    0.7431    0.7567      1409\n",
      "\n",
      "\n",
      " ========================================\n",
      "   Confusion Matrix FOR TRAIN DATA\n",
      " ========================================\n",
      "            \n",
      "[[2995 1144]\n",
      " [ 300 1195]]\n",
      "\n",
      " =========================================\n",
      "   Confusion matrix FOR TEST DATA\n",
      " =========================================\n",
      "            \n",
      "[[750 285]\n",
      " [ 77 297]]\n"
     ]
    }
   ],
   "source": [
    "get_CR_CM(y_train, train_pred_6, y_test, test_pred_6)"
   ]
  },
  {
   "cell_type": "code",
   "execution_count": 104,
   "metadata": {
    "scrolled": false
   },
   "outputs": [
    {
     "name": "stdout",
     "output_type": "stream",
     "text": [
      "\n",
      " ========================================\n",
      "           ACCURACY FOR TRAIN DATA\n",
      " ========================================\n",
      "        \n",
      "          0.7436989705360313\n",
      "\n",
      " =========================================\n",
      "           ACCURACY FOR TEST DATA\n",
      " =========================================\n",
      "            \n",
      "          0.7430801987224982\n",
      "\n",
      " ========================================\n",
      "           RECALL FOR TRAIN DATA\n",
      " ========================================\n",
      "            \n",
      "          0.7993311036789298\n",
      "\n",
      " =========================================\n",
      "           RECALL FOR TEST DATA\n",
      " =========================================\n",
      "            \n",
      "          0.7941176470588235\n"
     ]
    }
   ],
   "source": [
    "get_ACCURACY_RECALL(y_train, train_pred_6, y_test, test_pred_6)"
   ]
  },
  {
   "cell_type": "code",
   "execution_count": 105,
   "metadata": {},
   "outputs": [
    {
     "data": {
      "text/html": [
       "<div>\n",
       "<style scoped>\n",
       "    .dataframe tbody tr th:only-of-type {\n",
       "        vertical-align: middle;\n",
       "    }\n",
       "\n",
       "    .dataframe tbody tr th {\n",
       "        vertical-align: top;\n",
       "    }\n",
       "\n",
       "    .dataframe thead th {\n",
       "        text-align: right;\n",
       "    }\n",
       "</style>\n",
       "<table border=\"1\" class=\"dataframe\">\n",
       "  <thead>\n",
       "    <tr style=\"text-align: right;\">\n",
       "      <th></th>\n",
       "      <th>Model</th>\n",
       "      <th>Train_Accuracy</th>\n",
       "      <th>Train_Recall</th>\n",
       "      <th>Train_Precision</th>\n",
       "      <th>Train_F1_Score</th>\n",
       "      <th>Test_Accuracy</th>\n",
       "      <th>Test_Recall</th>\n",
       "      <th>Test_Precision</th>\n",
       "      <th>Test_F1_Score</th>\n",
       "    </tr>\n",
       "  </thead>\n",
       "  <tbody>\n",
       "    <tr>\n",
       "      <th>0</th>\n",
       "      <td>1 layer model</td>\n",
       "      <td>0.806887</td>\n",
       "      <td>0.543813</td>\n",
       "      <td>0.666940</td>\n",
       "      <td>0.599116</td>\n",
       "      <td>0.805536</td>\n",
       "      <td>0.542781</td>\n",
       "      <td>0.663399</td>\n",
       "      <td>0.597059</td>\n",
       "    </tr>\n",
       "    <tr>\n",
       "      <th>1</th>\n",
       "      <td>2 layer model - experiment 1</td>\n",
       "      <td>0.803869</td>\n",
       "      <td>0.552508</td>\n",
       "      <td>0.654517</td>\n",
       "      <td>0.599202</td>\n",
       "      <td>0.806955</td>\n",
       "      <td>0.553476</td>\n",
       "      <td>0.663462</td>\n",
       "      <td>0.603499</td>\n",
       "    </tr>\n",
       "    <tr>\n",
       "      <th>2</th>\n",
       "      <td>2 layer model - experiment 2</td>\n",
       "      <td>0.813099</td>\n",
       "      <td>0.455518</td>\n",
       "      <td>0.740217</td>\n",
       "      <td>0.563975</td>\n",
       "      <td>0.797019</td>\n",
       "      <td>0.419786</td>\n",
       "      <td>0.694690</td>\n",
       "      <td>0.523333</td>\n",
       "    </tr>\n",
       "    <tr>\n",
       "      <th>3</th>\n",
       "      <td>2 layer model with dropout</td>\n",
       "      <td>0.808307</td>\n",
       "      <td>0.553177</td>\n",
       "      <td>0.667474</td>\n",
       "      <td>0.604974</td>\n",
       "      <td>0.798439</td>\n",
       "      <td>0.526738</td>\n",
       "      <td>0.648026</td>\n",
       "      <td>0.581121</td>\n",
       "    </tr>\n",
       "    <tr>\n",
       "      <th>4</th>\n",
       "      <td>2 layer model with dropout with L2 regularizer</td>\n",
       "      <td>0.811857</td>\n",
       "      <td>0.559866</td>\n",
       "      <td>0.675545</td>\n",
       "      <td>0.612290</td>\n",
       "      <td>0.800568</td>\n",
       "      <td>0.529412</td>\n",
       "      <td>0.653465</td>\n",
       "      <td>0.584934</td>\n",
       "    </tr>\n",
       "    <tr>\n",
       "      <th>5</th>\n",
       "      <td>2 layer model with dropout and class weight</td>\n",
       "      <td>0.731807</td>\n",
       "      <td>0.841472</td>\n",
       "      <td>0.496840</td>\n",
       "      <td>0.624783</td>\n",
       "      <td>0.731725</td>\n",
       "      <td>0.834225</td>\n",
       "      <td>0.496815</td>\n",
       "      <td>0.622754</td>\n",
       "    </tr>\n",
       "    <tr>\n",
       "      <th>6</th>\n",
       "      <td>2 layer model with dropout with L1 regularizer</td>\n",
       "      <td>0.743699</td>\n",
       "      <td>0.799331</td>\n",
       "      <td>0.510902</td>\n",
       "      <td>0.623370</td>\n",
       "      <td>0.743080</td>\n",
       "      <td>0.794118</td>\n",
       "      <td>0.510309</td>\n",
       "      <td>0.621339</td>\n",
       "    </tr>\n",
       "  </tbody>\n",
       "</table>\n",
       "</div>"
      ],
      "text/plain": [
       "                                            Model  Train_Accuracy  \\\n",
       "0                                   1 layer model        0.806887   \n",
       "1                    2 layer model - experiment 1        0.803869   \n",
       "2                    2 layer model - experiment 2        0.813099   \n",
       "3                      2 layer model with dropout        0.808307   \n",
       "4  2 layer model with dropout with L2 regularizer        0.811857   \n",
       "5     2 layer model with dropout and class weight        0.731807   \n",
       "6  2 layer model with dropout with L1 regularizer        0.743699   \n",
       "\n",
       "   Train_Recall  Train_Precision  Train_F1_Score  Test_Accuracy  Test_Recall  \\\n",
       "0      0.543813         0.666940        0.599116       0.805536     0.542781   \n",
       "1      0.552508         0.654517        0.599202       0.806955     0.553476   \n",
       "2      0.455518         0.740217        0.563975       0.797019     0.419786   \n",
       "3      0.553177         0.667474        0.604974       0.798439     0.526738   \n",
       "4      0.559866         0.675545        0.612290       0.800568     0.529412   \n",
       "5      0.841472         0.496840        0.624783       0.731725     0.834225   \n",
       "6      0.799331         0.510902        0.623370       0.743080     0.794118   \n",
       "\n",
       "   Test_Precision  Test_F1_Score  \n",
       "0        0.663399       0.597059  \n",
       "1        0.663462       0.603499  \n",
       "2        0.694690       0.523333  \n",
       "3        0.648026       0.581121  \n",
       "4        0.653465       0.584934  \n",
       "5        0.496815       0.622754  \n",
       "6        0.510309       0.621339  "
      ]
     },
     "execution_count": 105,
     "metadata": {},
     "output_type": "execute_result"
    }
   ],
   "source": [
    "scores = get_metrics(y_train,train_pred_6,y_test,test_pred_6,\"2 layer model with dropout with L1 regularizer\",scores)\n",
    "scores"
   ]
  },
  {
   "cell_type": "markdown",
   "metadata": {},
   "source": [
    "# Model 7"
   ]
  },
  {
   "cell_type": "markdown",
   "metadata": {},
   "source": [
    "## MLP using features from AutoEncoders"
   ]
  },
  {
   "cell_type": "code",
   "execution_count": 106,
   "metadata": {},
   "outputs": [],
   "source": [
    "encoding_dim  = 16 #8,12, 16, 20\n",
    "# this is our input placeholder\n",
    "input_data = Input(shape=(input_shape,))\n",
    "\n",
    "# \"encoded\" is the encoded representation of the input\n",
    "encoded = Dense(encoding_dim, activation='relu')(input_data)\n",
    "\n",
    "# \"decoded\" is the lossy reconstruction of the input\n",
    "decoded = Dense(input_shape, activation='sigmoid')(encoded)\n",
    "\n",
    "# this model maps an input to its reconstruction\n",
    "autoencoder = Model(inputs=input_data, outputs=decoded)"
   ]
  },
  {
   "cell_type": "code",
   "execution_count": 107,
   "metadata": {},
   "outputs": [],
   "source": [
    "autoencoder.compile(optimizer='adam', loss='mse')"
   ]
  },
  {
   "cell_type": "code",
   "execution_count": 108,
   "metadata": {
    "scrolled": true
   },
   "outputs": [
    {
     "name": "stdout",
     "output_type": "stream",
     "text": [
      "Epoch 1/50\n",
      "89/89 [==============================] - 0s 2ms/step - loss: 0.2984 - val_loss: 0.2483\n",
      "Epoch 2/50\n",
      "89/89 [==============================] - 0s 1ms/step - loss: 0.2160 - val_loss: 0.1905\n",
      "Epoch 3/50\n",
      "89/89 [==============================] - 0s 1ms/step - loss: 0.1726 - val_loss: 0.1570\n",
      "Epoch 4/50\n",
      "89/89 [==============================] - 0s 1ms/step - loss: 0.1444 - val_loss: 0.1336\n",
      "Epoch 5/50\n",
      "89/89 [==============================] - 0s 1ms/step - loss: 0.1238 - val_loss: 0.1155\n",
      "Epoch 6/50\n",
      "89/89 [==============================] - 0s 1ms/step - loss: 0.1077 - val_loss: 0.1014\n",
      "Epoch 7/50\n",
      "89/89 [==============================] - 0s 1ms/step - loss: 0.0950 - val_loss: 0.0901\n",
      "Epoch 8/50\n",
      "89/89 [==============================] - 0s 1ms/step - loss: 0.0849 - val_loss: 0.0808\n",
      "Epoch 9/50\n",
      "89/89 [==============================] - 0s 1ms/step - loss: 0.0766 - val_loss: 0.0734\n",
      "Epoch 10/50\n",
      "89/89 [==============================] - 0s 1ms/step - loss: 0.0701 - val_loss: 0.0677\n",
      "Epoch 11/50\n",
      "89/89 [==============================] - 0s 1ms/step - loss: 0.0651 - val_loss: 0.0632\n",
      "Epoch 12/50\n",
      "89/89 [==============================] - 0s 1ms/step - loss: 0.0613 - val_loss: 0.0599\n",
      "Epoch 13/50\n",
      "89/89 [==============================] - 0s 1ms/step - loss: 0.0583 - val_loss: 0.0573\n",
      "Epoch 14/50\n",
      "89/89 [==============================] - 0s 1ms/step - loss: 0.0560 - val_loss: 0.0552\n",
      "Epoch 15/50\n",
      "89/89 [==============================] - 0s 1ms/step - loss: 0.0542 - val_loss: 0.0535\n",
      "Epoch 16/50\n",
      "89/89 [==============================] - 0s 1ms/step - loss: 0.0527 - val_loss: 0.0522\n",
      "Epoch 17/50\n",
      "89/89 [==============================] - 0s 1ms/step - loss: 0.0514 - val_loss: 0.0509\n",
      "Epoch 18/50\n",
      "89/89 [==============================] - 0s 1ms/step - loss: 0.0503 - val_loss: 0.0499\n",
      "Epoch 19/50\n",
      "89/89 [==============================] - 0s 1ms/step - loss: 0.0493 - val_loss: 0.0490\n",
      "Epoch 20/50\n",
      "89/89 [==============================] - 0s 1ms/step - loss: 0.0484 - val_loss: 0.0481\n",
      "Epoch 21/50\n",
      "89/89 [==============================] - 0s 1ms/step - loss: 0.0477 - val_loss: 0.0474\n",
      "Epoch 22/50\n",
      "89/89 [==============================] - 0s 1ms/step - loss: 0.0470 - val_loss: 0.0468\n",
      "Epoch 23/50\n",
      "89/89 [==============================] - 0s 1ms/step - loss: 0.0464 - val_loss: 0.0463\n",
      "Epoch 24/50\n",
      "89/89 [==============================] - 0s 1ms/step - loss: 0.0459 - val_loss: 0.0458\n",
      "Epoch 25/50\n",
      "89/89 [==============================] - 0s 1ms/step - loss: 0.0455 - val_loss: 0.0454\n",
      "Epoch 26/50\n",
      "89/89 [==============================] - 0s 1ms/step - loss: 0.0452 - val_loss: 0.0451\n",
      "Epoch 27/50\n",
      "89/89 [==============================] - 0s 1ms/step - loss: 0.0448 - val_loss: 0.0448\n",
      "Epoch 28/50\n",
      "89/89 [==============================] - 0s 1ms/step - loss: 0.0446 - val_loss: 0.0445\n",
      "Epoch 29/50\n",
      "89/89 [==============================] - 0s 1ms/step - loss: 0.0443 - val_loss: 0.0442\n",
      "Epoch 30/50\n",
      "89/89 [==============================] - 0s 1ms/step - loss: 0.0441 - val_loss: 0.0440\n",
      "Epoch 31/50\n",
      "89/89 [==============================] - 0s 1ms/step - loss: 0.0439 - val_loss: 0.0438\n",
      "Epoch 32/50\n",
      "89/89 [==============================] - 0s 1ms/step - loss: 0.0437 - val_loss: 0.0436\n",
      "Epoch 33/50\n",
      "89/89 [==============================] - 0s 1ms/step - loss: 0.0435 - val_loss: 0.0434\n",
      "Epoch 34/50\n",
      "89/89 [==============================] - 0s 1ms/step - loss: 0.0433 - val_loss: 0.0433\n",
      "Epoch 00034: early stopping\n"
     ]
    },
    {
     "data": {
      "text/plain": [
       "<tensorflow.python.keras.callbacks.History at 0x26dcac3f108>"
      ]
     },
     "execution_count": 108,
     "metadata": {},
     "output_type": "execute_result"
    }
   ],
   "source": [
    "autoencoder.fit(X_train, X_train,\n",
    "                epochs=50,\n",
    "                batch_size=64,\n",
    "                shuffle=True,\n",
    "                validation_data=(X_test, X_test), callbacks=callbacks)"
   ]
  },
  {
   "cell_type": "code",
   "execution_count": 109,
   "metadata": {},
   "outputs": [],
   "source": [
    "# this model maps an input to its encoded representation\n",
    "encoder = Model(inputs=input_data, outputs=encoded)"
   ]
  },
  {
   "cell_type": "code",
   "execution_count": 110,
   "metadata": {},
   "outputs": [],
   "source": [
    "x_train_encoded = encoder.predict(X_train)\n",
    "x_test_encoded = encoder.predict(X_test)"
   ]
  },
  {
   "cell_type": "code",
   "execution_count": 111,
   "metadata": {},
   "outputs": [
    {
     "data": {
      "text/plain": [
       "(5634, 16)"
      ]
     },
     "execution_count": 111,
     "metadata": {},
     "output_type": "execute_result"
    }
   ],
   "source": [
    "x_train_encoded.shape"
   ]
  },
  {
   "cell_type": "code",
   "execution_count": 112,
   "metadata": {},
   "outputs": [],
   "source": [
    "model = Sequential()\n",
    "\n",
    "model.add(Dense(64, input_dim = encoding_dim, kernel_initializer='glorot_normal', activation='relu'))\n",
    "model.add(Dense(32, activation='relu'))\n",
    "model.add(Dense(1, kernel_initializer='glorot_normal', activation='sigmoid'))"
   ]
  },
  {
   "cell_type": "code",
   "execution_count": 113,
   "metadata": {},
   "outputs": [
    {
     "name": "stdout",
     "output_type": "stream",
     "text": [
      "Model: \"sequential_7\"\n",
      "_________________________________________________________________\n",
      "Layer (type)                 Output Shape              Param #   \n",
      "=================================================================\n",
      "dense_22 (Dense)             (None, 64)                1088      \n",
      "_________________________________________________________________\n",
      "dense_23 (Dense)             (None, 32)                2080      \n",
      "_________________________________________________________________\n",
      "dense_24 (Dense)             (None, 1)                 33        \n",
      "=================================================================\n",
      "Total params: 3,201\n",
      "Trainable params: 3,201\n",
      "Non-trainable params: 0\n",
      "_________________________________________________________________\n"
     ]
    }
   ],
   "source": [
    "model.summary()"
   ]
  },
  {
   "cell_type": "code",
   "execution_count": 114,
   "metadata": {},
   "outputs": [],
   "source": [
    "model.compile(loss='binary_crossentropy',\n",
    "              optimizer='Adam',\n",
    "              metrics=['accuracy'])"
   ]
  },
  {
   "cell_type": "code",
   "execution_count": 115,
   "metadata": {
    "scrolled": true
   },
   "outputs": [
    {
     "name": "stdout",
     "output_type": "stream",
     "text": [
      "Epoch 1/50\n",
      "71/71 [==============================] - ETA: 0s - loss: 0.5384 - accuracy: 0.72 - 0s 3ms/step - loss: 0.5134 - accuracy: 0.7435 - val_loss: 0.4270 - val_accuracy: 0.7933\n",
      "Epoch 2/50\n",
      "71/71 [==============================] - 0s 1ms/step - loss: 0.4397 - accuracy: 0.7859 - val_loss: 0.4430 - val_accuracy: 0.7950\n",
      "Epoch 3/50\n",
      "71/71 [==============================] - 0s 1ms/step - loss: 0.4363 - accuracy: 0.7819 - val_loss: 0.4400 - val_accuracy: 0.7906\n",
      "Epoch 4/50\n",
      "71/71 [==============================] - 0s 1ms/step - loss: 0.4282 - accuracy: 0.7939 - val_loss: 0.4095 - val_accuracy: 0.8119\n",
      "Epoch 5/50\n",
      "71/71 [==============================] - 0s 1ms/step - loss: 0.4262 - accuracy: 0.7996 - val_loss: 0.4147 - val_accuracy: 0.8128\n",
      "Epoch 6/50\n",
      "71/71 [==============================] - 0s 1ms/step - loss: 0.4245 - accuracy: 0.7959 - val_loss: 0.4184 - val_accuracy: 0.8083\n",
      "Epoch 7/50\n",
      "71/71 [==============================] - 0s 1ms/step - loss: 0.4230 - accuracy: 0.7974 - val_loss: 0.4146 - val_accuracy: 0.8030\n",
      "Epoch 8/50\n",
      "71/71 [==============================] - 0s 1ms/step - loss: 0.4255 - accuracy: 0.7974 - val_loss: 0.4280 - val_accuracy: 0.8066\n",
      "Epoch 9/50\n",
      "71/71 [==============================] - 0s 1ms/step - loss: 0.4251 - accuracy: 0.7961 - val_loss: 0.4305 - val_accuracy: 0.8021\n",
      "Epoch 00009: early stopping\n"
     ]
    },
    {
     "data": {
      "text/plain": [
       "<tensorflow.python.keras.callbacks.History at 0x26dcad8e048>"
      ]
     },
     "execution_count": 115,
     "metadata": {},
     "output_type": "execute_result"
    }
   ],
   "source": [
    "model.fit(x_train_encoded, y_train, batch_size=64, epochs=50,validation_split=0.2,callbacks=callbacks)"
   ]
  },
  {
   "cell_type": "code",
   "execution_count": 116,
   "metadata": {},
   "outputs": [],
   "source": [
    "train_pred_7=model.predict_classes(x_train_encoded)\n",
    "test_pred_7=model.predict_classes(x_test_encoded)"
   ]
  },
  {
   "cell_type": "code",
   "execution_count": 117,
   "metadata": {},
   "outputs": [
    {
     "name": "stdout",
     "output_type": "stream",
     "text": [
      "\n",
      "             ========================================\n",
      "               CLASSIFICATION REPORT FOR TRAIN DATA\n",
      "             ========================================\n",
      "        \n",
      "              precision    recall  f1-score   support\n",
      "\n",
      "           0     0.8627    0.8649    0.8638      4139\n",
      "           1     0.6233    0.6187    0.6210      1495\n",
      "\n",
      "    accuracy                         0.7996      5634\n",
      "   macro avg     0.7430    0.7418    0.7424      5634\n",
      "weighted avg     0.7991    0.7996    0.7994      5634\n",
      "\n",
      "\n",
      "             =========================================\n",
      "               CLASSIFICATION REPORT FOR TEST DATA\n",
      "             =========================================\n",
      "            \n",
      "              precision    recall  f1-score   support\n",
      "\n",
      "           0     0.8574    0.8541    0.8558      1035\n",
      "           1     0.6005    0.6070    0.6037       374\n",
      "\n",
      "    accuracy                         0.7885      1409\n",
      "   macro avg     0.7290    0.7305    0.7297      1409\n",
      "weighted avg     0.7892    0.7885    0.7889      1409\n",
      "\n",
      "\n",
      " ========================================\n",
      "   Confusion Matrix FOR TRAIN DATA\n",
      " ========================================\n",
      "            \n",
      "[[3580  559]\n",
      " [ 570  925]]\n",
      "\n",
      " =========================================\n",
      "   Confusion matrix FOR TEST DATA\n",
      " =========================================\n",
      "            \n",
      "[[884 151]\n",
      " [147 227]]\n"
     ]
    }
   ],
   "source": [
    "get_CR_CM(y_train, train_pred_7, y_test, test_pred_7)"
   ]
  },
  {
   "cell_type": "code",
   "execution_count": 118,
   "metadata": {},
   "outputs": [
    {
     "name": "stdout",
     "output_type": "stream",
     "text": [
      "\n",
      " ========================================\n",
      "           ACCURACY FOR TRAIN DATA\n",
      " ========================================\n",
      "        \n",
      "          0.7996095136670217\n",
      "\n",
      " =========================================\n",
      "           ACCURACY FOR TEST DATA\n",
      " =========================================\n",
      "            \n",
      "          0.7885024840312278\n",
      "\n",
      " ========================================\n",
      "           RECALL FOR TRAIN DATA\n",
      " ========================================\n",
      "            \n",
      "          0.6187290969899666\n",
      "\n",
      " =========================================\n",
      "           RECALL FOR TEST DATA\n",
      " =========================================\n",
      "            \n",
      "          0.606951871657754\n"
     ]
    }
   ],
   "source": [
    "get_ACCURACY_RECALL(y_train, train_pred_7, y_test, test_pred_7)"
   ]
  },
  {
   "cell_type": "code",
   "execution_count": 119,
   "metadata": {},
   "outputs": [
    {
     "data": {
      "text/html": [
       "<div>\n",
       "<style scoped>\n",
       "    .dataframe tbody tr th:only-of-type {\n",
       "        vertical-align: middle;\n",
       "    }\n",
       "\n",
       "    .dataframe tbody tr th {\n",
       "        vertical-align: top;\n",
       "    }\n",
       "\n",
       "    .dataframe thead th {\n",
       "        text-align: right;\n",
       "    }\n",
       "</style>\n",
       "<table border=\"1\" class=\"dataframe\">\n",
       "  <thead>\n",
       "    <tr style=\"text-align: right;\">\n",
       "      <th></th>\n",
       "      <th>Model</th>\n",
       "      <th>Train_Accuracy</th>\n",
       "      <th>Train_Recall</th>\n",
       "      <th>Train_Precision</th>\n",
       "      <th>Train_F1_Score</th>\n",
       "      <th>Test_Accuracy</th>\n",
       "      <th>Test_Recall</th>\n",
       "      <th>Test_Precision</th>\n",
       "      <th>Test_F1_Score</th>\n",
       "    </tr>\n",
       "  </thead>\n",
       "  <tbody>\n",
       "    <tr>\n",
       "      <th>0</th>\n",
       "      <td>1 layer model</td>\n",
       "      <td>0.806887</td>\n",
       "      <td>0.543813</td>\n",
       "      <td>0.666940</td>\n",
       "      <td>0.599116</td>\n",
       "      <td>0.805536</td>\n",
       "      <td>0.542781</td>\n",
       "      <td>0.663399</td>\n",
       "      <td>0.597059</td>\n",
       "    </tr>\n",
       "    <tr>\n",
       "      <th>1</th>\n",
       "      <td>2 layer model - experiment 1</td>\n",
       "      <td>0.803869</td>\n",
       "      <td>0.552508</td>\n",
       "      <td>0.654517</td>\n",
       "      <td>0.599202</td>\n",
       "      <td>0.806955</td>\n",
       "      <td>0.553476</td>\n",
       "      <td>0.663462</td>\n",
       "      <td>0.603499</td>\n",
       "    </tr>\n",
       "    <tr>\n",
       "      <th>2</th>\n",
       "      <td>2 layer model - experiment 2</td>\n",
       "      <td>0.813099</td>\n",
       "      <td>0.455518</td>\n",
       "      <td>0.740217</td>\n",
       "      <td>0.563975</td>\n",
       "      <td>0.797019</td>\n",
       "      <td>0.419786</td>\n",
       "      <td>0.694690</td>\n",
       "      <td>0.523333</td>\n",
       "    </tr>\n",
       "    <tr>\n",
       "      <th>3</th>\n",
       "      <td>2 layer model with dropout</td>\n",
       "      <td>0.808307</td>\n",
       "      <td>0.553177</td>\n",
       "      <td>0.667474</td>\n",
       "      <td>0.604974</td>\n",
       "      <td>0.798439</td>\n",
       "      <td>0.526738</td>\n",
       "      <td>0.648026</td>\n",
       "      <td>0.581121</td>\n",
       "    </tr>\n",
       "    <tr>\n",
       "      <th>4</th>\n",
       "      <td>2 layer model with dropout with L2 regularizer</td>\n",
       "      <td>0.811857</td>\n",
       "      <td>0.559866</td>\n",
       "      <td>0.675545</td>\n",
       "      <td>0.612290</td>\n",
       "      <td>0.800568</td>\n",
       "      <td>0.529412</td>\n",
       "      <td>0.653465</td>\n",
       "      <td>0.584934</td>\n",
       "    </tr>\n",
       "    <tr>\n",
       "      <th>5</th>\n",
       "      <td>2 layer model with dropout and class weight</td>\n",
       "      <td>0.731807</td>\n",
       "      <td>0.841472</td>\n",
       "      <td>0.496840</td>\n",
       "      <td>0.624783</td>\n",
       "      <td>0.731725</td>\n",
       "      <td>0.834225</td>\n",
       "      <td>0.496815</td>\n",
       "      <td>0.622754</td>\n",
       "    </tr>\n",
       "    <tr>\n",
       "      <th>6</th>\n",
       "      <td>2 layer model with dropout with L1 regularizer</td>\n",
       "      <td>0.743699</td>\n",
       "      <td>0.799331</td>\n",
       "      <td>0.510902</td>\n",
       "      <td>0.623370</td>\n",
       "      <td>0.743080</td>\n",
       "      <td>0.794118</td>\n",
       "      <td>0.510309</td>\n",
       "      <td>0.621339</td>\n",
       "    </tr>\n",
       "    <tr>\n",
       "      <th>7</th>\n",
       "      <td>autoencoder with 2 layer model</td>\n",
       "      <td>0.799610</td>\n",
       "      <td>0.618729</td>\n",
       "      <td>0.623315</td>\n",
       "      <td>0.621014</td>\n",
       "      <td>0.788502</td>\n",
       "      <td>0.606952</td>\n",
       "      <td>0.600529</td>\n",
       "      <td>0.603723</td>\n",
       "    </tr>\n",
       "  </tbody>\n",
       "</table>\n",
       "</div>"
      ],
      "text/plain": [
       "                                            Model  Train_Accuracy  \\\n",
       "0                                   1 layer model        0.806887   \n",
       "1                    2 layer model - experiment 1        0.803869   \n",
       "2                    2 layer model - experiment 2        0.813099   \n",
       "3                      2 layer model with dropout        0.808307   \n",
       "4  2 layer model with dropout with L2 regularizer        0.811857   \n",
       "5     2 layer model with dropout and class weight        0.731807   \n",
       "6  2 layer model with dropout with L1 regularizer        0.743699   \n",
       "7                  autoencoder with 2 layer model        0.799610   \n",
       "\n",
       "   Train_Recall  Train_Precision  Train_F1_Score  Test_Accuracy  Test_Recall  \\\n",
       "0      0.543813         0.666940        0.599116       0.805536     0.542781   \n",
       "1      0.552508         0.654517        0.599202       0.806955     0.553476   \n",
       "2      0.455518         0.740217        0.563975       0.797019     0.419786   \n",
       "3      0.553177         0.667474        0.604974       0.798439     0.526738   \n",
       "4      0.559866         0.675545        0.612290       0.800568     0.529412   \n",
       "5      0.841472         0.496840        0.624783       0.731725     0.834225   \n",
       "6      0.799331         0.510902        0.623370       0.743080     0.794118   \n",
       "7      0.618729         0.623315        0.621014       0.788502     0.606952   \n",
       "\n",
       "   Test_Precision  Test_F1_Score  \n",
       "0        0.663399       0.597059  \n",
       "1        0.663462       0.603499  \n",
       "2        0.694690       0.523333  \n",
       "3        0.648026       0.581121  \n",
       "4        0.653465       0.584934  \n",
       "5        0.496815       0.622754  \n",
       "6        0.510309       0.621339  \n",
       "7        0.600529       0.603723  "
      ]
     },
     "execution_count": 119,
     "metadata": {},
     "output_type": "execute_result"
    }
   ],
   "source": [
    "scores = get_metrics(y_train,train_pred_7,y_test,test_pred_7,\"autoencoder with 2 layer model\",scores)\n",
    "scores"
   ]
  },
  {
   "cell_type": "markdown",
   "metadata": {},
   "source": [
    "# Autoencoders with class weight"
   ]
  },
  {
   "cell_type": "code",
   "execution_count": 120,
   "metadata": {},
   "outputs": [
    {
     "name": "stdout",
     "output_type": "stream",
     "text": [
      "Model: \"sequential_7\"\n",
      "_________________________________________________________________\n",
      "Layer (type)                 Output Shape              Param #   \n",
      "=================================================================\n",
      "dense_22 (Dense)             (None, 64)                1088      \n",
      "_________________________________________________________________\n",
      "dense_23 (Dense)             (None, 32)                2080      \n",
      "_________________________________________________________________\n",
      "dense_24 (Dense)             (None, 1)                 33        \n",
      "=================================================================\n",
      "Total params: 3,201\n",
      "Trainable params: 3,201\n",
      "Non-trainable params: 0\n",
      "_________________________________________________________________\n"
     ]
    }
   ],
   "source": [
    "model.summary()"
   ]
  },
  {
   "cell_type": "code",
   "execution_count": 121,
   "metadata": {
    "scrolled": true
   },
   "outputs": [
    {
     "name": "stdout",
     "output_type": "stream",
     "text": [
      "Epoch 1/50\n",
      "71/71 [==============================] - 0s 2ms/step - loss: 0.1858 - accuracy: 0.7280 - val_loss: 0.5586 - val_accuracy: 0.6868\n",
      "Epoch 2/50\n",
      "71/71 [==============================] - 0s 2ms/step - loss: 0.1830 - accuracy: 0.7411 - val_loss: 0.5723 - val_accuracy: 0.6735\n",
      "Epoch 3/50\n",
      "71/71 [==============================] - 0s 2ms/step - loss: 0.1838 - accuracy: 0.7373 - val_loss: 0.5387 - val_accuracy: 0.7098\n",
      "Epoch 4/50\n",
      "71/71 [==============================] - 0s 2ms/step - loss: 0.1825 - accuracy: 0.7404 - val_loss: 0.5484 - val_accuracy: 0.7028\n",
      "Epoch 5/50\n",
      "71/71 [==============================] - 0s 2ms/step - loss: 0.1818 - accuracy: 0.7384 - val_loss: 0.5273 - val_accuracy: 0.7240\n",
      "Epoch 6/50\n",
      "71/71 [==============================] - 0s 2ms/step - loss: 0.1815 - accuracy: 0.7417 - val_loss: 0.5599 - val_accuracy: 0.6877\n",
      "Epoch 7/50\n",
      "71/71 [==============================] - 0s 2ms/step - loss: 0.1811 - accuracy: 0.7364 - val_loss: 0.4809 - val_accuracy: 0.7631\n",
      "Epoch 8/50\n",
      "71/71 [==============================] - 0s 2ms/step - loss: 0.1829 - accuracy: 0.7402 - val_loss: 0.5884 - val_accuracy: 0.6708\n",
      "Epoch 9/50\n",
      "71/71 [==============================] - 0s 2ms/step - loss: 0.1828 - accuracy: 0.7386 - val_loss: 0.5309 - val_accuracy: 0.7187\n",
      "Epoch 10/50\n",
      "71/71 [==============================] - 0s 2ms/step - loss: 0.1808 - accuracy: 0.7380 - val_loss: 0.5955 - val_accuracy: 0.6673\n",
      "Epoch 11/50\n",
      "71/71 [==============================] - 0s 2ms/step - loss: 0.1807 - accuracy: 0.7428 - val_loss: 0.5142 - val_accuracy: 0.7427\n",
      "Epoch 12/50\n",
      "71/71 [==============================] - 0s 2ms/step - loss: 0.1803 - accuracy: 0.7453 - val_loss: 0.4832 - val_accuracy: 0.7684\n",
      "Epoch 00012: early stopping\n"
     ]
    },
    {
     "data": {
      "text/plain": [
       "<tensorflow.python.keras.callbacks.History at 0x26dcbeb0ec8>"
      ]
     },
     "execution_count": 121,
     "metadata": {},
     "output_type": "execute_result"
    }
   ],
   "source": [
    "model.fit(x_train_encoded, y_train, batch_size=64, epochs=50, class_weight={0:0.25, 1:0.75},validation_split=0.2,callbacks=callbacks)"
   ]
  },
  {
   "cell_type": "code",
   "execution_count": 122,
   "metadata": {},
   "outputs": [],
   "source": [
    "train_pred_8=model.predict_classes(x_train_encoded)\n",
    "test_pred_8=model.predict_classes(x_test_encoded)"
   ]
  },
  {
   "cell_type": "code",
   "execution_count": 123,
   "metadata": {},
   "outputs": [
    {
     "name": "stdout",
     "output_type": "stream",
     "text": [
      "\n",
      "             ========================================\n",
      "               CLASSIFICATION REPORT FOR TRAIN DATA\n",
      "             ========================================\n",
      "        \n",
      "              precision    recall  f1-score   support\n",
      "\n",
      "           0     0.9074    0.7652    0.8303      4139\n",
      "           1     0.5466    0.7839    0.6441      1495\n",
      "\n",
      "    accuracy                         0.7701      5634\n",
      "   macro avg     0.7270    0.7746    0.7372      5634\n",
      "weighted avg     0.8117    0.7701    0.7809      5634\n",
      "\n",
      "\n",
      "             =========================================\n",
      "               CLASSIFICATION REPORT FOR TEST DATA\n",
      "             =========================================\n",
      "            \n",
      "              precision    recall  f1-score   support\n",
      "\n",
      "           0     0.9019    0.7643    0.8274      1035\n",
      "           1     0.5414    0.7701    0.6358       374\n",
      "\n",
      "    accuracy                         0.7658      1409\n",
      "   macro avg     0.7216    0.7672    0.7316      1409\n",
      "weighted avg     0.8062    0.7658    0.7765      1409\n",
      "\n",
      "\n",
      " ========================================\n",
      "   Confusion Matrix FOR TRAIN DATA\n",
      " ========================================\n",
      "            \n",
      "[[3167  972]\n",
      " [ 323 1172]]\n",
      "\n",
      " =========================================\n",
      "   Confusion matrix FOR TEST DATA\n",
      " =========================================\n",
      "            \n",
      "[[791 244]\n",
      " [ 86 288]]\n"
     ]
    }
   ],
   "source": [
    "get_CR_CM(y_train, train_pred_8, y_test, test_pred_8)"
   ]
  },
  {
   "cell_type": "code",
   "execution_count": 124,
   "metadata": {},
   "outputs": [
    {
     "name": "stdout",
     "output_type": "stream",
     "text": [
      "\n",
      " ========================================\n",
      "           ACCURACY FOR TRAIN DATA\n",
      " ========================================\n",
      "        \n",
      "          0.7701455449059283\n",
      "\n",
      " =========================================\n",
      "           ACCURACY FOR TEST DATA\n",
      " =========================================\n",
      "            \n",
      "          0.765791341376863\n",
      "\n",
      " ========================================\n",
      "           RECALL FOR TRAIN DATA\n",
      " ========================================\n",
      "            \n",
      "          0.7839464882943143\n",
      "\n",
      " =========================================\n",
      "           RECALL FOR TEST DATA\n",
      " =========================================\n",
      "            \n",
      "          0.7700534759358288\n"
     ]
    }
   ],
   "source": [
    "get_ACCURACY_RECALL(y_train, train_pred_8, y_test, test_pred_8)"
   ]
  },
  {
   "cell_type": "code",
   "execution_count": 125,
   "metadata": {},
   "outputs": [
    {
     "data": {
      "text/html": [
       "<div>\n",
       "<style scoped>\n",
       "    .dataframe tbody tr th:only-of-type {\n",
       "        vertical-align: middle;\n",
       "    }\n",
       "\n",
       "    .dataframe tbody tr th {\n",
       "        vertical-align: top;\n",
       "    }\n",
       "\n",
       "    .dataframe thead th {\n",
       "        text-align: right;\n",
       "    }\n",
       "</style>\n",
       "<table border=\"1\" class=\"dataframe\">\n",
       "  <thead>\n",
       "    <tr style=\"text-align: right;\">\n",
       "      <th></th>\n",
       "      <th>Model</th>\n",
       "      <th>Train_Accuracy</th>\n",
       "      <th>Train_Recall</th>\n",
       "      <th>Train_Precision</th>\n",
       "      <th>Train_F1_Score</th>\n",
       "      <th>Test_Accuracy</th>\n",
       "      <th>Test_Recall</th>\n",
       "      <th>Test_Precision</th>\n",
       "      <th>Test_F1_Score</th>\n",
       "    </tr>\n",
       "  </thead>\n",
       "  <tbody>\n",
       "    <tr>\n",
       "      <th>0</th>\n",
       "      <td>1 layer model</td>\n",
       "      <td>0.806887</td>\n",
       "      <td>0.543813</td>\n",
       "      <td>0.666940</td>\n",
       "      <td>0.599116</td>\n",
       "      <td>0.805536</td>\n",
       "      <td>0.542781</td>\n",
       "      <td>0.663399</td>\n",
       "      <td>0.597059</td>\n",
       "    </tr>\n",
       "    <tr>\n",
       "      <th>1</th>\n",
       "      <td>2 layer model - experiment 1</td>\n",
       "      <td>0.803869</td>\n",
       "      <td>0.552508</td>\n",
       "      <td>0.654517</td>\n",
       "      <td>0.599202</td>\n",
       "      <td>0.806955</td>\n",
       "      <td>0.553476</td>\n",
       "      <td>0.663462</td>\n",
       "      <td>0.603499</td>\n",
       "    </tr>\n",
       "    <tr>\n",
       "      <th>2</th>\n",
       "      <td>2 layer model - experiment 2</td>\n",
       "      <td>0.813099</td>\n",
       "      <td>0.455518</td>\n",
       "      <td>0.740217</td>\n",
       "      <td>0.563975</td>\n",
       "      <td>0.797019</td>\n",
       "      <td>0.419786</td>\n",
       "      <td>0.694690</td>\n",
       "      <td>0.523333</td>\n",
       "    </tr>\n",
       "    <tr>\n",
       "      <th>3</th>\n",
       "      <td>2 layer model with dropout</td>\n",
       "      <td>0.808307</td>\n",
       "      <td>0.553177</td>\n",
       "      <td>0.667474</td>\n",
       "      <td>0.604974</td>\n",
       "      <td>0.798439</td>\n",
       "      <td>0.526738</td>\n",
       "      <td>0.648026</td>\n",
       "      <td>0.581121</td>\n",
       "    </tr>\n",
       "    <tr>\n",
       "      <th>4</th>\n",
       "      <td>2 layer model with dropout with L2 regularizer</td>\n",
       "      <td>0.811857</td>\n",
       "      <td>0.559866</td>\n",
       "      <td>0.675545</td>\n",
       "      <td>0.612290</td>\n",
       "      <td>0.800568</td>\n",
       "      <td>0.529412</td>\n",
       "      <td>0.653465</td>\n",
       "      <td>0.584934</td>\n",
       "    </tr>\n",
       "    <tr>\n",
       "      <th>5</th>\n",
       "      <td>2 layer model with dropout and class weight</td>\n",
       "      <td>0.731807</td>\n",
       "      <td>0.841472</td>\n",
       "      <td>0.496840</td>\n",
       "      <td>0.624783</td>\n",
       "      <td>0.731725</td>\n",
       "      <td>0.834225</td>\n",
       "      <td>0.496815</td>\n",
       "      <td>0.622754</td>\n",
       "    </tr>\n",
       "    <tr>\n",
       "      <th>6</th>\n",
       "      <td>2 layer model with dropout with L1 regularizer</td>\n",
       "      <td>0.743699</td>\n",
       "      <td>0.799331</td>\n",
       "      <td>0.510902</td>\n",
       "      <td>0.623370</td>\n",
       "      <td>0.743080</td>\n",
       "      <td>0.794118</td>\n",
       "      <td>0.510309</td>\n",
       "      <td>0.621339</td>\n",
       "    </tr>\n",
       "    <tr>\n",
       "      <th>7</th>\n",
       "      <td>autoencoder with 2 layer model</td>\n",
       "      <td>0.799610</td>\n",
       "      <td>0.618729</td>\n",
       "      <td>0.623315</td>\n",
       "      <td>0.621014</td>\n",
       "      <td>0.788502</td>\n",
       "      <td>0.606952</td>\n",
       "      <td>0.600529</td>\n",
       "      <td>0.603723</td>\n",
       "    </tr>\n",
       "    <tr>\n",
       "      <th>8</th>\n",
       "      <td>autoencoder with 2 layer model and with class ...</td>\n",
       "      <td>0.770146</td>\n",
       "      <td>0.783946</td>\n",
       "      <td>0.546642</td>\n",
       "      <td>0.644133</td>\n",
       "      <td>0.765791</td>\n",
       "      <td>0.770053</td>\n",
       "      <td>0.541353</td>\n",
       "      <td>0.635762</td>\n",
       "    </tr>\n",
       "  </tbody>\n",
       "</table>\n",
       "</div>"
      ],
      "text/plain": [
       "                                               Model  Train_Accuracy  \\\n",
       "0                                      1 layer model        0.806887   \n",
       "1                       2 layer model - experiment 1        0.803869   \n",
       "2                       2 layer model - experiment 2        0.813099   \n",
       "3                         2 layer model with dropout        0.808307   \n",
       "4     2 layer model with dropout with L2 regularizer        0.811857   \n",
       "5        2 layer model with dropout and class weight        0.731807   \n",
       "6     2 layer model with dropout with L1 regularizer        0.743699   \n",
       "7                     autoencoder with 2 layer model        0.799610   \n",
       "8  autoencoder with 2 layer model and with class ...        0.770146   \n",
       "\n",
       "   Train_Recall  Train_Precision  Train_F1_Score  Test_Accuracy  Test_Recall  \\\n",
       "0      0.543813         0.666940        0.599116       0.805536     0.542781   \n",
       "1      0.552508         0.654517        0.599202       0.806955     0.553476   \n",
       "2      0.455518         0.740217        0.563975       0.797019     0.419786   \n",
       "3      0.553177         0.667474        0.604974       0.798439     0.526738   \n",
       "4      0.559866         0.675545        0.612290       0.800568     0.529412   \n",
       "5      0.841472         0.496840        0.624783       0.731725     0.834225   \n",
       "6      0.799331         0.510902        0.623370       0.743080     0.794118   \n",
       "7      0.618729         0.623315        0.621014       0.788502     0.606952   \n",
       "8      0.783946         0.546642        0.644133       0.765791     0.770053   \n",
       "\n",
       "   Test_Precision  Test_F1_Score  \n",
       "0        0.663399       0.597059  \n",
       "1        0.663462       0.603499  \n",
       "2        0.694690       0.523333  \n",
       "3        0.648026       0.581121  \n",
       "4        0.653465       0.584934  \n",
       "5        0.496815       0.622754  \n",
       "6        0.510309       0.621339  \n",
       "7        0.600529       0.603723  \n",
       "8        0.541353       0.635762  "
      ]
     },
     "execution_count": 125,
     "metadata": {},
     "output_type": "execute_result"
    }
   ],
   "source": [
    "scores = get_metrics(y_train,train_pred_8,y_test,test_pred_8,\"autoencoder with 2 layer model and with class weight\",scores)\n",
    "scores"
   ]
  },
  {
   "cell_type": "code",
   "execution_count": null,
   "metadata": {
    "colab_type": "text",
    "id": "S_ztKGNpd50G"
   },
   "outputs": [],
   "source": []
  },
  {
   "cell_type": "code",
   "execution_count": null,
   "metadata": {},
   "outputs": [],
   "source": []
  },
  {
   "cell_type": "code",
   "execution_count": null,
   "metadata": {},
   "outputs": [],
   "source": []
  },
  {
   "cell_type": "code",
   "execution_count": null,
   "metadata": {},
   "outputs": [],
   "source": []
  }
 ],
 "metadata": {
  "anaconda-cloud": {},
  "kernelspec": {
   "display_name": "Python 3",
   "language": "python",
   "name": "python3"
  },
  "language_info": {
   "codemirror_mode": {
    "name": "ipython",
    "version": 3
   },
   "file_extension": ".py",
   "mimetype": "text/x-python",
   "name": "python",
   "nbconvert_exporter": "python",
   "pygments_lexer": "ipython3",
   "version": "3.7.6"
  }
 },
 "nbformat": 4,
 "nbformat_minor": 2
}
